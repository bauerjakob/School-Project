{
 "cells": [
  {
   "cell_type": "markdown",
   "id": "04fe55e1",
   "metadata": {},
   "source": [
    "# Chabot with Dialogflow\n",
    "\n",
    "<img src=\"./assets/images/logo.png\" width=\"300\" />\n",
    "\n",
    "[Dialogflow](https://dialogflow.cloud.google.com) ist eine Platform mit der Chabots erstellt und bearbeitet werden können.   \n",
    "<br><br>\n",
    "Es bietete dabei eine Webobefläche mit der Inhalte des Chatbots anpassen lassen.  \n",
    "Außerdem gibt es eine [Client Libary](https://github.com/googleapis/python-dialogflow) für Python, die im Rahmen dieses Projektes die Kommunikation mit Dialogflow ermöglicht."
   ]
  },
  {
   "cell_type": "code",
   "execution_count": 39,
   "id": "31bb60c1",
   "metadata": {},
   "outputs": [],
   "source": [
    "from google.cloud import dialogflow_v2 as df\n",
    "import os\n",
    "import json\n",
    "import uuid\n",
    "import requests\n",
    "import numpy as np\n",
    "import seaborn as sns\n",
    "import matplotlib.pyplot as plt\n",
    "import pandas"
   ]
  },
  {
   "cell_type": "markdown",
   "id": "08b26dfc",
   "metadata": {},
   "source": [
    "Als erstes werden ein paar Konstanten angelegt, welche im Projekt immer wieder benötigt werden."
   ]
  },
  {
   "cell_type": "code",
   "execution_count": 5,
   "id": "8a4da9ca",
   "metadata": {},
   "outputs": [],
   "source": [
    "key_file_path='./keys/private_key.json'\n",
    "os.environ[\"GOOGLE_APPLICATION_CREDENTIALS\"] = key_file_path\n",
    "key_file = json.load(open(key_file_path))\n",
    "\n",
    "project_id = key_file[\"project_id\"]\n",
    "session_id = uuid.uuid4()\n",
    "language_code = 'de'"
   ]
  },
  {
   "cell_type": "markdown",
   "id": "8bfc234a",
   "metadata": {},
   "source": [
    "Entwickeln einer Funktion mit der man die Absicht einer Texteingabe ermitteln kann."
   ]
  },
  {
   "cell_type": "code",
   "execution_count": 6,
   "id": "35893c52",
   "metadata": {},
   "outputs": [],
   "source": [
    "session_client = df.SessionsClient()\n",
    "\n",
    "def detected_intent(text: str) -> df.DetectIntentResponse:\n",
    "    session = session_client.session_path(project_id, session_id)\n",
    "    text_input = df.TextInput(text=text, language_code=language_code)\n",
    "    query_input = df.QueryInput(text=text_input)\n",
    "\n",
    "    response = session_client.detect_intent(\n",
    "        request = {\n",
    "            'session': session,\n",
    "            'query_input': query_input\n",
    "        }\n",
    "    )\n",
    "\n",
    "    return response"
   ]
  },
  {
   "cell_type": "code",
   "execution_count": 110,
   "id": "9e058468",
   "metadata": {},
   "outputs": [
    {
     "data": {
      "text/plain": [
       "response_id: \"a7ec24bd-5eba-4b3e-84c7-eb8787586e28-bd76d68e\"\n",
       "query_result {\n",
       "  query_text: \"Hallo\"\n",
       "  language_code: \"de\"\n",
       "  action: \"input.welcome\"\n",
       "  parameters {\n",
       "  }\n",
       "  all_required_params_present: true\n",
       "  fulfillment_text: \"Ich grüße dich!\"\n",
       "  fulfillment_messages {\n",
       "    text {\n",
       "      text: \"Ich grüße dich!\"\n",
       "    }\n",
       "  }\n",
       "  intent {\n",
       "    name: \"projects/school-project-hwq9/agent/intents/b4660823-7f21-40de-af85-3cc9a3394ced\"\n",
       "    display_name: \"Default Welcome Intent\"\n",
       "  }\n",
       "  intent_detection_confidence: 1\n",
       "}"
      ]
     },
     "execution_count": 110,
     "metadata": {},
     "output_type": "execute_result"
    }
   ],
   "source": [
    "detected_intent(\"Hallo\")"
   ]
  },
  {
   "cell_type": "code",
   "execution_count": 59,
   "id": "84508ee9",
   "metadata": {},
   "outputs": [],
   "source": [
    "while True:\n",
    "    text = input(\"You: \")\n",
    "    if (text == 'q'):\n",
    "        break\n",
    "    \n",
    "    result = detected_intent(text)\n",
    "    print(f'Bot: {result.query_result.fulfillment_text}')\n",
    "    "
   ]
  },
  {
   "cell_type": "code",
   "execution_count": 7,
   "id": "78915f7c",
   "metadata": {},
   "outputs": [],
   "source": [
    "class ChatbotCryptoResult:\n",
    "    result: np.array = None\n",
    "\n",
    "class ChatbotResultMessage:\n",
    "    text_result: str = None\n",
    "    crypto_result: ChatbotCryptoResult = None"
   ]
  },
  {
   "cell_type": "code",
   "execution_count": 41,
   "id": "d92da6e0",
   "metadata": {},
   "outputs": [],
   "source": [
    "def parse_intent_response(intent_response: df.DetectIntentResponse) -> ChatbotResultMessage:\n",
    "    query_result : df.QueryResult = intent_response.query_result\n",
    "\n",
    "    text = query_result.fulfillment_text\n",
    "    ret = ChatbotResultMessage()\n",
    "    ret.text_result = text\n",
    "\n",
    "    intent_name = query_result.intent.display_name\n",
    "\n",
    "    if intent_name == 'crypto_price':\n",
    "        coin_id = query_result.parameters['crypto']\n",
    "        ret.crypto_result = get_crypto_chart(coin_id)\n",
    "\n",
    "    return ret\n",
    "\n",
    "\n",
    "def get_crypto_chart(coin_id: str):\n",
    "    # https://www.coingecko.com/en/api/documentation\n",
    "    resposne = requests.get(f\"https://api.coingecko.com/api/v3/coins/{coin_id}/market_chart?vs_currency=eur&days=300&interval=daily\")\n",
    "    token_history = resposne.json()['prices']\n",
    "    return np.array(token_history)\n"
   ]
  },
  {
   "cell_type": "code",
   "execution_count": 40,
   "id": "0566a8f8",
   "metadata": {},
   "outputs": [
    {
     "ename": "Unauthenticated",
     "evalue": "401 Request had invalid authentication credentials. Expected OAuth 2 access token, login cookie or other valid authentication credential. See https://developers.google.com/identity/sign-in/web/devconsole-project.",
     "output_type": "error",
     "traceback": [
      "\u001b[0;31m---------------------------------------------------------------------------\u001b[0m",
      "\u001b[0;31m_InactiveRpcError\u001b[0m                         Traceback (most recent call last)",
      "File \u001b[0;32m~/Projects/School/project-chatbot/chatbot-test/lib/python3.10/site-packages/google/api_core/grpc_helpers.py:72\u001b[0m, in \u001b[0;36m_wrap_unary_errors.<locals>.error_remapped_callable\u001b[0;34m(*args, **kwargs)\u001b[0m\n\u001b[1;32m     71\u001b[0m \u001b[39mtry\u001b[39;00m:\n\u001b[0;32m---> 72\u001b[0m     \u001b[39mreturn\u001b[39;00m callable_(\u001b[39m*\u001b[39;49margs, \u001b[39m*\u001b[39;49m\u001b[39m*\u001b[39;49mkwargs)\n\u001b[1;32m     73\u001b[0m \u001b[39mexcept\u001b[39;00m grpc\u001b[39m.\u001b[39mRpcError \u001b[39mas\u001b[39;00m exc:\n",
      "File \u001b[0;32m~/Projects/School/project-chatbot/chatbot-test/lib/python3.10/site-packages/grpc/_channel.py:946\u001b[0m, in \u001b[0;36m_UnaryUnaryMultiCallable.__call__\u001b[0;34m(self, request, timeout, metadata, credentials, wait_for_ready, compression)\u001b[0m\n\u001b[1;32m    944\u001b[0m state, call, \u001b[39m=\u001b[39m \u001b[39mself\u001b[39m\u001b[39m.\u001b[39m_blocking(request, timeout, metadata, credentials,\n\u001b[1;32m    945\u001b[0m                               wait_for_ready, compression)\n\u001b[0;32m--> 946\u001b[0m \u001b[39mreturn\u001b[39;00m _end_unary_response_blocking(state, call, \u001b[39mFalse\u001b[39;49;00m, \u001b[39mNone\u001b[39;49;00m)\n",
      "File \u001b[0;32m~/Projects/School/project-chatbot/chatbot-test/lib/python3.10/site-packages/grpc/_channel.py:849\u001b[0m, in \u001b[0;36m_end_unary_response_blocking\u001b[0;34m(state, call, with_call, deadline)\u001b[0m\n\u001b[1;32m    848\u001b[0m \u001b[39melse\u001b[39;00m:\n\u001b[0;32m--> 849\u001b[0m     \u001b[39mraise\u001b[39;00m _InactiveRpcError(state)\n",
      "\u001b[0;31m_InactiveRpcError\u001b[0m: <_InactiveRpcError of RPC that terminated with:\n\tstatus = StatusCode.UNAUTHENTICATED\n\tdetails = \"Request had invalid authentication credentials. Expected OAuth 2 access token, login cookie or other valid authentication credential. See https://developers.google.com/identity/sign-in/web/devconsole-project.\"\n\tdebug_error_string = \"UNKNOWN:Error received from peer ipv4:142.250.186.74:443 {created_time:\"2022-11-28T20:20:42.214277+01:00\", grpc_status:16, grpc_message:\"Request had invalid authentication credentials. Expected OAuth 2 access token, login cookie or other valid authentication credential. See https://developers.google.com/identity/sign-in/web/devconsole-project.\"}\"\n>",
      "\nThe above exception was the direct cause of the following exception:\n",
      "\u001b[0;31mUnauthenticated\u001b[0m                           Traceback (most recent call last)",
      "Cell \u001b[0;32mIn [40], line 1\u001b[0m\n\u001b[0;32m----> 1\u001b[0m detect_intent_result \u001b[39m=\u001b[39m detected_intent(\u001b[39m\"\u001b[39;49m\u001b[39meth preis\u001b[39;49m\u001b[39m\"\u001b[39;49m)\n\u001b[1;32m      2\u001b[0m result \u001b[39m=\u001b[39m parse_intent_response(detect_intent_result)\n\u001b[1;32m      4\u001b[0m \u001b[39mif\u001b[39;00m result\u001b[39m.\u001b[39mtext_result \u001b[39mis\u001b[39;00m \u001b[39mnot\u001b[39;00m \u001b[39mNone\u001b[39;00m:\n",
      "Cell \u001b[0;32mIn [6], line 8\u001b[0m, in \u001b[0;36mdetected_intent\u001b[0;34m(text)\u001b[0m\n\u001b[1;32m      5\u001b[0m text_input \u001b[39m=\u001b[39m df\u001b[39m.\u001b[39mTextInput(text\u001b[39m=\u001b[39mtext, language_code\u001b[39m=\u001b[39mlanguage_code)\n\u001b[1;32m      6\u001b[0m query_input \u001b[39m=\u001b[39m df\u001b[39m.\u001b[39mQueryInput(text\u001b[39m=\u001b[39mtext_input)\n\u001b[0;32m----> 8\u001b[0m response \u001b[39m=\u001b[39m session_client\u001b[39m.\u001b[39;49mdetect_intent(\n\u001b[1;32m      9\u001b[0m     request \u001b[39m=\u001b[39;49m {\n\u001b[1;32m     10\u001b[0m         \u001b[39m'\u001b[39;49m\u001b[39msession\u001b[39;49m\u001b[39m'\u001b[39;49m: session,\n\u001b[1;32m     11\u001b[0m         \u001b[39m'\u001b[39;49m\u001b[39mquery_input\u001b[39;49m\u001b[39m'\u001b[39;49m: query_input\n\u001b[1;32m     12\u001b[0m     }\n\u001b[1;32m     13\u001b[0m )\n\u001b[1;32m     15\u001b[0m \u001b[39mreturn\u001b[39;00m response\n",
      "File \u001b[0;32m~/Projects/School/project-chatbot/chatbot-test/lib/python3.10/site-packages/google/cloud/dialogflow_v2/services/sessions/client.py:646\u001b[0m, in \u001b[0;36mSessionsClient.detect_intent\u001b[0;34m(self, request, session, query_input, retry, timeout, metadata)\u001b[0m\n\u001b[1;32m    641\u001b[0m metadata \u001b[39m=\u001b[39m \u001b[39mtuple\u001b[39m(metadata) \u001b[39m+\u001b[39m (\n\u001b[1;32m    642\u001b[0m     gapic_v1\u001b[39m.\u001b[39mrouting_header\u001b[39m.\u001b[39mto_grpc_metadata(((\u001b[39m\"\u001b[39m\u001b[39msession\u001b[39m\u001b[39m\"\u001b[39m, request\u001b[39m.\u001b[39msession),)),\n\u001b[1;32m    643\u001b[0m )\n\u001b[1;32m    645\u001b[0m \u001b[39m# Send the request.\u001b[39;00m\n\u001b[0;32m--> 646\u001b[0m response \u001b[39m=\u001b[39m rpc(\n\u001b[1;32m    647\u001b[0m     request,\n\u001b[1;32m    648\u001b[0m     retry\u001b[39m=\u001b[39;49mretry,\n\u001b[1;32m    649\u001b[0m     timeout\u001b[39m=\u001b[39;49mtimeout,\n\u001b[1;32m    650\u001b[0m     metadata\u001b[39m=\u001b[39;49mmetadata,\n\u001b[1;32m    651\u001b[0m )\n\u001b[1;32m    653\u001b[0m \u001b[39m# Done; return the response.\u001b[39;00m\n\u001b[1;32m    654\u001b[0m \u001b[39mreturn\u001b[39;00m response\n",
      "File \u001b[0;32m~/Projects/School/project-chatbot/chatbot-test/lib/python3.10/site-packages/google/api_core/gapic_v1/method.py:154\u001b[0m, in \u001b[0;36m_GapicCallable.__call__\u001b[0;34m(self, timeout, retry, *args, **kwargs)\u001b[0m\n\u001b[1;32m    151\u001b[0m     metadata\u001b[39m.\u001b[39mextend(\u001b[39mself\u001b[39m\u001b[39m.\u001b[39m_metadata)\n\u001b[1;32m    152\u001b[0m     kwargs[\u001b[39m\"\u001b[39m\u001b[39mmetadata\u001b[39m\u001b[39m\"\u001b[39m] \u001b[39m=\u001b[39m metadata\n\u001b[0;32m--> 154\u001b[0m \u001b[39mreturn\u001b[39;00m wrapped_func(\u001b[39m*\u001b[39;49margs, \u001b[39m*\u001b[39;49m\u001b[39m*\u001b[39;49mkwargs)\n",
      "File \u001b[0;32m~/Projects/School/project-chatbot/chatbot-test/lib/python3.10/site-packages/google/api_core/retry.py:283\u001b[0m, in \u001b[0;36mRetry.__call__.<locals>.retry_wrapped_func\u001b[0;34m(*args, **kwargs)\u001b[0m\n\u001b[1;32m    279\u001b[0m target \u001b[39m=\u001b[39m functools\u001b[39m.\u001b[39mpartial(func, \u001b[39m*\u001b[39margs, \u001b[39m*\u001b[39m\u001b[39m*\u001b[39mkwargs)\n\u001b[1;32m    280\u001b[0m sleep_generator \u001b[39m=\u001b[39m exponential_sleep_generator(\n\u001b[1;32m    281\u001b[0m     \u001b[39mself\u001b[39m\u001b[39m.\u001b[39m_initial, \u001b[39mself\u001b[39m\u001b[39m.\u001b[39m_maximum, multiplier\u001b[39m=\u001b[39m\u001b[39mself\u001b[39m\u001b[39m.\u001b[39m_multiplier\n\u001b[1;32m    282\u001b[0m )\n\u001b[0;32m--> 283\u001b[0m \u001b[39mreturn\u001b[39;00m retry_target(\n\u001b[1;32m    284\u001b[0m     target,\n\u001b[1;32m    285\u001b[0m     \u001b[39mself\u001b[39;49m\u001b[39m.\u001b[39;49m_predicate,\n\u001b[1;32m    286\u001b[0m     sleep_generator,\n\u001b[1;32m    287\u001b[0m     \u001b[39mself\u001b[39;49m\u001b[39m.\u001b[39;49m_deadline,\n\u001b[1;32m    288\u001b[0m     on_error\u001b[39m=\u001b[39;49mon_error,\n\u001b[1;32m    289\u001b[0m )\n",
      "File \u001b[0;32m~/Projects/School/project-chatbot/chatbot-test/lib/python3.10/site-packages/google/api_core/retry.py:190\u001b[0m, in \u001b[0;36mretry_target\u001b[0;34m(target, predicate, sleep_generator, deadline, on_error)\u001b[0m\n\u001b[1;32m    188\u001b[0m \u001b[39mfor\u001b[39;00m sleep \u001b[39min\u001b[39;00m sleep_generator:\n\u001b[1;32m    189\u001b[0m     \u001b[39mtry\u001b[39;00m:\n\u001b[0;32m--> 190\u001b[0m         \u001b[39mreturn\u001b[39;00m target()\n\u001b[1;32m    192\u001b[0m     \u001b[39m# pylint: disable=broad-except\u001b[39;00m\n\u001b[1;32m    193\u001b[0m     \u001b[39m# This function explicitly must deal with broad exceptions.\u001b[39;00m\n\u001b[1;32m    194\u001b[0m     \u001b[39mexcept\u001b[39;00m \u001b[39mException\u001b[39;00m \u001b[39mas\u001b[39;00m exc:\n",
      "File \u001b[0;32m~/Projects/School/project-chatbot/chatbot-test/lib/python3.10/site-packages/google/api_core/grpc_helpers.py:74\u001b[0m, in \u001b[0;36m_wrap_unary_errors.<locals>.error_remapped_callable\u001b[0;34m(*args, **kwargs)\u001b[0m\n\u001b[1;32m     72\u001b[0m     \u001b[39mreturn\u001b[39;00m callable_(\u001b[39m*\u001b[39margs, \u001b[39m*\u001b[39m\u001b[39m*\u001b[39mkwargs)\n\u001b[1;32m     73\u001b[0m \u001b[39mexcept\u001b[39;00m grpc\u001b[39m.\u001b[39mRpcError \u001b[39mas\u001b[39;00m exc:\n\u001b[0;32m---> 74\u001b[0m     \u001b[39mraise\u001b[39;00m exceptions\u001b[39m.\u001b[39mfrom_grpc_error(exc) \u001b[39mfrom\u001b[39;00m \u001b[39mexc\u001b[39;00m\n",
      "\u001b[0;31mUnauthenticated\u001b[0m: 401 Request had invalid authentication credentials. Expected OAuth 2 access token, login cookie or other valid authentication credential. See https://developers.google.com/identity/sign-in/web/devconsole-project."
     ]
    }
   ],
   "source": [
    "detect_intent_result = detected_intent(\"eth preis\")\n",
    "result = parse_intent_response(detect_intent_result)\n",
    "\n",
    "if result.text_result is not None:\n",
    "    print(result.text_result)\n",
    "\n",
    "if result.crypto_result is not None:\n",
    "    # time = [res[0] for res in result.crypto_result]\n",
    "    # price = [res[1] for res in result.crypto_result]    \n",
    "    # sns.set(rc={'figure.figsize':(13,9)})\n",
    "    # line = sns.lineplot(\n",
    "    #  x = 'time',\n",
    "    #  y = 'price',\n",
    "    #  data = [time, price]   \n",
    "    # )\n",
    "\n",
    "    data_frame = pandas.DataFrame(result.crypto_result, columns = [\"time\", \"price\"])\n",
    "    price = data_frame.loc[:, 'price'].copy()\n",
    "    price.plot(figsize=(20, 7), fontsize=16)\n",
    "    # plt.style.use('seaborn')\n",
    "    # plt.show()\n",
    "    # print(data_frame)\n",
    "    # print(time)"
   ]
  }
 ],
 "metadata": {
  "kernelspec": {
   "display_name": "chatbot-test",
   "language": "python",
   "name": "chatbot-test"
  },
  "language_info": {
   "codemirror_mode": {
    "name": "ipython",
    "version": 3
   },
   "file_extension": ".py",
   "mimetype": "text/x-python",
   "name": "python",
   "nbconvert_exporter": "python",
   "pygments_lexer": "ipython3",
   "version": "3.10.6"
  },
  "vscode": {
   "interpreter": {
    "hash": "31f2aee4e71d21fbe5cf8b01ff0e069b9275f58929596ceb00d14d90e3e16cd6"
   }
  }
 },
 "nbformat": 4,
 "nbformat_minor": 5
}
