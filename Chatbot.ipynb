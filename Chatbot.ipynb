{
 "cells": [
  {
   "cell_type": "markdown",
   "id": "04fe55e1",
   "metadata": {},
   "source": [
    "# Chatbot Skynet 2\n",
    "\n",
    "<img src=\"./assets/images/logo.png\" width=\"300\" />\n",
    "\n",
    "[Dialogflow](https://dialogflow.cloud.google.com) ist eine Platform mit der Chabots erstellt und bearbeitet werden können.   \n",
    "<br><br>\n",
    "Es bietete dabei eine Webobefläche mit der Inhalte des Chatbots erstellt und angepasst werden können.\n",
    "Außerdem gibt es eine [Schnittstellenbibliothek](https://github.com/googleapis/python-dialogflow) für Python. Diese wurde auch in diesem Projekt zur Kommunikation mit Dialogflow verwendet.\n",
    "\n",
    "## Anforderungen an den Chatbot\n",
    "1. Führen von einfachen Smalltalk\n",
    "2. Ermitteln und visualisieren von aktuellen Crypto-Preisen\n",
    "\n",
    "## Setup am eigenen Rechner\n",
    "1. Bei [Dialogflow](https://dialogflow.cloud.google.com) anmelden (Ein Google Konto ist dazu voraussetzung)\n",
    "2. Einen neuen Agent auf Dialogflow anlegen<br><img src=\"./assets/images/screenshot_new_agent.png\" width=\"300\">\n",
    "3. [Download Chatbot Template](assets/dialogflow/bot.zip) und in Dialogflow importieren.<br><img src=\"./assets/images/screenshot_import.png\" width=\"300\">\n",
    "4. Dialogflow API [aktivieren](https://cloud.google.com/dialogflow/es/docs/quick/setup#api)\n",
    "5. Auf Service-Account [anlegen](https://console.cloud.google.com/apis/credentials/serviceaccountkey) den Chatbot auswählen und einer neuen Rolle zuweisen.\n",
    "6. Schlüsseldatei im Json-Format herunterladen und in den Orderner `keys` mit dem namen `./private_key.json` ablegen."
   ]
  },
  {
   "cell_type": "markdown",
   "id": "4ed1012d",
   "metadata": {},
   "source": [
    "## Einbinden der benötigten Bibliotheken"
   ]
  },
  {
   "cell_type": "code",
   "execution_count": 131,
   "id": "31bb60c1",
   "metadata": {},
   "outputs": [],
   "source": [
    "import os # Setzen von Umgeungsvariablen\n",
    "import json\n",
    "import uuid # Erstellen von weltweit eindeutigen Ids (z.B: '92082417-1b45-4134-a6a7-a091cf54103f')\n",
    "import requests # HTTP-Client zum Abfragen REST-Schnittstellen\n",
    "import pandas as pd # Tabilarische Darstellung von Daten\n",
    "import plotly.express as plotly # Darstellen von Graphen (z.B.: Krypto-Carts)\n",
    "from google.cloud import dialogflow_v2 as df # Klassenbibliothek für Dialogflow Client"
   ]
  },
  {
   "cell_type": "markdown",
   "id": "08b26dfc",
   "metadata": {},
   "source": [
    "## Konstante Variablen definieren"
   ]
  },
  {
   "cell_type": "code",
   "execution_count": 132,
   "id": "8a4da9ca",
   "metadata": {},
   "outputs": [],
   "source": [
    "# Lokale Dateipfad zu der Schlüsseldatei von Dialogflow\n",
    "key_file_path='./keys/private_key.json'\n",
    "\n",
    "# Schlüsseldatei wird in Umgebungsvariable gespeichert (Damit regelt die Dialogflow-Schnittstelle die Anmeldung)\n",
    "os.environ[\"GOOGLE_APPLICATION_CREDENTIALS\"] = key_file_path\n",
    "key_file = json.load(open(key_file_path))\n",
    "\n",
    "# Die Projekt-Id von der Schlüsseldatei auslesen\n",
    "project_id = key_file[\"project_id\"]\n",
    "\n",
    "# Weltweit eindeutige Id generieren. (Z.B: '92082417-1b45-4134-a6a7-a091cf54103f')\n",
    "session_id = uuid.uuid4()\n",
    "language_code = 'de'"
   ]
  },
  {
   "cell_type": "markdown",
   "id": "8bfc234a",
   "metadata": {},
   "source": [
    "## Benutzereingaben richtig erkennen\n",
    "Im nächsten Codeblock wird eine Funktion entwickelt, welche die Absicht einer Texteingabe eines Benutzers ermittelt."
   ]
  },
  {
   "cell_type": "code",
   "execution_count": 133,
   "id": "35893c52",
   "metadata": {},
   "outputs": [],
   "source": [
    "session_client = df.SessionsClient()\n",
    "\n",
    "def detected_intent(text: str) -> df.DetectIntentResponse:\n",
    "    session = session_client.session_path(project_id, session_id)\n",
    "    text_input = df.TextInput(text=text, language_code=language_code)\n",
    "    query_input = df.QueryInput(text=text_input)\n",
    "\n",
    "    response = session_client.detect_intent(\n",
    "        request = {\n",
    "            'session': session,\n",
    "            'query_input': query_input\n",
    "        }\n",
    "    )\n",
    "\n",
    "    return response"
   ]
  },
  {
   "cell_type": "markdown",
   "id": "5f00899e",
   "metadata": {},
   "source": [
    "Der Rückabewert der Funktion `detect_intent(text)` ist die Antwort von Dialogflow welche auf Basis der Benutzeranfrage ermittelt wurde."
   ]
  },
  {
   "cell_type": "markdown",
   "id": "60ffd163",
   "metadata": {},
   "source": [
    "### Beispiel-Aufruf 1\n",
    "Der Benutzer sendet die Nachricht `\"Hallo\"` an den Chatbot (Dialogflow). Dialogflow liefert dabei folgende Daten."
   ]
  },
  {
   "cell_type": "code",
   "execution_count": 157,
   "id": "9e058468",
   "metadata": {},
   "outputs": [
    {
     "data": {
      "text/plain": [
       "response_id: \"80fe9833-4656-4333-9fcb-0324bcf3acf3-5c04e5ec\"\n",
       "query_result {\n",
       "  query_text: \"Hallo\"\n",
       "  language_code: \"de\"\n",
       "  action: \"input.welcome\"\n",
       "  parameters {\n",
       "  }\n",
       "  all_required_params_present: true\n",
       "  fulfillment_text: \"Grüß Gott!\"\n",
       "  fulfillment_messages {\n",
       "    text {\n",
       "      text: \"Grüß Gott!\"\n",
       "    }\n",
       "  }\n",
       "  intent {\n",
       "    name: \"projects/school-project-hwq9/agent/intents/b4660823-7f21-40de-af85-3cc9a3394ced\"\n",
       "    display_name: \"Default Welcome Intent\"\n",
       "  }\n",
       "  intent_detection_confidence: 1\n",
       "}"
      ]
     },
     "execution_count": 157,
     "metadata": {},
     "output_type": "execute_result"
    }
   ],
   "source": [
    "detected_intent(\"Hallo\")"
   ]
  },
  {
   "cell_type": "markdown",
   "id": "8350504d",
   "metadata": {},
   "source": [
    "Interesannt ist hierbei der `fullfillment_text`. Dort ist die Text-Antwort des Chabots enthalten. Dieser wert wird später vom Programm ermittelt und verwendet."
   ]
  },
  {
   "cell_type": "markdown",
   "id": "02a9d61c",
   "metadata": {},
   "source": [
    "### Beispiel-Aufruf 2\n",
    "Der Benutzer sendet die Nachricht `\"Was ist der aktuelle Preis von Bitcoin\"` an den Chatbot (Dialogflow). Die Rückgabe ist hierbei: "
   ]
  },
  {
   "cell_type": "code",
   "execution_count": 156,
   "id": "6e79fca6",
   "metadata": {},
   "outputs": [
    {
     "data": {
      "text/plain": [
       "response_id: \"675bac04-3a30-4fa7-b11f-296bb9164f20-5c04e5ec\"\n",
       "query_result {\n",
       "  query_text: \"Was ist der aktuelle Preis von Bitcoin\"\n",
       "  language_code: \"de\"\n",
       "  parameters {\n",
       "    fields {\n",
       "      key: \"crypto\"\n",
       "      value {\n",
       "        string_value: \"bitcoin\"\n",
       "      }\n",
       "    }\n",
       "  }\n",
       "  all_required_params_present: true\n",
       "  intent {\n",
       "    name: \"projects/school-project-hwq9/agent/intents/de6767ea-bb74-4847-853e-4eb4a0200f07\"\n",
       "    display_name: \"crypto_price\"\n",
       "  }\n",
       "  intent_detection_confidence: 0.714185417\n",
       "}"
      ]
     },
     "execution_count": 156,
     "metadata": {},
     "output_type": "execute_result"
    }
   ],
   "source": [
    "detected_intent(\"Was ist der aktuelle Preis von Bitcoin\")"
   ]
  },
  {
   "cell_type": "markdown",
   "id": "0198c824",
   "metadata": {},
   "source": [
    "Hierbei sind der Ermittelte Crypto-Parameter mit dem ermittelten Wert `bitcoin` releveant. Damit kann das Programm später unterscheiden von welcher Crypto-Währung der Preis ermittelt werden soll."
   ]
  },
  {
   "cell_type": "markdown",
   "id": "16ac37e1",
   "metadata": {},
   "source": [
    "### Beispiel-Aufruf 3\n",
    "Im folgendem Beispiel wird vom Benutzer der Ethereum Preis abgefragt. Der Chatbot liefert hier folgende Antwort."
   ]
  },
  {
   "cell_type": "code",
   "execution_count": 55,
   "id": "2105dba5",
   "metadata": {},
   "outputs": [
    {
     "data": {
      "text/plain": [
       "response_id: \"c502ab06-e3f0-4422-9bde-ad595f80dbc8-bd76d68e\"\n",
       "query_result {\n",
       "  query_text: \"Ethereum Preis\"\n",
       "  language_code: \"de\"\n",
       "  parameters {\n",
       "    fields {\n",
       "      key: \"crypto\"\n",
       "      value {\n",
       "        string_value: \"ethereum\"\n",
       "      }\n",
       "    }\n",
       "  }\n",
       "  all_required_params_present: true\n",
       "  intent {\n",
       "    name: \"projects/school-project-hwq9/agent/intents/de6767ea-bb74-4847-853e-4eb4a0200f07\"\n",
       "    display_name: \"crypto_price\"\n",
       "  }\n",
       "  intent_detection_confidence: 0.819701731\n",
       "}"
      ]
     },
     "execution_count": 55,
     "metadata": {},
     "output_type": "execute_result"
    }
   ],
   "source": [
    "detected_intent(\"Ethereum Preis\")"
   ]
  },
  {
   "cell_type": "markdown",
   "id": "fef3d985",
   "metadata": {},
   "source": [
    "In diesem Fall ist der Crypt-Parameter-Wert `ethereum`."
   ]
  },
  {
   "cell_type": "markdown",
   "id": "e7f1438d",
   "metadata": {},
   "source": [
    "## Erste Konversation mit dem Chatbot Skynet\n",
    "Verwendung von einer Endlosschleife."
   ]
  },
  {
   "cell_type": "code",
   "execution_count": 59,
   "id": "84508ee9",
   "metadata": {},
   "outputs": [],
   "source": [
    "while True:\n",
    "    text = input(\"You: \")\n",
    "    if (text == 'quit'):\n",
    "        break\n",
    "    \n",
    "    result = detected_intent(text)\n",
    "    print(f'Bot: {result.query_result.fulfillment_text}')"
   ]
  },
  {
   "cell_type": "markdown",
   "id": "1216f1e6",
   "metadata": {},
   "source": [
    "<b>Problem:</b> Hierbei können keine Kryptowährungen abgefragt werden."
   ]
  },
  {
   "cell_type": "markdown",
   "id": "a6cd098b",
   "metadata": {},
   "source": [
    "## Aktueller Krypto-Preis von Schnittstelle abfragen\n",
    "\n",
    "Für die Ermittlung des Preises der angebundenen Kryptowährungen wird die frei verfügbare Schnittstelle von [CoinGecko](https://www.coingecko.com/en/api/documentation) \n",
    "verwendet.<br>\n",
    "<br>\n",
    "<img src=\"./assets/images/coingecko_swagger.jpg\" width=\"500\">\n",
    "\n",
    "Die Schnittstelle basiert auf REST (REpresentational State Transfer).\n",
    "<br><br>\n",
    "<img src=\"./assets/images/rest.jpg\">  \n",
    "<br>\n",
    "REST ist eine Programmierschnittstelle, die einen Ansatz von Komunnikation zwischen Server und Client beschreibt. Dabei nutzt es zur Übertragung der Daten HTTP/S.   "
   ]
  },
  {
   "cell_type": "code",
   "execution_count": 63,
   "id": "383746d5",
   "metadata": {},
   "outputs": [
    {
     "data": {
      "text/plain": [
       "{'prices': [[1669593600000, 15872.19981187594],\n",
       "  [1669680000000, 15683.633332537333],\n",
       "  [1669766400000, 15928.168104093502],\n",
       "  [1669824380000, 16416.474155514206]],\n",
       " 'market_caps': [[1669593600000, 305283686999.67566],\n",
       "  [1669680000000, 301463855559.4635],\n",
       "  [1669766400000, 306322495858.3206],\n",
       "  [1669824380000, 315627809140.33057]],\n",
       " 'total_volumes': [[1669593600000, 15961567973.43568],\n",
       "  [1669680000000, 23750463727.980415],\n",
       "  [1669766400000, 23892315574.122288],\n",
       "  [1669824380000, 24800778747.64632]]}"
      ]
     },
     "execution_count": 63,
     "metadata": {},
     "output_type": "execute_result"
    }
   ],
   "source": [
    "coin_id = 'bitcoin'\n",
    "days = 3\n",
    "response = requests.get(f\"https://api.coingecko.com/api/v3/coins/{coin_id}/market_chart?vs_currency=eur&days={days}&interval=daily\")\n",
    "response.json()"
   ]
  },
  {
   "cell_type": "markdown",
   "id": "3bd92b80",
   "metadata": {},
   "source": [
    "Die CoinGecko-Schnittstelle liefert hierbei ein JSON-Objekt. JSON (JavaScript Object Notation) ist ein kompaktes Datenformat, bei dem Werte in einem Key-Value-Format abgespeichert werden. Es eignet sich gut für den Datenaustausch zwichen Anwendungen."
   ]
  },
  {
   "cell_type": "markdown",
   "id": "9adeaa48",
   "metadata": {},
   "source": [
    "### Funktion erstellen um Krypto-Preis zu ermitteln\n",
    "Hierzu wird wie im obrigen Beispiel die Schnittstelle von CoinGecko aufgerufen.  \n",
    "Außerdem werden die Werte mithilfe eines `padas.DataFrame` tabilarisiert."
   ]
  },
  {
   "cell_type": "code",
   "execution_count": 145,
   "id": "88b702de",
   "metadata": {},
   "outputs": [],
   "source": [
    "def get_crypto_chart(coin_id: str, days) -> pd.DataFrame:\n",
    "    response = requests.get(f\"https://api.coingecko.com/api/v3/coins/{coin_id}/market_chart?vs_currency=eur&days={days}&interval=daily\")\n",
    "    token_history = response.json()['prices']\n",
    "    token_volumes = response.json()['total_volumes']\n",
    "\n",
    "    price_frame = pd.DataFrame(token_history, columns = [\"time\", \"price\"])\n",
    "    volume_frame = pd.DataFrame(token_volumes, columns = [\"time\", \"volume\"])\n",
    "\n",
    "    result = price_frame.set_index(\"time\").join(volume_frame.set_index(\"time\")).reset_index()\n",
    "    result['time']=(pd.to_datetime(result['time'],unit='ms')) # Unit-Timestamp zu Datum konvertieren\n",
    "\n",
    "    return result"
   ]
  },
  {
   "cell_type": "markdown",
   "id": "ca3e2d25",
   "metadata": {},
   "source": [
    "#### Beispiele\n",
    "Ermitteln des Bitcoin-Verlaufs der letzten 3 Tage + aktueller Tag"
   ]
  },
  {
   "cell_type": "code",
   "execution_count": 58,
   "id": "4a906189",
   "metadata": {},
   "outputs": [
    {
     "data": {
      "text/html": [
       "<div>\n",
       "<style scoped>\n",
       "    .dataframe tbody tr th:only-of-type {\n",
       "        vertical-align: middle;\n",
       "    }\n",
       "\n",
       "    .dataframe tbody tr th {\n",
       "        vertical-align: top;\n",
       "    }\n",
       "\n",
       "    .dataframe thead th {\n",
       "        text-align: right;\n",
       "    }\n",
       "</style>\n",
       "<table border=\"1\" class=\"dataframe\">\n",
       "  <thead>\n",
       "    <tr style=\"text-align: right;\">\n",
       "      <th></th>\n",
       "      <th>time</th>\n",
       "      <th>price</th>\n",
       "      <th>volume</th>\n",
       "    </tr>\n",
       "  </thead>\n",
       "  <tbody>\n",
       "    <tr>\n",
       "      <th>0</th>\n",
       "      <td>2022-11-28 00:00:00</td>\n",
       "      <td>15872.199812</td>\n",
       "      <td>1.596157e+10</td>\n",
       "    </tr>\n",
       "    <tr>\n",
       "      <th>1</th>\n",
       "      <td>2022-11-29 00:00:00</td>\n",
       "      <td>15683.633333</td>\n",
       "      <td>2.375046e+10</td>\n",
       "    </tr>\n",
       "    <tr>\n",
       "      <th>2</th>\n",
       "      <td>2022-11-30 00:00:00</td>\n",
       "      <td>15928.168104</td>\n",
       "      <td>2.389232e+10</td>\n",
       "    </tr>\n",
       "    <tr>\n",
       "      <th>3</th>\n",
       "      <td>2022-11-30 16:06:20</td>\n",
       "      <td>16416.474156</td>\n",
       "      <td>2.480078e+10</td>\n",
       "    </tr>\n",
       "  </tbody>\n",
       "</table>\n",
       "</div>"
      ],
      "text/plain": [
       "                 time         price        volume\n",
       "0 2022-11-28 00:00:00  15872.199812  1.596157e+10\n",
       "1 2022-11-29 00:00:00  15683.633333  2.375046e+10\n",
       "2 2022-11-30 00:00:00  15928.168104  2.389232e+10\n",
       "3 2022-11-30 16:06:20  16416.474156  2.480078e+10"
      ]
     },
     "execution_count": 58,
     "metadata": {},
     "output_type": "execute_result"
    }
   ],
   "source": [
    "get_crypto_chart('bitcoin', 3)"
   ]
  },
  {
   "cell_type": "markdown",
   "id": "b328fa41",
   "metadata": {},
   "source": [
    "Ermitteln des Ethereum-Verlaufs der letzten 6 Tage + aktueller Tag"
   ]
  },
  {
   "cell_type": "code",
   "execution_count": 60,
   "id": "5838ccbd",
   "metadata": {},
   "outputs": [
    {
     "data": {
      "text/html": [
       "<div>\n",
       "<style scoped>\n",
       "    .dataframe tbody tr th:only-of-type {\n",
       "        vertical-align: middle;\n",
       "    }\n",
       "\n",
       "    .dataframe tbody tr th {\n",
       "        vertical-align: top;\n",
       "    }\n",
       "\n",
       "    .dataframe thead th {\n",
       "        text-align: right;\n",
       "    }\n",
       "</style>\n",
       "<table border=\"1\" class=\"dataframe\">\n",
       "  <thead>\n",
       "    <tr style=\"text-align: right;\">\n",
       "      <th></th>\n",
       "      <th>time</th>\n",
       "      <th>price</th>\n",
       "      <th>volume</th>\n",
       "    </tr>\n",
       "  </thead>\n",
       "  <tbody>\n",
       "    <tr>\n",
       "      <th>0</th>\n",
       "      <td>2022-11-25 00:00:00</td>\n",
       "      <td>1156.942647</td>\n",
       "      <td>6.682519e+09</td>\n",
       "    </tr>\n",
       "    <tr>\n",
       "      <th>1</th>\n",
       "      <td>2022-11-26 00:00:00</td>\n",
       "      <td>1151.366666</td>\n",
       "      <td>5.591975e+09</td>\n",
       "    </tr>\n",
       "    <tr>\n",
       "      <th>2</th>\n",
       "      <td>2022-11-27 00:00:00</td>\n",
       "      <td>1157.672773</td>\n",
       "      <td>5.061311e+09</td>\n",
       "    </tr>\n",
       "    <tr>\n",
       "      <th>3</th>\n",
       "      <td>2022-11-28 00:00:00</td>\n",
       "      <td>1153.538666</td>\n",
       "      <td>4.002898e+09</td>\n",
       "    </tr>\n",
       "    <tr>\n",
       "      <th>4</th>\n",
       "      <td>2022-11-29 00:00:00</td>\n",
       "      <td>1131.267899</td>\n",
       "      <td>6.252560e+09</td>\n",
       "    </tr>\n",
       "    <tr>\n",
       "      <th>5</th>\n",
       "      <td>2022-11-30 00:00:00</td>\n",
       "      <td>1178.907158</td>\n",
       "      <td>6.910067e+09</td>\n",
       "    </tr>\n",
       "    <tr>\n",
       "      <th>6</th>\n",
       "      <td>2022-11-30 16:07:15</td>\n",
       "      <td>1233.196096</td>\n",
       "      <td>7.861392e+09</td>\n",
       "    </tr>\n",
       "  </tbody>\n",
       "</table>\n",
       "</div>"
      ],
      "text/plain": [
       "                 time        price        volume\n",
       "0 2022-11-25 00:00:00  1156.942647  6.682519e+09\n",
       "1 2022-11-26 00:00:00  1151.366666  5.591975e+09\n",
       "2 2022-11-27 00:00:00  1157.672773  5.061311e+09\n",
       "3 2022-11-28 00:00:00  1153.538666  4.002898e+09\n",
       "4 2022-11-29 00:00:00  1131.267899  6.252560e+09\n",
       "5 2022-11-30 00:00:00  1178.907158  6.910067e+09\n",
       "6 2022-11-30 16:07:15  1233.196096  7.861392e+09"
      ]
     },
     "execution_count": 60,
     "metadata": {},
     "output_type": "execute_result"
    }
   ],
   "source": [
    "get_crypto_chart('ethereum', 6)"
   ]
  },
  {
   "cell_type": "markdown",
   "id": "5d1818a1",
   "metadata": {},
   "source": [
    "## Name von Kryptowährung ermitteln"
   ]
  },
  {
   "cell_type": "markdown",
   "id": "8f225ea5",
   "metadata": {},
   "source": [
    "Hierzu wird ebenfalls die REST-Schnittstelle von Coingecko aufgerufen. Diese liefert ebenfalss die Daten im JSON-Format. Hierbei ist aber nur der name Notwendig, deshalb wid mit `response.json()['name']` nur der name der Kryptowährung herausgelesen."
   ]
  },
  {
   "cell_type": "code",
   "execution_count": null,
   "id": "81312134",
   "metadata": {},
   "outputs": [],
   "source": [
    "def get_token_name(coin_id: str):\n",
    "    response = requests.get(f'https://api.coingecko.com/api/v3/coins/{coin_id}?tickers=false&market_data=false&community_data=false&developer_data=false&sparkline=false')\n",
    "    return response.json()['name']"
   ]
  },
  {
   "cell_type": "markdown",
   "id": "997e3c1f",
   "metadata": {},
   "source": [
    "#### Beispiel"
   ]
  },
  {
   "cell_type": "code",
   "execution_count": 148,
   "id": "60c3d9cb",
   "metadata": {},
   "outputs": [
    {
     "name": "stdout",
     "output_type": "stream",
     "text": [
      "Bitcoin\n",
      "Ethereum\n"
     ]
    }
   ],
   "source": [
    "print(get_token_name('bitcoin'))\n",
    "print(get_token_name('ethereum'))"
   ]
  },
  {
   "cell_type": "markdown",
   "id": "5bc535d1",
   "metadata": {},
   "source": [
    "## Rückgabe von Dialogflow verarbeiten"
   ]
  },
  {
   "cell_type": "markdown",
   "id": "d095d11c",
   "metadata": {},
   "source": [
    "Zuerst wird ein Klasse definiert, welche Eigenschaften (Attribute) enthält.  \n",
    "Die Eigenschaften sind dabei auf ihrem Anwedungszweck ausgerichtet."
   ]
  },
  {
   "cell_type": "code",
   "execution_count": 10,
   "id": "78915f7c",
   "metadata": {},
   "outputs": [],
   "source": [
    "class ChatbotCryptoResult:\n",
    "    data_frame: pd.DataFrame = None\n",
    "    token_name: str = None\n",
    "    token_image_url: str = None\n",
    "\n",
    "class ChatbotResultMessage:\n",
    "    text_result: str = None\n",
    "    crypto_result: ChatbotCryptoResult = None"
   ]
  },
  {
   "cell_type": "markdown",
   "id": "16d6596d",
   "metadata": {},
   "source": [
    "In der folgenden Methode `parse_intent_response(intent_response)` werden aus der Rückgabe von Dialgoflow die benötigten werte gelesen und verarbeitet."
   ]
  },
  {
   "cell_type": "code",
   "execution_count": 64,
   "id": "d92da6e0",
   "metadata": {},
   "outputs": [],
   "source": [
    "def parse_intent_response(intent_response: df.DetectIntentResponse) -> ChatbotResultMessage:\n",
    "    query_result : df.QueryResult = intent_response.query_result\n",
    "\n",
    "    text = query_result.fulfillment_text\n",
    "    ret = ChatbotResultMessage()\n",
    "    ret.text_result = text\n",
    "\n",
    "    intent_name = query_result.intent.display_name\n",
    "\n",
    "    if intent_name == 'crypto_price':\n",
    "        coin_id = query_result.parameters['crypto']\n",
    "        ret.crypto_result = ChatbotResultMessage()\n",
    "        ret.crypto_result.data_frame = get_crypto_chart(coin_id, 365)\n",
    "        ret.crypto_result.token_name = get_token_name(coin_id)\n",
    "        ret.crypto_result.token_image_url = 'https://assets.coingecko.com/coins/images/1/small/bitcoin.png?1547033579'\n",
    "\n",
    "    return ret"
   ]
  },
  {
   "cell_type": "markdown",
   "id": "75d4f933",
   "metadata": {},
   "source": [
    "Als erstes ermittelt die Methode den Antwort-Text des Chatbots und schreibt diesen in das Result-Objekt.\n",
    "\n",
    "Anschließend wird der Preisverlauf und der Name der Kryptowährung ermittelt, falls es sich um eine diesbezügliche Abfrage handelt. Die Ergebnisse werden dann auch in das Result-Objekt gespeichert. "
   ]
  },
  {
   "cell_type": "markdown",
   "id": "72504384",
   "metadata": {},
   "source": [
    "<p float=\"left\">\n",
    "    <img src=\"./assets/images/screenshot_dialogflow_parameters.png\" width=\"500\">\n",
    "    <img src=\"./assets/images/screenshot_dialogflow_fullfilment_text.png\" width=\"500\">\n",
    "</p>"
   ]
  },
  {
   "cell_type": "markdown",
   "id": "457f0ba3",
   "metadata": {},
   "source": [
    "## Ausgabe in Konsole\n",
    "1. (Falls vorhanden) Text-Antwort ausgeben\n",
    "2. (Falls vorhanden) Krypto-Preisverlauf in Diagramm visualisiern"
   ]
  },
  {
   "cell_type": "code",
   "execution_count": 153,
   "id": "a335a4c4",
   "metadata": {},
   "outputs": [],
   "source": [
    "def print_result_to_console(chatbot_result: ChatbotResultMessage):\n",
    "    crypto_result = result.crypto_result\n",
    "\n",
    "    if result.text_result is not None:\n",
    "        print(result.text_result)\n",
    "\n",
    "    if crypto_result is not None:\n",
    "        # token_img = Image.open(requests.get(crypto_result.token_image_url, stream=True).raw)\n",
    "        fig = plotly.line(crypto_result.data_frame, x='time', y='price', title=f'Preisverlauf von {crypto_result.token_name}')\n",
    "        fig.update_xaxes(rangeslider_visible=True)\n",
    "        fig.show()"
   ]
  },
  {
   "cell_type": "markdown",
   "id": "e877b9b6",
   "metadata": {},
   "source": [
    "## Finale Ausgabe der Abfrage\n",
    "1. Ermitteln der Benutzerabsicht\n",
    "2. Verabeiten der Dialogflow response\n",
    "3. Antwort des Chatbots in Konsole ausgeben"
   ]
  },
  {
   "cell_type": "code",
   "execution_count": 155,
   "id": "0566a8f8",
   "metadata": {},
   "outputs": [
    {
     "name": "stdout",
     "output_type": "stream",
     "text": [
      "\n"
     ]
    },
    {
     "data": {
      "application/vnd.plotly.v1+json": {
       "config": {
        "plotlyServerURL": "https://plot.ly"
       },
       "data": [
        {
         "hovertemplate": "time=%{x}<br>price=%{y}<extra></extra>",
         "legendgroup": "",
         "line": {
          "color": "#636efa",
          "dash": "solid"
         },
         "marker": {
          "symbol": "circle"
         },
         "mode": "lines",
         "name": "",
         "orientation": "v",
         "showlegend": false,
         "type": "scatter",
         "x": [
          "2021-12-01T00:00:00",
          "2021-12-02T00:00:00",
          "2021-12-03T00:00:00",
          "2021-12-04T00:00:00",
          "2021-12-05T00:00:00",
          "2021-12-06T00:00:00",
          "2021-12-07T00:00:00",
          "2021-12-08T00:00:00",
          "2021-12-09T00:00:00",
          "2021-12-10T00:00:00",
          "2021-12-11T00:00:00",
          "2021-12-12T00:00:00",
          "2021-12-13T00:00:00",
          "2021-12-14T00:00:00",
          "2021-12-15T00:00:00",
          "2021-12-16T00:00:00",
          "2021-12-17T00:00:00",
          "2021-12-18T00:00:00",
          "2021-12-19T00:00:00",
          "2021-12-20T00:00:00",
          "2021-12-21T00:00:00",
          "2021-12-22T00:00:00",
          "2021-12-23T00:00:00",
          "2021-12-24T00:00:00",
          "2021-12-25T00:00:00",
          "2021-12-26T00:00:00",
          "2021-12-27T00:00:00",
          "2021-12-28T00:00:00",
          "2021-12-29T00:00:00",
          "2021-12-30T00:00:00",
          "2021-12-31T00:00:00",
          "2022-01-01T00:00:00",
          "2022-01-02T00:00:00",
          "2022-01-03T00:00:00",
          "2022-01-04T00:00:00",
          "2022-01-05T00:00:00",
          "2022-01-06T00:00:00",
          "2022-01-07T00:00:00",
          "2022-01-08T00:00:00",
          "2022-01-09T00:00:00",
          "2022-01-10T00:00:00",
          "2022-01-11T00:00:00",
          "2022-01-12T00:00:00",
          "2022-01-13T00:00:00",
          "2022-01-14T00:00:00",
          "2022-01-15T00:00:00",
          "2022-01-16T00:00:00",
          "2022-01-17T00:00:00",
          "2022-01-18T00:00:00",
          "2022-01-19T00:00:00",
          "2022-01-20T00:00:00",
          "2022-01-21T00:00:00",
          "2022-01-22T00:00:00",
          "2022-01-23T00:00:00",
          "2022-01-24T00:00:00",
          "2022-01-25T00:00:00",
          "2022-01-26T00:00:00",
          "2022-01-27T00:00:00",
          "2022-01-28T00:00:00",
          "2022-01-29T00:00:00",
          "2022-01-30T00:00:00",
          "2022-01-31T00:00:00",
          "2022-02-01T00:00:00",
          "2022-02-02T00:00:00",
          "2022-02-03T00:00:00",
          "2022-02-04T00:00:00",
          "2022-02-05T00:00:00",
          "2022-02-06T00:00:00",
          "2022-02-07T00:00:00",
          "2022-02-08T00:00:00",
          "2022-02-09T00:00:00",
          "2022-02-10T00:00:00",
          "2022-02-11T00:00:00",
          "2022-02-12T00:00:00",
          "2022-02-13T00:00:00",
          "2022-02-14T00:00:00",
          "2022-02-15T00:00:00",
          "2022-02-16T00:00:00",
          "2022-02-17T00:00:00",
          "2022-02-18T00:00:00",
          "2022-02-19T00:00:00",
          "2022-02-20T00:00:00",
          "2022-02-21T00:00:00",
          "2022-02-22T00:00:00",
          "2022-02-23T00:00:00",
          "2022-02-24T00:00:00",
          "2022-02-25T00:00:00",
          "2022-02-26T00:00:00",
          "2022-02-27T00:00:00",
          "2022-02-28T00:00:00",
          "2022-03-01T00:00:00",
          "2022-03-02T00:00:00",
          "2022-03-03T00:00:00",
          "2022-03-04T00:00:00",
          "2022-03-05T00:00:00",
          "2022-03-06T00:00:00",
          "2022-03-07T00:00:00",
          "2022-03-08T00:00:00",
          "2022-03-09T00:00:00",
          "2022-03-10T00:00:00",
          "2022-03-11T00:00:00",
          "2022-03-12T00:00:00",
          "2022-03-13T00:00:00",
          "2022-03-14T00:00:00",
          "2022-03-15T00:00:00",
          "2022-03-16T00:00:00",
          "2022-03-17T00:00:00",
          "2022-03-18T00:00:00",
          "2022-03-19T00:00:00",
          "2022-03-20T00:00:00",
          "2022-03-21T00:00:00",
          "2022-03-22T00:00:00",
          "2022-03-23T00:00:00",
          "2022-03-24T00:00:00",
          "2022-03-25T00:00:00",
          "2022-03-26T00:00:00",
          "2022-03-27T00:00:00",
          "2022-03-28T00:00:00",
          "2022-03-29T00:00:00",
          "2022-03-30T00:00:00",
          "2022-03-31T00:00:00",
          "2022-04-01T00:00:00",
          "2022-04-02T00:00:00",
          "2022-04-03T00:00:00",
          "2022-04-04T00:00:00",
          "2022-04-05T00:00:00",
          "2022-04-06T00:00:00",
          "2022-04-07T00:00:00",
          "2022-04-08T00:00:00",
          "2022-04-09T00:00:00",
          "2022-04-10T00:00:00",
          "2022-04-11T00:00:00",
          "2022-04-12T00:00:00",
          "2022-04-13T00:00:00",
          "2022-04-14T00:00:00",
          "2022-04-15T00:00:00",
          "2022-04-16T00:00:00",
          "2022-04-17T00:00:00",
          "2022-04-18T00:00:00",
          "2022-04-19T00:00:00",
          "2022-04-20T00:00:00",
          "2022-04-21T00:00:00",
          "2022-04-22T00:00:00",
          "2022-04-23T00:00:00",
          "2022-04-24T00:00:00",
          "2022-04-25T00:00:00",
          "2022-04-26T00:00:00",
          "2022-04-27T00:00:00",
          "2022-04-28T00:00:00",
          "2022-04-29T00:00:00",
          "2022-04-30T00:00:00",
          "2022-05-01T00:00:00",
          "2022-05-02T00:00:00",
          "2022-05-03T00:00:00",
          "2022-05-04T00:00:00",
          "2022-05-05T00:00:00",
          "2022-05-06T00:00:00",
          "2022-05-07T00:00:00",
          "2022-05-08T00:00:00",
          "2022-05-09T00:00:00",
          "2022-05-10T00:00:00",
          "2022-05-11T00:00:00",
          "2022-05-12T00:00:00",
          "2022-05-13T00:00:00",
          "2022-05-14T00:00:00",
          "2022-05-15T00:00:00",
          "2022-05-16T00:00:00",
          "2022-05-17T00:00:00",
          "2022-05-18T00:00:00",
          "2022-05-19T00:00:00",
          "2022-05-20T00:00:00",
          "2022-05-21T00:00:00",
          "2022-05-22T00:00:00",
          "2022-05-23T00:00:00",
          "2022-05-24T00:00:00",
          "2022-05-25T00:00:00",
          "2022-05-26T00:00:00",
          "2022-05-27T00:00:00",
          "2022-05-28T00:00:00",
          "2022-05-29T00:00:00",
          "2022-05-30T00:00:00",
          "2022-05-31T00:00:00",
          "2022-06-01T00:00:00",
          "2022-06-02T00:00:00",
          "2022-06-03T00:00:00",
          "2022-06-04T00:00:00",
          "2022-06-05T00:00:00",
          "2022-06-06T00:00:00",
          "2022-06-07T00:00:00",
          "2022-06-08T00:00:00",
          "2022-06-09T00:00:00",
          "2022-06-10T00:00:00",
          "2022-06-11T00:00:00",
          "2022-06-12T00:00:00",
          "2022-06-13T00:00:00",
          "2022-06-14T00:00:00",
          "2022-06-15T00:00:00",
          "2022-06-16T00:00:00",
          "2022-06-17T00:00:00",
          "2022-06-18T00:00:00",
          "2022-06-19T00:00:00",
          "2022-06-20T00:00:00",
          "2022-06-21T00:00:00",
          "2022-06-22T00:00:00",
          "2022-06-23T00:00:00",
          "2022-06-24T00:00:00",
          "2022-06-25T00:00:00",
          "2022-06-26T00:00:00",
          "2022-06-27T00:00:00",
          "2022-06-28T00:00:00",
          "2022-06-29T00:00:00",
          "2022-06-30T00:00:00",
          "2022-07-01T00:00:00",
          "2022-07-02T00:00:00",
          "2022-07-03T00:00:00",
          "2022-07-04T00:00:00",
          "2022-07-05T00:00:00",
          "2022-07-06T00:00:00",
          "2022-07-07T00:00:00",
          "2022-07-08T00:00:00",
          "2022-07-09T00:00:00",
          "2022-07-10T00:00:00",
          "2022-07-11T00:00:00",
          "2022-07-12T00:00:00",
          "2022-07-13T00:00:00",
          "2022-07-14T00:00:00",
          "2022-07-15T00:00:00",
          "2022-07-16T00:00:00",
          "2022-07-17T00:00:00",
          "2022-07-18T00:00:00",
          "2022-07-19T00:00:00",
          "2022-07-20T00:00:00",
          "2022-07-21T00:00:00",
          "2022-07-22T00:00:00",
          "2022-07-23T00:00:00",
          "2022-07-24T00:00:00",
          "2022-07-25T00:00:00",
          "2022-07-26T00:00:00",
          "2022-07-27T00:00:00",
          "2022-07-28T00:00:00",
          "2022-07-29T00:00:00",
          "2022-07-30T00:00:00",
          "2022-07-31T00:00:00",
          "2022-08-01T00:00:00",
          "2022-08-02T00:00:00",
          "2022-08-03T00:00:00",
          "2022-08-04T00:00:00",
          "2022-08-05T00:00:00",
          "2022-08-06T00:00:00",
          "2022-08-07T00:00:00",
          "2022-08-08T00:00:00",
          "2022-08-09T00:00:00",
          "2022-08-10T00:00:00",
          "2022-08-11T00:00:00",
          "2022-08-12T00:00:00",
          "2022-08-13T00:00:00",
          "2022-08-14T00:00:00",
          "2022-08-15T00:00:00",
          "2022-08-16T00:00:00",
          "2022-08-17T00:00:00",
          "2022-08-18T00:00:00",
          "2022-08-19T00:00:00",
          "2022-08-20T00:00:00",
          "2022-08-21T00:00:00",
          "2022-08-22T00:00:00",
          "2022-08-23T00:00:00",
          "2022-08-24T00:00:00",
          "2022-08-25T00:00:00",
          "2022-08-26T00:00:00",
          "2022-08-27T00:00:00",
          "2022-08-28T00:00:00",
          "2022-08-29T00:00:00",
          "2022-08-30T00:00:00",
          "2022-08-31T00:00:00",
          "2022-09-01T00:00:00",
          "2022-09-02T00:00:00",
          "2022-09-03T00:00:00",
          "2022-09-04T00:00:00",
          "2022-09-05T00:00:00",
          "2022-09-06T00:00:00",
          "2022-09-07T00:00:00",
          "2022-09-08T00:00:00",
          "2022-09-09T00:00:00",
          "2022-09-10T00:00:00",
          "2022-09-11T00:00:00",
          "2022-09-12T00:00:00",
          "2022-09-13T00:00:00",
          "2022-09-14T00:00:00",
          "2022-09-15T00:00:00",
          "2022-09-16T00:00:00",
          "2022-09-17T00:00:00",
          "2022-09-18T00:00:00",
          "2022-09-19T00:00:00",
          "2022-09-20T00:00:00",
          "2022-09-21T00:00:00",
          "2022-09-22T00:00:00",
          "2022-09-23T00:00:00",
          "2022-09-24T00:00:00",
          "2022-09-25T00:00:00",
          "2022-09-26T00:00:00",
          "2022-09-27T00:00:00",
          "2022-09-28T00:00:00",
          "2022-09-29T00:00:00",
          "2022-09-30T00:00:00",
          "2022-10-01T00:00:00",
          "2022-10-02T00:00:00",
          "2022-10-03T00:00:00",
          "2022-10-04T00:00:00",
          "2022-10-05T00:00:00",
          "2022-10-06T00:00:00",
          "2022-10-07T00:00:00",
          "2022-10-08T00:00:00",
          "2022-10-09T00:00:00",
          "2022-10-10T00:00:00",
          "2022-10-11T00:00:00",
          "2022-10-12T00:00:00",
          "2022-10-13T00:00:00",
          "2022-10-14T00:00:00",
          "2022-10-15T00:00:00",
          "2022-10-16T00:00:00",
          "2022-10-17T00:00:00",
          "2022-10-18T00:00:00",
          "2022-10-19T00:00:00",
          "2022-10-20T00:00:00",
          "2022-10-21T00:00:00",
          "2022-10-22T00:00:00",
          "2022-10-23T00:00:00",
          "2022-10-24T00:00:00",
          "2022-10-25T00:00:00",
          "2022-10-26T00:00:00",
          "2022-10-27T00:00:00",
          "2022-10-28T00:00:00",
          "2022-10-29T00:00:00",
          "2022-10-30T00:00:00",
          "2022-10-31T00:00:00",
          "2022-11-01T00:00:00",
          "2022-11-02T00:00:00",
          "2022-11-03T00:00:00",
          "2022-11-04T00:00:00",
          "2022-11-05T00:00:00",
          "2022-11-06T00:00:00",
          "2022-11-07T00:00:00",
          "2022-11-08T00:00:00",
          "2022-11-09T00:00:00",
          "2022-11-10T00:00:00",
          "2022-11-11T00:00:00",
          "2022-11-12T00:00:00",
          "2022-11-13T00:00:00",
          "2022-11-14T00:00:00",
          "2022-11-15T00:00:00",
          "2022-11-16T00:00:00",
          "2022-11-17T00:00:00",
          "2022-11-18T00:00:00",
          "2022-11-19T00:00:00",
          "2022-11-20T00:00:00",
          "2022-11-21T00:00:00",
          "2022-11-22T00:00:00",
          "2022-11-23T00:00:00",
          "2022-11-24T00:00:00",
          "2022-11-25T00:00:00",
          "2022-11-26T00:00:00",
          "2022-11-27T00:00:00",
          "2022-11-28T00:00:00",
          "2022-11-29T00:00:00",
          "2022-11-30T00:00:00",
          "2022-11-30T10:34:49"
         ],
         "xaxis": "x",
         "y": [
          50310.23157858034,
          50506.910551023844,
          49974.160510668,
          47537.22107822653,
          43452.36627055587,
          43584.415787737744,
          44721.77431769078,
          44927.87083488738,
          44540.22385241009,
          42404.08890755657,
          41793.12466052318,
          43511.77863340992,
          44253.81209678298,
          41388.14895905966,
          42995.310483289984,
          43340.68766182639,
          42082.02893086878,
          41217.158638052446,
          41788.32035689083,
          41634.77613021395,
          41783.36287549383,
          43541.433860598554,
          43045.84892569251,
          44939.3894297034,
          44944.76575352705,
          44745.83981814187,
          44908.059189479805,
          44818.168111937994,
          42181.44257440689,
          40960.337931023954,
          41672.35465483228,
          40724.329875917916,
          42039.991125253684,
          41678.04823294517,
          41182.38621861256,
          40712.02275452388,
          38583.9474556897,
          38256.89466270997,
          36548.87513397554,
          36754.38120421491,
          36877.3491771193,
          36950.15061656012,
          37634.14971670083,
          38443.019605976486,
          37184.9985435791,
          37774.601606233235,
          37867.28048940748,
          37793.20421964552,
          37075.17276239649,
          37421.411588852076,
          36804.81805860254,
          35990.191222362555,
          32181.22920674321,
          31010.322545243864,
          32010.163092146187,
          32475.015385290793,
          32723.735164102294,
          32807.24391965484,
          33451.63939007328,
          33950.318803453716,
          34290.78519449822,
          34072.444204179075,
          34331.69854991698,
          34449.74689911461,
          32740.31936392339,
          32442.868786314128,
          36399.056660401795,
          36241.7092200966,
          37089.68681607784,
          38378.15280815121,
          38685.33954326799,
          38856.54055643573,
          38228.37195871204,
          37393.5385967781,
          37227.86094766816,
          37171.12474594334,
          37706.01705427157,
          39246.57490474962,
          38743.96258183267,
          35684.43594638543,
          35394.19345589656,
          35499.53102434018,
          34031.786736787326,
          32780.18180097314,
          33839.29141309584,
          33059.642221913615,
          34280.52644494906,
          34873.31781273593,
          34679.02920138296,
          33811.757861046884,
          38535.707622362024,
          39946.94307752749,
          39565.57212941758,
          38398.76860670511,
          35864.04062567888,
          36114.42256250789,
          35379.162189723094,
          35045.109919828006,
          35547.850136570734,
          37916.034224976975,
          35846.10704535494,
          35527.90973358008,
          35645.6648281346,
          34612.61395666388,
          36250.752537309745,
          35862.77767571413,
          37351.84480113969,
          36949.05960161877,
          37809.892724835314,
          38139.327972283274,
          37381.53690959784,
          37265.15827267271,
          38448.59726335312,
          38891.45024076582,
          39912.780030151276,
          40361.867241009044,
          40521.515293772805,
          42535.70290565289,
          42737.143070234335,
          42784.61892416393,
          42171.36428668906,
          41115.11100574884,
          41879.15865886829,
          41504.881920695625,
          42050.7687605945,
          42485.99573681132,
          41838.58457674535,
          39639.887367573596,
          40058.4373266059,
          38905.61362467247,
          39347.56419454134,
          38835.92820550051,
          36410.26180487428,
          37138.065125210036,
          37820.205313940205,
          36934.44624999378,
          37538.8279576329,
          37412.83897225637,
          36747.319923898205,
          37875.02563885304,
          38450.16834923322,
          38162.027696980214,
          37404.43939479423,
          36857.30248267918,
          36676.46043788396,
          36519.212013396675,
          37792.3996260646,
          35823.58706810112,
          37171.75738231169,
          37838.21550700867,
          36657.49586967173,
          35870.35409900302,
          36563.83316485478,
          36688.63016759306,
          35876.76369570894,
          37372.38333926808,
          34729.15274641945,
          34239.06411952975,
          33724.209534699476,
          32341.27792386463,
          28653.94775281938,
          29465.503421437046,
          27502.39447755454,
          28051.915693517538,
          28151.196522206264,
          28995.04315652366,
          30104.58970725485,
          28668.850305182383,
          28918.183881038825,
          27476.012868537517,
          28713.13607843684,
          27690.37432953656,
          27912.503120729572,
          28712.79176877221,
          27282.23094370736,
          27628.905781352812,
          27685.44814673912,
          27342.51365703925,
          26692.377570081066,
          27103.836962005982,
          27488.84153153608,
          29460.41761594518,
          29678.32523842781,
          28005.793496076178,
          28354.963269803175,
          27718.03647011353,
          27868.61199628631,
          27893.43838337483,
          29346.982455169305,
          29219.144313468325,
          28207.868227372048,
          28342.37513455417,
          27664.79997495412,
          26971.61101010621,
          25520.34270605597,
          21630.79704806176,
          21314.52489446156,
          21548.1416535493,
          19349.010054248763,
          19500.00962347663,
          18147.31305138862,
          19557.76211360825,
          19616.312457705713,
          19649.109988001404,
          18916.643868343002,
          20056.229147512993,
          20142.78510109529,
          20392.09071765335,
          19921.301318923623,
          19611.183840473812,
          19273.56712109598,
          19249.25179145432,
          18713.666315798244,
          18608.94741319181,
          18475.455070868466,
          18509.24474461758,
          19416.285545919323,
          19670.998031931347,
          20192.126716050698,
          21303.565219409724,
          21458.10288390686,
          21193.847039103744,
          20512.247857455524,
          19903.7950928232,
          19284.51912686527,
          20159.30438628614,
          20526.572015472782,
          20628.45348558518,
          21023.53867662143,
          20628.759512325418,
          22080.173010702092,
          22840.100763878076,
          22903.332408928116,
          22652.646930469207,
          22225.715053111086,
          22036.810275321415,
          22166.668593220573,
          20864.228495188396,
          20963.010760784193,
          22449.790219888906,
          23370.75852718244,
          23319.88399506148,
          23130.055796521006,
          22901.86620575899,
          22736.89527141749,
          22700.82329070718,
          22505.947296599305,
          22133.60666102488,
          22797.951011225403,
          22561.89311386523,
          22803.17461773299,
          23363.120071472124,
          22729.049408128965,
          23252.972361771725,
          23209.38189233366,
          23786.863540269536,
          23808.56758342788,
          23700.71631993417,
          23792.730714223864,
          23503.22005223396,
          22949.461036479446,
          23029.38444876302,
          20870.701259613335,
          21097.180825135696,
          21531.76284347637,
          21517.14298481832,
          21638.28668197949,
          21464.99370978659,
          21684.26821682046,
          20344.563241530534,
          20140.439007696747,
          19782.470864547955,
          20293.122080269328,
          19757.382139465397,
          19946.96434916074,
          20248.33689351139,
          20035.614903416496,
          19908.128617480066,
          20156.71645917984,
          19883.791597090312,
          19050.961732570493,
          19289.494564175904,
          19305.02011661991,
          21044.742279152062,
          21383.426270964625,
          21579.625501125218,
          22054.839703714908,
          20226.42741512492,
          20292.322871919205,
          19723.172402914275,
          19732.571244775656,
          20099.22304512122,
          19385.785459737548,
          19523.241647940245,
          18928.74637748945,
          18855.99557401917,
          19786.418274781594,
          19904.982245169223,
          19545.8981193107,
          19414.05877946124,
          19991.64970751099,
          19925.888669035365,
          20027.178609903058,
          19896.975210012286,
          19870.360513243373,
          19701.815407432718,
          19470.860310803437,
          19954.31339750781,
          20380.697786538993,
          20345.625862871297,
          20383.142392079746,
          19960.494418039492,
          19926.14978930852,
          19982.428551133922,
          19714.1042061995,
          19642.35569933938,
          19728.339635858425,
          19837.87640241695,
          19748.09451844033,
          19619.17752950558,
          19786.06339196892,
          19873.188383011733,
          19617.08306521306,
          19592.81392416176,
          19465.45094023754,
          19444.333134846896,
          19480.78521127148,
          19835.81536332392,
          19534.217571069006,
          20172.35780554517,
          20583.41525892392,
          20338.775485057427,
          20663.49587349789,
          20873.696768895566,
          20717.81323171006,
          20731.682756632563,
          20741.648361813386,
          20532.971604426093,
          20731.020037253325,
          21187.392087131007,
          21318.102034853226,
          21050.378118738176,
          20556.847875596974,
          18418.959036503136,
          15714.170905933977,
          17260.25046037946,
          16468.41903014687,
          16211.922497290752,
          15822.33671111262,
          16131.921836994286,
          16309.224924589491,
          16058.103611925184,
          16134.305278552902,
          16150.62879937794,
          16154.591210551409,
          15782.884430779812,
          15439.915078745722,
          15689.213114262966,
          15946.247219563651,
          15944.641354952635,
          15868.296186522324,
          15801.201051209351,
          15872.19981187594,
          15683.633332537333,
          15928.168104093502,
          16338.98760211611
         ],
         "yaxis": "y"
        }
       ],
       "layout": {
        "legend": {
         "tracegroupgap": 0
        },
        "template": {
         "data": {
          "bar": [
           {
            "error_x": {
             "color": "#2a3f5f"
            },
            "error_y": {
             "color": "#2a3f5f"
            },
            "marker": {
             "line": {
              "color": "#E5ECF6",
              "width": 0.5
             },
             "pattern": {
              "fillmode": "overlay",
              "size": 10,
              "solidity": 0.2
             }
            },
            "type": "bar"
           }
          ],
          "barpolar": [
           {
            "marker": {
             "line": {
              "color": "#E5ECF6",
              "width": 0.5
             },
             "pattern": {
              "fillmode": "overlay",
              "size": 10,
              "solidity": 0.2
             }
            },
            "type": "barpolar"
           }
          ],
          "carpet": [
           {
            "aaxis": {
             "endlinecolor": "#2a3f5f",
             "gridcolor": "white",
             "linecolor": "white",
             "minorgridcolor": "white",
             "startlinecolor": "#2a3f5f"
            },
            "baxis": {
             "endlinecolor": "#2a3f5f",
             "gridcolor": "white",
             "linecolor": "white",
             "minorgridcolor": "white",
             "startlinecolor": "#2a3f5f"
            },
            "type": "carpet"
           }
          ],
          "choropleth": [
           {
            "colorbar": {
             "outlinewidth": 0,
             "ticks": ""
            },
            "type": "choropleth"
           }
          ],
          "contour": [
           {
            "colorbar": {
             "outlinewidth": 0,
             "ticks": ""
            },
            "colorscale": [
             [
              0,
              "#0d0887"
             ],
             [
              0.1111111111111111,
              "#46039f"
             ],
             [
              0.2222222222222222,
              "#7201a8"
             ],
             [
              0.3333333333333333,
              "#9c179e"
             ],
             [
              0.4444444444444444,
              "#bd3786"
             ],
             [
              0.5555555555555556,
              "#d8576b"
             ],
             [
              0.6666666666666666,
              "#ed7953"
             ],
             [
              0.7777777777777778,
              "#fb9f3a"
             ],
             [
              0.8888888888888888,
              "#fdca26"
             ],
             [
              1,
              "#f0f921"
             ]
            ],
            "type": "contour"
           }
          ],
          "contourcarpet": [
           {
            "colorbar": {
             "outlinewidth": 0,
             "ticks": ""
            },
            "type": "contourcarpet"
           }
          ],
          "heatmap": [
           {
            "colorbar": {
             "outlinewidth": 0,
             "ticks": ""
            },
            "colorscale": [
             [
              0,
              "#0d0887"
             ],
             [
              0.1111111111111111,
              "#46039f"
             ],
             [
              0.2222222222222222,
              "#7201a8"
             ],
             [
              0.3333333333333333,
              "#9c179e"
             ],
             [
              0.4444444444444444,
              "#bd3786"
             ],
             [
              0.5555555555555556,
              "#d8576b"
             ],
             [
              0.6666666666666666,
              "#ed7953"
             ],
             [
              0.7777777777777778,
              "#fb9f3a"
             ],
             [
              0.8888888888888888,
              "#fdca26"
             ],
             [
              1,
              "#f0f921"
             ]
            ],
            "type": "heatmap"
           }
          ],
          "heatmapgl": [
           {
            "colorbar": {
             "outlinewidth": 0,
             "ticks": ""
            },
            "colorscale": [
             [
              0,
              "#0d0887"
             ],
             [
              0.1111111111111111,
              "#46039f"
             ],
             [
              0.2222222222222222,
              "#7201a8"
             ],
             [
              0.3333333333333333,
              "#9c179e"
             ],
             [
              0.4444444444444444,
              "#bd3786"
             ],
             [
              0.5555555555555556,
              "#d8576b"
             ],
             [
              0.6666666666666666,
              "#ed7953"
             ],
             [
              0.7777777777777778,
              "#fb9f3a"
             ],
             [
              0.8888888888888888,
              "#fdca26"
             ],
             [
              1,
              "#f0f921"
             ]
            ],
            "type": "heatmapgl"
           }
          ],
          "histogram": [
           {
            "marker": {
             "pattern": {
              "fillmode": "overlay",
              "size": 10,
              "solidity": 0.2
             }
            },
            "type": "histogram"
           }
          ],
          "histogram2d": [
           {
            "colorbar": {
             "outlinewidth": 0,
             "ticks": ""
            },
            "colorscale": [
             [
              0,
              "#0d0887"
             ],
             [
              0.1111111111111111,
              "#46039f"
             ],
             [
              0.2222222222222222,
              "#7201a8"
             ],
             [
              0.3333333333333333,
              "#9c179e"
             ],
             [
              0.4444444444444444,
              "#bd3786"
             ],
             [
              0.5555555555555556,
              "#d8576b"
             ],
             [
              0.6666666666666666,
              "#ed7953"
             ],
             [
              0.7777777777777778,
              "#fb9f3a"
             ],
             [
              0.8888888888888888,
              "#fdca26"
             ],
             [
              1,
              "#f0f921"
             ]
            ],
            "type": "histogram2d"
           }
          ],
          "histogram2dcontour": [
           {
            "colorbar": {
             "outlinewidth": 0,
             "ticks": ""
            },
            "colorscale": [
             [
              0,
              "#0d0887"
             ],
             [
              0.1111111111111111,
              "#46039f"
             ],
             [
              0.2222222222222222,
              "#7201a8"
             ],
             [
              0.3333333333333333,
              "#9c179e"
             ],
             [
              0.4444444444444444,
              "#bd3786"
             ],
             [
              0.5555555555555556,
              "#d8576b"
             ],
             [
              0.6666666666666666,
              "#ed7953"
             ],
             [
              0.7777777777777778,
              "#fb9f3a"
             ],
             [
              0.8888888888888888,
              "#fdca26"
             ],
             [
              1,
              "#f0f921"
             ]
            ],
            "type": "histogram2dcontour"
           }
          ],
          "mesh3d": [
           {
            "colorbar": {
             "outlinewidth": 0,
             "ticks": ""
            },
            "type": "mesh3d"
           }
          ],
          "parcoords": [
           {
            "line": {
             "colorbar": {
              "outlinewidth": 0,
              "ticks": ""
             }
            },
            "type": "parcoords"
           }
          ],
          "pie": [
           {
            "automargin": true,
            "type": "pie"
           }
          ],
          "scatter": [
           {
            "fillpattern": {
             "fillmode": "overlay",
             "size": 10,
             "solidity": 0.2
            },
            "type": "scatter"
           }
          ],
          "scatter3d": [
           {
            "line": {
             "colorbar": {
              "outlinewidth": 0,
              "ticks": ""
             }
            },
            "marker": {
             "colorbar": {
              "outlinewidth": 0,
              "ticks": ""
             }
            },
            "type": "scatter3d"
           }
          ],
          "scattercarpet": [
           {
            "marker": {
             "colorbar": {
              "outlinewidth": 0,
              "ticks": ""
             }
            },
            "type": "scattercarpet"
           }
          ],
          "scattergeo": [
           {
            "marker": {
             "colorbar": {
              "outlinewidth": 0,
              "ticks": ""
             }
            },
            "type": "scattergeo"
           }
          ],
          "scattergl": [
           {
            "marker": {
             "colorbar": {
              "outlinewidth": 0,
              "ticks": ""
             }
            },
            "type": "scattergl"
           }
          ],
          "scattermapbox": [
           {
            "marker": {
             "colorbar": {
              "outlinewidth": 0,
              "ticks": ""
             }
            },
            "type": "scattermapbox"
           }
          ],
          "scatterpolar": [
           {
            "marker": {
             "colorbar": {
              "outlinewidth": 0,
              "ticks": ""
             }
            },
            "type": "scatterpolar"
           }
          ],
          "scatterpolargl": [
           {
            "marker": {
             "colorbar": {
              "outlinewidth": 0,
              "ticks": ""
             }
            },
            "type": "scatterpolargl"
           }
          ],
          "scatterternary": [
           {
            "marker": {
             "colorbar": {
              "outlinewidth": 0,
              "ticks": ""
             }
            },
            "type": "scatterternary"
           }
          ],
          "surface": [
           {
            "colorbar": {
             "outlinewidth": 0,
             "ticks": ""
            },
            "colorscale": [
             [
              0,
              "#0d0887"
             ],
             [
              0.1111111111111111,
              "#46039f"
             ],
             [
              0.2222222222222222,
              "#7201a8"
             ],
             [
              0.3333333333333333,
              "#9c179e"
             ],
             [
              0.4444444444444444,
              "#bd3786"
             ],
             [
              0.5555555555555556,
              "#d8576b"
             ],
             [
              0.6666666666666666,
              "#ed7953"
             ],
             [
              0.7777777777777778,
              "#fb9f3a"
             ],
             [
              0.8888888888888888,
              "#fdca26"
             ],
             [
              1,
              "#f0f921"
             ]
            ],
            "type": "surface"
           }
          ],
          "table": [
           {
            "cells": {
             "fill": {
              "color": "#EBF0F8"
             },
             "line": {
              "color": "white"
             }
            },
            "header": {
             "fill": {
              "color": "#C8D4E3"
             },
             "line": {
              "color": "white"
             }
            },
            "type": "table"
           }
          ]
         },
         "layout": {
          "annotationdefaults": {
           "arrowcolor": "#2a3f5f",
           "arrowhead": 0,
           "arrowwidth": 1
          },
          "autotypenumbers": "strict",
          "coloraxis": {
           "colorbar": {
            "outlinewidth": 0,
            "ticks": ""
           }
          },
          "colorscale": {
           "diverging": [
            [
             0,
             "#8e0152"
            ],
            [
             0.1,
             "#c51b7d"
            ],
            [
             0.2,
             "#de77ae"
            ],
            [
             0.3,
             "#f1b6da"
            ],
            [
             0.4,
             "#fde0ef"
            ],
            [
             0.5,
             "#f7f7f7"
            ],
            [
             0.6,
             "#e6f5d0"
            ],
            [
             0.7,
             "#b8e186"
            ],
            [
             0.8,
             "#7fbc41"
            ],
            [
             0.9,
             "#4d9221"
            ],
            [
             1,
             "#276419"
            ]
           ],
           "sequential": [
            [
             0,
             "#0d0887"
            ],
            [
             0.1111111111111111,
             "#46039f"
            ],
            [
             0.2222222222222222,
             "#7201a8"
            ],
            [
             0.3333333333333333,
             "#9c179e"
            ],
            [
             0.4444444444444444,
             "#bd3786"
            ],
            [
             0.5555555555555556,
             "#d8576b"
            ],
            [
             0.6666666666666666,
             "#ed7953"
            ],
            [
             0.7777777777777778,
             "#fb9f3a"
            ],
            [
             0.8888888888888888,
             "#fdca26"
            ],
            [
             1,
             "#f0f921"
            ]
           ],
           "sequentialminus": [
            [
             0,
             "#0d0887"
            ],
            [
             0.1111111111111111,
             "#46039f"
            ],
            [
             0.2222222222222222,
             "#7201a8"
            ],
            [
             0.3333333333333333,
             "#9c179e"
            ],
            [
             0.4444444444444444,
             "#bd3786"
            ],
            [
             0.5555555555555556,
             "#d8576b"
            ],
            [
             0.6666666666666666,
             "#ed7953"
            ],
            [
             0.7777777777777778,
             "#fb9f3a"
            ],
            [
             0.8888888888888888,
             "#fdca26"
            ],
            [
             1,
             "#f0f921"
            ]
           ]
          },
          "colorway": [
           "#636efa",
           "#EF553B",
           "#00cc96",
           "#ab63fa",
           "#FFA15A",
           "#19d3f3",
           "#FF6692",
           "#B6E880",
           "#FF97FF",
           "#FECB52"
          ],
          "font": {
           "color": "#2a3f5f"
          },
          "geo": {
           "bgcolor": "white",
           "lakecolor": "white",
           "landcolor": "#E5ECF6",
           "showlakes": true,
           "showland": true,
           "subunitcolor": "white"
          },
          "hoverlabel": {
           "align": "left"
          },
          "hovermode": "closest",
          "mapbox": {
           "style": "light"
          },
          "paper_bgcolor": "white",
          "plot_bgcolor": "#E5ECF6",
          "polar": {
           "angularaxis": {
            "gridcolor": "white",
            "linecolor": "white",
            "ticks": ""
           },
           "bgcolor": "#E5ECF6",
           "radialaxis": {
            "gridcolor": "white",
            "linecolor": "white",
            "ticks": ""
           }
          },
          "scene": {
           "xaxis": {
            "backgroundcolor": "#E5ECF6",
            "gridcolor": "white",
            "gridwidth": 2,
            "linecolor": "white",
            "showbackground": true,
            "ticks": "",
            "zerolinecolor": "white"
           },
           "yaxis": {
            "backgroundcolor": "#E5ECF6",
            "gridcolor": "white",
            "gridwidth": 2,
            "linecolor": "white",
            "showbackground": true,
            "ticks": "",
            "zerolinecolor": "white"
           },
           "zaxis": {
            "backgroundcolor": "#E5ECF6",
            "gridcolor": "white",
            "gridwidth": 2,
            "linecolor": "white",
            "showbackground": true,
            "ticks": "",
            "zerolinecolor": "white"
           }
          },
          "shapedefaults": {
           "line": {
            "color": "#2a3f5f"
           }
          },
          "ternary": {
           "aaxis": {
            "gridcolor": "white",
            "linecolor": "white",
            "ticks": ""
           },
           "baxis": {
            "gridcolor": "white",
            "linecolor": "white",
            "ticks": ""
           },
           "bgcolor": "#E5ECF6",
           "caxis": {
            "gridcolor": "white",
            "linecolor": "white",
            "ticks": ""
           }
          },
          "title": {
           "x": 0.05
          },
          "xaxis": {
           "automargin": true,
           "gridcolor": "white",
           "linecolor": "white",
           "ticks": "",
           "title": {
            "standoff": 15
           },
           "zerolinecolor": "white",
           "zerolinewidth": 2
          },
          "yaxis": {
           "automargin": true,
           "gridcolor": "white",
           "linecolor": "white",
           "ticks": "",
           "title": {
            "standoff": 15
           },
           "zerolinecolor": "white",
           "zerolinewidth": 2
          }
         }
        },
        "title": {
         "text": "Preisverlauf von Bitcoin"
        },
        "xaxis": {
         "anchor": "y",
         "domain": [
          0,
          1
         ],
         "rangeslider": {
          "visible": true
         },
         "title": {
          "text": "time"
         }
        },
        "yaxis": {
         "anchor": "x",
         "domain": [
          0,
          1
         ],
         "title": {
          "text": "price"
         }
        }
       }
      }
     },
     "metadata": {},
     "output_type": "display_data"
    }
   ],
   "source": [
    "detect_intent_result = detected_intent(\"Was ist der aktuelle Bitcoin preis\")\n",
    "result = parse_intent_response(detect_intent_result)\n",
    "print_result_to_console(result)"
   ]
  },
  {
   "cell_type": "markdown",
   "id": "ee579a23",
   "metadata": {},
   "source": [
    "# Und jetzt alles zusammen"
   ]
  },
  {
   "cell_type": "code",
   "execution_count": 150,
   "id": "14b3d541",
   "metadata": {},
   "outputs": [
    {
     "name": "stdout",
     "output_type": "stream",
     "text": [
      "Mahlzeit!\n",
      "\n"
     ]
    },
    {
     "data": {
      "application/vnd.plotly.v1+json": {
       "config": {
        "plotlyServerURL": "https://plot.ly"
       },
       "data": [
        {
         "hovertemplate": "time=%{x}<br>price=%{y}<extra></extra>",
         "legendgroup": "",
         "line": {
          "color": "#636efa",
          "dash": "solid"
         },
         "marker": {
          "symbol": "circle"
         },
         "mode": "lines",
         "name": "",
         "orientation": "v",
         "showlegend": false,
         "type": "scatter",
         "x": [
          "2021-12-01T00:00:00",
          "2021-12-02T00:00:00",
          "2021-12-03T00:00:00",
          "2021-12-04T00:00:00",
          "2021-12-05T00:00:00",
          "2021-12-06T00:00:00",
          "2021-12-07T00:00:00",
          "2021-12-08T00:00:00",
          "2021-12-09T00:00:00",
          "2021-12-10T00:00:00",
          "2021-12-11T00:00:00",
          "2021-12-12T00:00:00",
          "2021-12-13T00:00:00",
          "2021-12-14T00:00:00",
          "2021-12-15T00:00:00",
          "2021-12-16T00:00:00",
          "2021-12-17T00:00:00",
          "2021-12-18T00:00:00",
          "2021-12-19T00:00:00",
          "2021-12-20T00:00:00",
          "2021-12-21T00:00:00",
          "2021-12-22T00:00:00",
          "2021-12-23T00:00:00",
          "2021-12-24T00:00:00",
          "2021-12-25T00:00:00",
          "2021-12-26T00:00:00",
          "2021-12-27T00:00:00",
          "2021-12-28T00:00:00",
          "2021-12-29T00:00:00",
          "2021-12-30T00:00:00",
          "2021-12-31T00:00:00",
          "2022-01-01T00:00:00",
          "2022-01-02T00:00:00",
          "2022-01-03T00:00:00",
          "2022-01-04T00:00:00",
          "2022-01-05T00:00:00",
          "2022-01-06T00:00:00",
          "2022-01-07T00:00:00",
          "2022-01-08T00:00:00",
          "2022-01-09T00:00:00",
          "2022-01-10T00:00:00",
          "2022-01-11T00:00:00",
          "2022-01-12T00:00:00",
          "2022-01-13T00:00:00",
          "2022-01-14T00:00:00",
          "2022-01-15T00:00:00",
          "2022-01-16T00:00:00",
          "2022-01-17T00:00:00",
          "2022-01-18T00:00:00",
          "2022-01-19T00:00:00",
          "2022-01-20T00:00:00",
          "2022-01-21T00:00:00",
          "2022-01-22T00:00:00",
          "2022-01-23T00:00:00",
          "2022-01-24T00:00:00",
          "2022-01-25T00:00:00",
          "2022-01-26T00:00:00",
          "2022-01-27T00:00:00",
          "2022-01-28T00:00:00",
          "2022-01-29T00:00:00",
          "2022-01-30T00:00:00",
          "2022-01-31T00:00:00",
          "2022-02-01T00:00:00",
          "2022-02-02T00:00:00",
          "2022-02-03T00:00:00",
          "2022-02-04T00:00:00",
          "2022-02-05T00:00:00",
          "2022-02-06T00:00:00",
          "2022-02-07T00:00:00",
          "2022-02-08T00:00:00",
          "2022-02-09T00:00:00",
          "2022-02-10T00:00:00",
          "2022-02-11T00:00:00",
          "2022-02-12T00:00:00",
          "2022-02-13T00:00:00",
          "2022-02-14T00:00:00",
          "2022-02-15T00:00:00",
          "2022-02-16T00:00:00",
          "2022-02-17T00:00:00",
          "2022-02-18T00:00:00",
          "2022-02-19T00:00:00",
          "2022-02-20T00:00:00",
          "2022-02-21T00:00:00",
          "2022-02-22T00:00:00",
          "2022-02-23T00:00:00",
          "2022-02-24T00:00:00",
          "2022-02-25T00:00:00",
          "2022-02-26T00:00:00",
          "2022-02-27T00:00:00",
          "2022-02-28T00:00:00",
          "2022-03-01T00:00:00",
          "2022-03-02T00:00:00",
          "2022-03-03T00:00:00",
          "2022-03-04T00:00:00",
          "2022-03-05T00:00:00",
          "2022-03-06T00:00:00",
          "2022-03-07T00:00:00",
          "2022-03-08T00:00:00",
          "2022-03-09T00:00:00",
          "2022-03-10T00:00:00",
          "2022-03-11T00:00:00",
          "2022-03-12T00:00:00",
          "2022-03-13T00:00:00",
          "2022-03-14T00:00:00",
          "2022-03-15T00:00:00",
          "2022-03-16T00:00:00",
          "2022-03-17T00:00:00",
          "2022-03-18T00:00:00",
          "2022-03-19T00:00:00",
          "2022-03-20T00:00:00",
          "2022-03-21T00:00:00",
          "2022-03-22T00:00:00",
          "2022-03-23T00:00:00",
          "2022-03-24T00:00:00",
          "2022-03-25T00:00:00",
          "2022-03-26T00:00:00",
          "2022-03-27T00:00:00",
          "2022-03-28T00:00:00",
          "2022-03-29T00:00:00",
          "2022-03-30T00:00:00",
          "2022-03-31T00:00:00",
          "2022-04-01T00:00:00",
          "2022-04-02T00:00:00",
          "2022-04-03T00:00:00",
          "2022-04-04T00:00:00",
          "2022-04-05T00:00:00",
          "2022-04-06T00:00:00",
          "2022-04-07T00:00:00",
          "2022-04-08T00:00:00",
          "2022-04-09T00:00:00",
          "2022-04-10T00:00:00",
          "2022-04-11T00:00:00",
          "2022-04-12T00:00:00",
          "2022-04-13T00:00:00",
          "2022-04-14T00:00:00",
          "2022-04-15T00:00:00",
          "2022-04-16T00:00:00",
          "2022-04-17T00:00:00",
          "2022-04-18T00:00:00",
          "2022-04-19T00:00:00",
          "2022-04-20T00:00:00",
          "2022-04-21T00:00:00",
          "2022-04-22T00:00:00",
          "2022-04-23T00:00:00",
          "2022-04-24T00:00:00",
          "2022-04-25T00:00:00",
          "2022-04-26T00:00:00",
          "2022-04-27T00:00:00",
          "2022-04-28T00:00:00",
          "2022-04-29T00:00:00",
          "2022-04-30T00:00:00",
          "2022-05-01T00:00:00",
          "2022-05-02T00:00:00",
          "2022-05-03T00:00:00",
          "2022-05-04T00:00:00",
          "2022-05-05T00:00:00",
          "2022-05-06T00:00:00",
          "2022-05-07T00:00:00",
          "2022-05-08T00:00:00",
          "2022-05-09T00:00:00",
          "2022-05-10T00:00:00",
          "2022-05-11T00:00:00",
          "2022-05-12T00:00:00",
          "2022-05-13T00:00:00",
          "2022-05-14T00:00:00",
          "2022-05-15T00:00:00",
          "2022-05-16T00:00:00",
          "2022-05-17T00:00:00",
          "2022-05-18T00:00:00",
          "2022-05-19T00:00:00",
          "2022-05-20T00:00:00",
          "2022-05-21T00:00:00",
          "2022-05-22T00:00:00",
          "2022-05-23T00:00:00",
          "2022-05-24T00:00:00",
          "2022-05-25T00:00:00",
          "2022-05-26T00:00:00",
          "2022-05-27T00:00:00",
          "2022-05-28T00:00:00",
          "2022-05-29T00:00:00",
          "2022-05-30T00:00:00",
          "2022-05-31T00:00:00",
          "2022-06-01T00:00:00",
          "2022-06-02T00:00:00",
          "2022-06-03T00:00:00",
          "2022-06-04T00:00:00",
          "2022-06-05T00:00:00",
          "2022-06-06T00:00:00",
          "2022-06-07T00:00:00",
          "2022-06-08T00:00:00",
          "2022-06-09T00:00:00",
          "2022-06-10T00:00:00",
          "2022-06-11T00:00:00",
          "2022-06-12T00:00:00",
          "2022-06-13T00:00:00",
          "2022-06-14T00:00:00",
          "2022-06-15T00:00:00",
          "2022-06-16T00:00:00",
          "2022-06-17T00:00:00",
          "2022-06-18T00:00:00",
          "2022-06-19T00:00:00",
          "2022-06-20T00:00:00",
          "2022-06-21T00:00:00",
          "2022-06-22T00:00:00",
          "2022-06-23T00:00:00",
          "2022-06-24T00:00:00",
          "2022-06-25T00:00:00",
          "2022-06-26T00:00:00",
          "2022-06-27T00:00:00",
          "2022-06-28T00:00:00",
          "2022-06-29T00:00:00",
          "2022-06-30T00:00:00",
          "2022-07-01T00:00:00",
          "2022-07-02T00:00:00",
          "2022-07-03T00:00:00",
          "2022-07-04T00:00:00",
          "2022-07-05T00:00:00",
          "2022-07-06T00:00:00",
          "2022-07-07T00:00:00",
          "2022-07-08T00:00:00",
          "2022-07-09T00:00:00",
          "2022-07-10T00:00:00",
          "2022-07-11T00:00:00",
          "2022-07-12T00:00:00",
          "2022-07-13T00:00:00",
          "2022-07-14T00:00:00",
          "2022-07-15T00:00:00",
          "2022-07-16T00:00:00",
          "2022-07-17T00:00:00",
          "2022-07-18T00:00:00",
          "2022-07-19T00:00:00",
          "2022-07-20T00:00:00",
          "2022-07-21T00:00:00",
          "2022-07-22T00:00:00",
          "2022-07-23T00:00:00",
          "2022-07-24T00:00:00",
          "2022-07-25T00:00:00",
          "2022-07-26T00:00:00",
          "2022-07-27T00:00:00",
          "2022-07-28T00:00:00",
          "2022-07-29T00:00:00",
          "2022-07-30T00:00:00",
          "2022-07-31T00:00:00",
          "2022-08-01T00:00:00",
          "2022-08-02T00:00:00",
          "2022-08-03T00:00:00",
          "2022-08-04T00:00:00",
          "2022-08-05T00:00:00",
          "2022-08-06T00:00:00",
          "2022-08-07T00:00:00",
          "2022-08-08T00:00:00",
          "2022-08-09T00:00:00",
          "2022-08-10T00:00:00",
          "2022-08-11T00:00:00",
          "2022-08-12T00:00:00",
          "2022-08-13T00:00:00",
          "2022-08-14T00:00:00",
          "2022-08-15T00:00:00",
          "2022-08-16T00:00:00",
          "2022-08-17T00:00:00",
          "2022-08-18T00:00:00",
          "2022-08-19T00:00:00",
          "2022-08-20T00:00:00",
          "2022-08-21T00:00:00",
          "2022-08-22T00:00:00",
          "2022-08-23T00:00:00",
          "2022-08-24T00:00:00",
          "2022-08-25T00:00:00",
          "2022-08-26T00:00:00",
          "2022-08-27T00:00:00",
          "2022-08-28T00:00:00",
          "2022-08-29T00:00:00",
          "2022-08-30T00:00:00",
          "2022-08-31T00:00:00",
          "2022-09-01T00:00:00",
          "2022-09-02T00:00:00",
          "2022-09-03T00:00:00",
          "2022-09-04T00:00:00",
          "2022-09-05T00:00:00",
          "2022-09-06T00:00:00",
          "2022-09-07T00:00:00",
          "2022-09-08T00:00:00",
          "2022-09-09T00:00:00",
          "2022-09-10T00:00:00",
          "2022-09-11T00:00:00",
          "2022-09-12T00:00:00",
          "2022-09-13T00:00:00",
          "2022-09-14T00:00:00",
          "2022-09-15T00:00:00",
          "2022-09-16T00:00:00",
          "2022-09-17T00:00:00",
          "2022-09-18T00:00:00",
          "2022-09-19T00:00:00",
          "2022-09-20T00:00:00",
          "2022-09-21T00:00:00",
          "2022-09-22T00:00:00",
          "2022-09-23T00:00:00",
          "2022-09-24T00:00:00",
          "2022-09-25T00:00:00",
          "2022-09-26T00:00:00",
          "2022-09-27T00:00:00",
          "2022-09-28T00:00:00",
          "2022-09-29T00:00:00",
          "2022-09-30T00:00:00",
          "2022-10-01T00:00:00",
          "2022-10-02T00:00:00",
          "2022-10-03T00:00:00",
          "2022-10-04T00:00:00",
          "2022-10-05T00:00:00",
          "2022-10-06T00:00:00",
          "2022-10-07T00:00:00",
          "2022-10-08T00:00:00",
          "2022-10-09T00:00:00",
          "2022-10-10T00:00:00",
          "2022-10-11T00:00:00",
          "2022-10-12T00:00:00",
          "2022-10-13T00:00:00",
          "2022-10-14T00:00:00",
          "2022-10-15T00:00:00",
          "2022-10-16T00:00:00",
          "2022-10-17T00:00:00",
          "2022-10-18T00:00:00",
          "2022-10-19T00:00:00",
          "2022-10-20T00:00:00",
          "2022-10-21T00:00:00",
          "2022-10-22T00:00:00",
          "2022-10-23T00:00:00",
          "2022-10-24T00:00:00",
          "2022-10-25T00:00:00",
          "2022-10-26T00:00:00",
          "2022-10-27T00:00:00",
          "2022-10-28T00:00:00",
          "2022-10-29T00:00:00",
          "2022-10-30T00:00:00",
          "2022-10-31T00:00:00",
          "2022-11-01T00:00:00",
          "2022-11-02T00:00:00",
          "2022-11-03T00:00:00",
          "2022-11-04T00:00:00",
          "2022-11-05T00:00:00",
          "2022-11-06T00:00:00",
          "2022-11-07T00:00:00",
          "2022-11-08T00:00:00",
          "2022-11-09T00:00:00",
          "2022-11-10T00:00:00",
          "2022-11-11T00:00:00",
          "2022-11-12T00:00:00",
          "2022-11-13T00:00:00",
          "2022-11-14T00:00:00",
          "2022-11-15T00:00:00",
          "2022-11-16T00:00:00",
          "2022-11-17T00:00:00",
          "2022-11-18T00:00:00",
          "2022-11-19T00:00:00",
          "2022-11-20T00:00:00",
          "2022-11-21T00:00:00",
          "2022-11-22T00:00:00",
          "2022-11-23T00:00:00",
          "2022-11-24T00:00:00",
          "2022-11-25T00:00:00",
          "2022-11-26T00:00:00",
          "2022-11-27T00:00:00",
          "2022-11-28T00:00:00",
          "2022-11-29T00:00:00",
          "2022-11-30T00:00:00",
          "2022-11-30T10:34:49"
         ],
         "xaxis": "x",
         "y": [
          50310.23157858034,
          50506.910551023844,
          49974.160510668,
          47537.22107822653,
          43452.36627055587,
          43584.415787737744,
          44721.77431769078,
          44927.87083488738,
          44540.22385241009,
          42404.08890755657,
          41793.12466052318,
          43511.77863340992,
          44253.81209678298,
          41388.14895905966,
          42995.310483289984,
          43340.68766182639,
          42082.02893086878,
          41217.158638052446,
          41788.32035689083,
          41634.77613021395,
          41783.36287549383,
          43541.433860598554,
          43045.84892569251,
          44939.3894297034,
          44944.76575352705,
          44745.83981814187,
          44908.059189479805,
          44818.168111937994,
          42181.44257440689,
          40960.337931023954,
          41672.35465483228,
          40724.329875917916,
          42039.991125253684,
          41678.04823294517,
          41182.38621861256,
          40712.02275452388,
          38583.9474556897,
          38256.89466270997,
          36548.87513397554,
          36754.38120421491,
          36877.3491771193,
          36950.15061656012,
          37634.14971670083,
          38443.019605976486,
          37184.9985435791,
          37774.601606233235,
          37867.28048940748,
          37793.20421964552,
          37075.17276239649,
          37421.411588852076,
          36804.81805860254,
          35990.191222362555,
          32181.22920674321,
          31010.322545243864,
          32010.163092146187,
          32475.015385290793,
          32723.735164102294,
          32807.24391965484,
          33451.63939007328,
          33950.318803453716,
          34290.78519449822,
          34072.444204179075,
          34331.69854991698,
          34449.74689911461,
          32740.31936392339,
          32442.868786314128,
          36399.056660401795,
          36241.7092200966,
          37089.68681607784,
          38378.15280815121,
          38685.33954326799,
          38856.54055643573,
          38228.37195871204,
          37393.5385967781,
          37227.86094766816,
          37171.12474594334,
          37706.01705427157,
          39246.57490474962,
          38743.96258183267,
          35684.43594638543,
          35394.19345589656,
          35499.53102434018,
          34031.786736787326,
          32780.18180097314,
          33839.29141309584,
          33059.642221913615,
          34280.52644494906,
          34873.31781273593,
          34679.02920138296,
          33811.757861046884,
          38535.707622362024,
          39946.94307752749,
          39565.57212941758,
          38398.76860670511,
          35864.04062567888,
          36114.42256250789,
          35379.162189723094,
          35045.109919828006,
          35547.850136570734,
          37916.034224976975,
          35846.10704535494,
          35527.90973358008,
          35645.6648281346,
          34612.61395666388,
          36250.752537309745,
          35862.77767571413,
          37351.84480113969,
          36949.05960161877,
          37809.892724835314,
          38139.327972283274,
          37381.53690959784,
          37265.15827267271,
          38448.59726335312,
          38891.45024076582,
          39912.780030151276,
          40361.867241009044,
          40521.515293772805,
          42535.70290565289,
          42737.143070234335,
          42784.61892416393,
          42171.36428668906,
          41115.11100574884,
          41879.15865886829,
          41504.881920695625,
          42050.7687605945,
          42485.99573681132,
          41838.58457674535,
          39639.887367573596,
          40058.4373266059,
          38905.61362467247,
          39347.56419454134,
          38835.92820550051,
          36410.26180487428,
          37138.065125210036,
          37820.205313940205,
          36934.44624999378,
          37538.8279576329,
          37412.83897225637,
          36747.319923898205,
          37875.02563885304,
          38450.16834923322,
          38162.027696980214,
          37404.43939479423,
          36857.30248267918,
          36676.46043788396,
          36519.212013396675,
          37792.3996260646,
          35823.58706810112,
          37171.75738231169,
          37838.21550700867,
          36657.49586967173,
          35870.35409900302,
          36563.83316485478,
          36688.63016759306,
          35876.76369570894,
          37372.38333926808,
          34729.15274641945,
          34239.06411952975,
          33724.209534699476,
          32341.27792386463,
          28653.94775281938,
          29465.503421437046,
          27502.39447755454,
          28051.915693517538,
          28151.196522206264,
          28995.04315652366,
          30104.58970725485,
          28668.850305182383,
          28918.183881038825,
          27476.012868537517,
          28713.13607843684,
          27690.37432953656,
          27912.503120729572,
          28712.79176877221,
          27282.23094370736,
          27628.905781352812,
          27685.44814673912,
          27342.51365703925,
          26692.377570081066,
          27103.836962005982,
          27488.84153153608,
          29460.41761594518,
          29678.32523842781,
          28005.793496076178,
          28354.963269803175,
          27718.03647011353,
          27868.61199628631,
          27893.43838337483,
          29346.982455169305,
          29219.144313468325,
          28207.868227372048,
          28342.37513455417,
          27664.79997495412,
          26971.61101010621,
          25520.34270605597,
          21630.79704806176,
          21314.52489446156,
          21548.1416535493,
          19349.010054248763,
          19500.00962347663,
          18147.31305138862,
          19557.76211360825,
          19616.312457705713,
          19649.109988001404,
          18916.643868343002,
          20056.229147512993,
          20142.78510109529,
          20392.09071765335,
          19921.301318923623,
          19611.183840473812,
          19273.56712109598,
          19249.25179145432,
          18713.666315798244,
          18608.94741319181,
          18475.455070868466,
          18509.24474461758,
          19416.285545919323,
          19670.998031931347,
          20192.126716050698,
          21303.565219409724,
          21458.10288390686,
          21193.847039103744,
          20512.247857455524,
          19903.7950928232,
          19284.51912686527,
          20159.30438628614,
          20526.572015472782,
          20628.45348558518,
          21023.53867662143,
          20628.759512325418,
          22080.173010702092,
          22840.100763878076,
          22903.332408928116,
          22652.646930469207,
          22225.715053111086,
          22036.810275321415,
          22166.668593220573,
          20864.228495188396,
          20963.010760784193,
          22449.790219888906,
          23370.75852718244,
          23319.88399506148,
          23130.055796521006,
          22901.86620575899,
          22736.89527141749,
          22700.82329070718,
          22505.947296599305,
          22133.60666102488,
          22797.951011225403,
          22561.89311386523,
          22803.17461773299,
          23363.120071472124,
          22729.049408128965,
          23252.972361771725,
          23209.38189233366,
          23786.863540269536,
          23808.56758342788,
          23700.71631993417,
          23792.730714223864,
          23503.22005223396,
          22949.461036479446,
          23029.38444876302,
          20870.701259613335,
          21097.180825135696,
          21531.76284347637,
          21517.14298481832,
          21638.28668197949,
          21464.99370978659,
          21684.26821682046,
          20344.563241530534,
          20140.439007696747,
          19782.470864547955,
          20293.122080269328,
          19757.382139465397,
          19946.96434916074,
          20248.33689351139,
          20035.614903416496,
          19908.128617480066,
          20156.71645917984,
          19883.791597090312,
          19050.961732570493,
          19289.494564175904,
          19305.02011661991,
          21044.742279152062,
          21383.426270964625,
          21579.625501125218,
          22054.839703714908,
          20226.42741512492,
          20292.322871919205,
          19723.172402914275,
          19732.571244775656,
          20099.22304512122,
          19385.785459737548,
          19523.241647940245,
          18928.74637748945,
          18855.99557401917,
          19786.418274781594,
          19904.982245169223,
          19545.8981193107,
          19414.05877946124,
          19991.64970751099,
          19925.888669035365,
          20027.178609903058,
          19896.975210012286,
          19870.360513243373,
          19701.815407432718,
          19470.860310803437,
          19954.31339750781,
          20380.697786538993,
          20345.625862871297,
          20383.142392079746,
          19960.494418039492,
          19926.14978930852,
          19982.428551133922,
          19714.1042061995,
          19642.35569933938,
          19728.339635858425,
          19837.87640241695,
          19748.09451844033,
          19619.17752950558,
          19786.06339196892,
          19873.188383011733,
          19617.08306521306,
          19592.81392416176,
          19465.45094023754,
          19444.333134846896,
          19480.78521127148,
          19835.81536332392,
          19534.217571069006,
          20172.35780554517,
          20583.41525892392,
          20338.775485057427,
          20663.49587349789,
          20873.696768895566,
          20717.81323171006,
          20731.682756632563,
          20741.648361813386,
          20532.971604426093,
          20731.020037253325,
          21187.392087131007,
          21318.102034853226,
          21050.378118738176,
          20556.847875596974,
          18418.959036503136,
          15714.170905933977,
          17260.25046037946,
          16468.41903014687,
          16211.922497290752,
          15822.33671111262,
          16131.921836994286,
          16309.224924589491,
          16058.103611925184,
          16134.305278552902,
          16150.62879937794,
          16154.591210551409,
          15782.884430779812,
          15439.915078745722,
          15689.213114262966,
          15946.247219563651,
          15944.641354952635,
          15868.296186522324,
          15801.201051209351,
          15872.19981187594,
          15683.633332537333,
          15928.168104093502,
          16338.98760211611
         ],
         "yaxis": "y"
        }
       ],
       "layout": {
        "legend": {
         "tracegroupgap": 0
        },
        "template": {
         "data": {
          "bar": [
           {
            "error_x": {
             "color": "#2a3f5f"
            },
            "error_y": {
             "color": "#2a3f5f"
            },
            "marker": {
             "line": {
              "color": "#E5ECF6",
              "width": 0.5
             },
             "pattern": {
              "fillmode": "overlay",
              "size": 10,
              "solidity": 0.2
             }
            },
            "type": "bar"
           }
          ],
          "barpolar": [
           {
            "marker": {
             "line": {
              "color": "#E5ECF6",
              "width": 0.5
             },
             "pattern": {
              "fillmode": "overlay",
              "size": 10,
              "solidity": 0.2
             }
            },
            "type": "barpolar"
           }
          ],
          "carpet": [
           {
            "aaxis": {
             "endlinecolor": "#2a3f5f",
             "gridcolor": "white",
             "linecolor": "white",
             "minorgridcolor": "white",
             "startlinecolor": "#2a3f5f"
            },
            "baxis": {
             "endlinecolor": "#2a3f5f",
             "gridcolor": "white",
             "linecolor": "white",
             "minorgridcolor": "white",
             "startlinecolor": "#2a3f5f"
            },
            "type": "carpet"
           }
          ],
          "choropleth": [
           {
            "colorbar": {
             "outlinewidth": 0,
             "ticks": ""
            },
            "type": "choropleth"
           }
          ],
          "contour": [
           {
            "colorbar": {
             "outlinewidth": 0,
             "ticks": ""
            },
            "colorscale": [
             [
              0,
              "#0d0887"
             ],
             [
              0.1111111111111111,
              "#46039f"
             ],
             [
              0.2222222222222222,
              "#7201a8"
             ],
             [
              0.3333333333333333,
              "#9c179e"
             ],
             [
              0.4444444444444444,
              "#bd3786"
             ],
             [
              0.5555555555555556,
              "#d8576b"
             ],
             [
              0.6666666666666666,
              "#ed7953"
             ],
             [
              0.7777777777777778,
              "#fb9f3a"
             ],
             [
              0.8888888888888888,
              "#fdca26"
             ],
             [
              1,
              "#f0f921"
             ]
            ],
            "type": "contour"
           }
          ],
          "contourcarpet": [
           {
            "colorbar": {
             "outlinewidth": 0,
             "ticks": ""
            },
            "type": "contourcarpet"
           }
          ],
          "heatmap": [
           {
            "colorbar": {
             "outlinewidth": 0,
             "ticks": ""
            },
            "colorscale": [
             [
              0,
              "#0d0887"
             ],
             [
              0.1111111111111111,
              "#46039f"
             ],
             [
              0.2222222222222222,
              "#7201a8"
             ],
             [
              0.3333333333333333,
              "#9c179e"
             ],
             [
              0.4444444444444444,
              "#bd3786"
             ],
             [
              0.5555555555555556,
              "#d8576b"
             ],
             [
              0.6666666666666666,
              "#ed7953"
             ],
             [
              0.7777777777777778,
              "#fb9f3a"
             ],
             [
              0.8888888888888888,
              "#fdca26"
             ],
             [
              1,
              "#f0f921"
             ]
            ],
            "type": "heatmap"
           }
          ],
          "heatmapgl": [
           {
            "colorbar": {
             "outlinewidth": 0,
             "ticks": ""
            },
            "colorscale": [
             [
              0,
              "#0d0887"
             ],
             [
              0.1111111111111111,
              "#46039f"
             ],
             [
              0.2222222222222222,
              "#7201a8"
             ],
             [
              0.3333333333333333,
              "#9c179e"
             ],
             [
              0.4444444444444444,
              "#bd3786"
             ],
             [
              0.5555555555555556,
              "#d8576b"
             ],
             [
              0.6666666666666666,
              "#ed7953"
             ],
             [
              0.7777777777777778,
              "#fb9f3a"
             ],
             [
              0.8888888888888888,
              "#fdca26"
             ],
             [
              1,
              "#f0f921"
             ]
            ],
            "type": "heatmapgl"
           }
          ],
          "histogram": [
           {
            "marker": {
             "pattern": {
              "fillmode": "overlay",
              "size": 10,
              "solidity": 0.2
             }
            },
            "type": "histogram"
           }
          ],
          "histogram2d": [
           {
            "colorbar": {
             "outlinewidth": 0,
             "ticks": ""
            },
            "colorscale": [
             [
              0,
              "#0d0887"
             ],
             [
              0.1111111111111111,
              "#46039f"
             ],
             [
              0.2222222222222222,
              "#7201a8"
             ],
             [
              0.3333333333333333,
              "#9c179e"
             ],
             [
              0.4444444444444444,
              "#bd3786"
             ],
             [
              0.5555555555555556,
              "#d8576b"
             ],
             [
              0.6666666666666666,
              "#ed7953"
             ],
             [
              0.7777777777777778,
              "#fb9f3a"
             ],
             [
              0.8888888888888888,
              "#fdca26"
             ],
             [
              1,
              "#f0f921"
             ]
            ],
            "type": "histogram2d"
           }
          ],
          "histogram2dcontour": [
           {
            "colorbar": {
             "outlinewidth": 0,
             "ticks": ""
            },
            "colorscale": [
             [
              0,
              "#0d0887"
             ],
             [
              0.1111111111111111,
              "#46039f"
             ],
             [
              0.2222222222222222,
              "#7201a8"
             ],
             [
              0.3333333333333333,
              "#9c179e"
             ],
             [
              0.4444444444444444,
              "#bd3786"
             ],
             [
              0.5555555555555556,
              "#d8576b"
             ],
             [
              0.6666666666666666,
              "#ed7953"
             ],
             [
              0.7777777777777778,
              "#fb9f3a"
             ],
             [
              0.8888888888888888,
              "#fdca26"
             ],
             [
              1,
              "#f0f921"
             ]
            ],
            "type": "histogram2dcontour"
           }
          ],
          "mesh3d": [
           {
            "colorbar": {
             "outlinewidth": 0,
             "ticks": ""
            },
            "type": "mesh3d"
           }
          ],
          "parcoords": [
           {
            "line": {
             "colorbar": {
              "outlinewidth": 0,
              "ticks": ""
             }
            },
            "type": "parcoords"
           }
          ],
          "pie": [
           {
            "automargin": true,
            "type": "pie"
           }
          ],
          "scatter": [
           {
            "fillpattern": {
             "fillmode": "overlay",
             "size": 10,
             "solidity": 0.2
            },
            "type": "scatter"
           }
          ],
          "scatter3d": [
           {
            "line": {
             "colorbar": {
              "outlinewidth": 0,
              "ticks": ""
             }
            },
            "marker": {
             "colorbar": {
              "outlinewidth": 0,
              "ticks": ""
             }
            },
            "type": "scatter3d"
           }
          ],
          "scattercarpet": [
           {
            "marker": {
             "colorbar": {
              "outlinewidth": 0,
              "ticks": ""
             }
            },
            "type": "scattercarpet"
           }
          ],
          "scattergeo": [
           {
            "marker": {
             "colorbar": {
              "outlinewidth": 0,
              "ticks": ""
             }
            },
            "type": "scattergeo"
           }
          ],
          "scattergl": [
           {
            "marker": {
             "colorbar": {
              "outlinewidth": 0,
              "ticks": ""
             }
            },
            "type": "scattergl"
           }
          ],
          "scattermapbox": [
           {
            "marker": {
             "colorbar": {
              "outlinewidth": 0,
              "ticks": ""
             }
            },
            "type": "scattermapbox"
           }
          ],
          "scatterpolar": [
           {
            "marker": {
             "colorbar": {
              "outlinewidth": 0,
              "ticks": ""
             }
            },
            "type": "scatterpolar"
           }
          ],
          "scatterpolargl": [
           {
            "marker": {
             "colorbar": {
              "outlinewidth": 0,
              "ticks": ""
             }
            },
            "type": "scatterpolargl"
           }
          ],
          "scatterternary": [
           {
            "marker": {
             "colorbar": {
              "outlinewidth": 0,
              "ticks": ""
             }
            },
            "type": "scatterternary"
           }
          ],
          "surface": [
           {
            "colorbar": {
             "outlinewidth": 0,
             "ticks": ""
            },
            "colorscale": [
             [
              0,
              "#0d0887"
             ],
             [
              0.1111111111111111,
              "#46039f"
             ],
             [
              0.2222222222222222,
              "#7201a8"
             ],
             [
              0.3333333333333333,
              "#9c179e"
             ],
             [
              0.4444444444444444,
              "#bd3786"
             ],
             [
              0.5555555555555556,
              "#d8576b"
             ],
             [
              0.6666666666666666,
              "#ed7953"
             ],
             [
              0.7777777777777778,
              "#fb9f3a"
             ],
             [
              0.8888888888888888,
              "#fdca26"
             ],
             [
              1,
              "#f0f921"
             ]
            ],
            "type": "surface"
           }
          ],
          "table": [
           {
            "cells": {
             "fill": {
              "color": "#EBF0F8"
             },
             "line": {
              "color": "white"
             }
            },
            "header": {
             "fill": {
              "color": "#C8D4E3"
             },
             "line": {
              "color": "white"
             }
            },
            "type": "table"
           }
          ]
         },
         "layout": {
          "annotationdefaults": {
           "arrowcolor": "#2a3f5f",
           "arrowhead": 0,
           "arrowwidth": 1
          },
          "autotypenumbers": "strict",
          "coloraxis": {
           "colorbar": {
            "outlinewidth": 0,
            "ticks": ""
           }
          },
          "colorscale": {
           "diverging": [
            [
             0,
             "#8e0152"
            ],
            [
             0.1,
             "#c51b7d"
            ],
            [
             0.2,
             "#de77ae"
            ],
            [
             0.3,
             "#f1b6da"
            ],
            [
             0.4,
             "#fde0ef"
            ],
            [
             0.5,
             "#f7f7f7"
            ],
            [
             0.6,
             "#e6f5d0"
            ],
            [
             0.7,
             "#b8e186"
            ],
            [
             0.8,
             "#7fbc41"
            ],
            [
             0.9,
             "#4d9221"
            ],
            [
             1,
             "#276419"
            ]
           ],
           "sequential": [
            [
             0,
             "#0d0887"
            ],
            [
             0.1111111111111111,
             "#46039f"
            ],
            [
             0.2222222222222222,
             "#7201a8"
            ],
            [
             0.3333333333333333,
             "#9c179e"
            ],
            [
             0.4444444444444444,
             "#bd3786"
            ],
            [
             0.5555555555555556,
             "#d8576b"
            ],
            [
             0.6666666666666666,
             "#ed7953"
            ],
            [
             0.7777777777777778,
             "#fb9f3a"
            ],
            [
             0.8888888888888888,
             "#fdca26"
            ],
            [
             1,
             "#f0f921"
            ]
           ],
           "sequentialminus": [
            [
             0,
             "#0d0887"
            ],
            [
             0.1111111111111111,
             "#46039f"
            ],
            [
             0.2222222222222222,
             "#7201a8"
            ],
            [
             0.3333333333333333,
             "#9c179e"
            ],
            [
             0.4444444444444444,
             "#bd3786"
            ],
            [
             0.5555555555555556,
             "#d8576b"
            ],
            [
             0.6666666666666666,
             "#ed7953"
            ],
            [
             0.7777777777777778,
             "#fb9f3a"
            ],
            [
             0.8888888888888888,
             "#fdca26"
            ],
            [
             1,
             "#f0f921"
            ]
           ]
          },
          "colorway": [
           "#636efa",
           "#EF553B",
           "#00cc96",
           "#ab63fa",
           "#FFA15A",
           "#19d3f3",
           "#FF6692",
           "#B6E880",
           "#FF97FF",
           "#FECB52"
          ],
          "font": {
           "color": "#2a3f5f"
          },
          "geo": {
           "bgcolor": "white",
           "lakecolor": "white",
           "landcolor": "#E5ECF6",
           "showlakes": true,
           "showland": true,
           "subunitcolor": "white"
          },
          "hoverlabel": {
           "align": "left"
          },
          "hovermode": "closest",
          "mapbox": {
           "style": "light"
          },
          "paper_bgcolor": "white",
          "plot_bgcolor": "#E5ECF6",
          "polar": {
           "angularaxis": {
            "gridcolor": "white",
            "linecolor": "white",
            "ticks": ""
           },
           "bgcolor": "#E5ECF6",
           "radialaxis": {
            "gridcolor": "white",
            "linecolor": "white",
            "ticks": ""
           }
          },
          "scene": {
           "xaxis": {
            "backgroundcolor": "#E5ECF6",
            "gridcolor": "white",
            "gridwidth": 2,
            "linecolor": "white",
            "showbackground": true,
            "ticks": "",
            "zerolinecolor": "white"
           },
           "yaxis": {
            "backgroundcolor": "#E5ECF6",
            "gridcolor": "white",
            "gridwidth": 2,
            "linecolor": "white",
            "showbackground": true,
            "ticks": "",
            "zerolinecolor": "white"
           },
           "zaxis": {
            "backgroundcolor": "#E5ECF6",
            "gridcolor": "white",
            "gridwidth": 2,
            "linecolor": "white",
            "showbackground": true,
            "ticks": "",
            "zerolinecolor": "white"
           }
          },
          "shapedefaults": {
           "line": {
            "color": "#2a3f5f"
           }
          },
          "ternary": {
           "aaxis": {
            "gridcolor": "white",
            "linecolor": "white",
            "ticks": ""
           },
           "baxis": {
            "gridcolor": "white",
            "linecolor": "white",
            "ticks": ""
           },
           "bgcolor": "#E5ECF6",
           "caxis": {
            "gridcolor": "white",
            "linecolor": "white",
            "ticks": ""
           }
          },
          "title": {
           "x": 0.05
          },
          "xaxis": {
           "automargin": true,
           "gridcolor": "white",
           "linecolor": "white",
           "ticks": "",
           "title": {
            "standoff": 15
           },
           "zerolinecolor": "white",
           "zerolinewidth": 2
          },
          "yaxis": {
           "automargin": true,
           "gridcolor": "white",
           "linecolor": "white",
           "ticks": "",
           "title": {
            "standoff": 15
           },
           "zerolinecolor": "white",
           "zerolinewidth": 2
          }
         }
        },
        "title": {
         "text": "Preisverlauf von Bitcoin"
        },
        "xaxis": {
         "anchor": "y",
         "domain": [
          0,
          1
         ],
         "rangeslider": {
          "visible": true
         },
         "title": {
          "text": "time"
         }
        },
        "yaxis": {
         "anchor": "x",
         "domain": [
          0,
          1
         ],
         "title": {
          "text": "price"
         }
        }
       }
      }
     },
     "metadata": {},
     "output_type": "display_data"
    },
    {
     "name": "stdout",
     "output_type": "stream",
     "text": [
      "Ich grüße dich!\n",
      "\n"
     ]
    },
    {
     "data": {
      "application/vnd.plotly.v1+json": {
       "config": {
        "plotlyServerURL": "https://plot.ly"
       },
       "data": [
        {
         "hovertemplate": "time=%{x}<br>price=%{y}<extra></extra>",
         "legendgroup": "",
         "line": {
          "color": "#636efa",
          "dash": "solid"
         },
         "marker": {
          "symbol": "circle"
         },
         "mode": "lines",
         "name": "",
         "orientation": "v",
         "showlegend": false,
         "type": "scatter",
         "x": [
          "2021-12-01T00:00:00",
          "2021-12-02T00:00:00",
          "2021-12-03T00:00:00",
          "2021-12-04T00:00:00",
          "2021-12-05T00:00:00",
          "2021-12-06T00:00:00",
          "2021-12-07T00:00:00",
          "2021-12-08T00:00:00",
          "2021-12-09T00:00:00",
          "2021-12-10T00:00:00",
          "2021-12-11T00:00:00",
          "2021-12-12T00:00:00",
          "2021-12-13T00:00:00",
          "2021-12-14T00:00:00",
          "2021-12-15T00:00:00",
          "2021-12-16T00:00:00",
          "2021-12-17T00:00:00",
          "2021-12-18T00:00:00",
          "2021-12-19T00:00:00",
          "2021-12-20T00:00:00",
          "2021-12-21T00:00:00",
          "2021-12-22T00:00:00",
          "2021-12-23T00:00:00",
          "2021-12-24T00:00:00",
          "2021-12-25T00:00:00",
          "2021-12-26T00:00:00",
          "2021-12-27T00:00:00",
          "2021-12-28T00:00:00",
          "2021-12-29T00:00:00",
          "2021-12-30T00:00:00",
          "2021-12-31T00:00:00",
          "2022-01-01T00:00:00",
          "2022-01-02T00:00:00",
          "2022-01-03T00:00:00",
          "2022-01-04T00:00:00",
          "2022-01-05T00:00:00",
          "2022-01-06T00:00:00",
          "2022-01-07T00:00:00",
          "2022-01-08T00:00:00",
          "2022-01-09T00:00:00",
          "2022-01-10T00:00:00",
          "2022-01-11T00:00:00",
          "2022-01-12T00:00:00",
          "2022-01-13T00:00:00",
          "2022-01-14T00:00:00",
          "2022-01-15T00:00:00",
          "2022-01-16T00:00:00",
          "2022-01-17T00:00:00",
          "2022-01-18T00:00:00",
          "2022-01-19T00:00:00",
          "2022-01-20T00:00:00",
          "2022-01-21T00:00:00",
          "2022-01-22T00:00:00",
          "2022-01-23T00:00:00",
          "2022-01-24T00:00:00",
          "2022-01-25T00:00:00",
          "2022-01-26T00:00:00",
          "2022-01-27T00:00:00",
          "2022-01-28T00:00:00",
          "2022-01-29T00:00:00",
          "2022-01-30T00:00:00",
          "2022-01-31T00:00:00",
          "2022-02-01T00:00:00",
          "2022-02-02T00:00:00",
          "2022-02-03T00:00:00",
          "2022-02-04T00:00:00",
          "2022-02-05T00:00:00",
          "2022-02-06T00:00:00",
          "2022-02-07T00:00:00",
          "2022-02-08T00:00:00",
          "2022-02-09T00:00:00",
          "2022-02-10T00:00:00",
          "2022-02-11T00:00:00",
          "2022-02-12T00:00:00",
          "2022-02-13T00:00:00",
          "2022-02-14T00:00:00",
          "2022-02-15T00:00:00",
          "2022-02-16T00:00:00",
          "2022-02-17T00:00:00",
          "2022-02-18T00:00:00",
          "2022-02-19T00:00:00",
          "2022-02-20T00:00:00",
          "2022-02-21T00:00:00",
          "2022-02-22T00:00:00",
          "2022-02-23T00:00:00",
          "2022-02-24T00:00:00",
          "2022-02-25T00:00:00",
          "2022-02-26T00:00:00",
          "2022-02-27T00:00:00",
          "2022-02-28T00:00:00",
          "2022-03-01T00:00:00",
          "2022-03-02T00:00:00",
          "2022-03-03T00:00:00",
          "2022-03-04T00:00:00",
          "2022-03-05T00:00:00",
          "2022-03-06T00:00:00",
          "2022-03-07T00:00:00",
          "2022-03-08T00:00:00",
          "2022-03-09T00:00:00",
          "2022-03-10T00:00:00",
          "2022-03-11T00:00:00",
          "2022-03-12T00:00:00",
          "2022-03-13T00:00:00",
          "2022-03-14T00:00:00",
          "2022-03-15T00:00:00",
          "2022-03-16T00:00:00",
          "2022-03-17T00:00:00",
          "2022-03-18T00:00:00",
          "2022-03-19T00:00:00",
          "2022-03-20T00:00:00",
          "2022-03-21T00:00:00",
          "2022-03-22T00:00:00",
          "2022-03-23T00:00:00",
          "2022-03-24T00:00:00",
          "2022-03-25T00:00:00",
          "2022-03-26T00:00:00",
          "2022-03-27T00:00:00",
          "2022-03-28T00:00:00",
          "2022-03-29T00:00:00",
          "2022-03-30T00:00:00",
          "2022-03-31T00:00:00",
          "2022-04-01T00:00:00",
          "2022-04-02T00:00:00",
          "2022-04-03T00:00:00",
          "2022-04-04T00:00:00",
          "2022-04-05T00:00:00",
          "2022-04-06T00:00:00",
          "2022-04-07T00:00:00",
          "2022-04-08T00:00:00",
          "2022-04-09T00:00:00",
          "2022-04-10T00:00:00",
          "2022-04-11T00:00:00",
          "2022-04-12T00:00:00",
          "2022-04-13T00:00:00",
          "2022-04-14T00:00:00",
          "2022-04-15T00:00:00",
          "2022-04-16T00:00:00",
          "2022-04-17T00:00:00",
          "2022-04-18T00:00:00",
          "2022-04-19T00:00:00",
          "2022-04-20T00:00:00",
          "2022-04-21T00:00:00",
          "2022-04-22T00:00:00",
          "2022-04-23T00:00:00",
          "2022-04-24T00:00:00",
          "2022-04-25T00:00:00",
          "2022-04-26T00:00:00",
          "2022-04-27T00:00:00",
          "2022-04-28T00:00:00",
          "2022-04-29T00:00:00",
          "2022-04-30T00:00:00",
          "2022-05-01T00:00:00",
          "2022-05-02T00:00:00",
          "2022-05-03T00:00:00",
          "2022-05-04T00:00:00",
          "2022-05-05T00:00:00",
          "2022-05-06T00:00:00",
          "2022-05-07T00:00:00",
          "2022-05-08T00:00:00",
          "2022-05-09T00:00:00",
          "2022-05-10T00:00:00",
          "2022-05-11T00:00:00",
          "2022-05-12T00:00:00",
          "2022-05-13T00:00:00",
          "2022-05-14T00:00:00",
          "2022-05-15T00:00:00",
          "2022-05-16T00:00:00",
          "2022-05-17T00:00:00",
          "2022-05-18T00:00:00",
          "2022-05-19T00:00:00",
          "2022-05-20T00:00:00",
          "2022-05-21T00:00:00",
          "2022-05-22T00:00:00",
          "2022-05-23T00:00:00",
          "2022-05-24T00:00:00",
          "2022-05-25T00:00:00",
          "2022-05-26T00:00:00",
          "2022-05-27T00:00:00",
          "2022-05-28T00:00:00",
          "2022-05-29T00:00:00",
          "2022-05-30T00:00:00",
          "2022-05-31T00:00:00",
          "2022-06-01T00:00:00",
          "2022-06-02T00:00:00",
          "2022-06-03T00:00:00",
          "2022-06-04T00:00:00",
          "2022-06-05T00:00:00",
          "2022-06-06T00:00:00",
          "2022-06-07T00:00:00",
          "2022-06-08T00:00:00",
          "2022-06-09T00:00:00",
          "2022-06-10T00:00:00",
          "2022-06-11T00:00:00",
          "2022-06-12T00:00:00",
          "2022-06-13T00:00:00",
          "2022-06-14T00:00:00",
          "2022-06-15T00:00:00",
          "2022-06-16T00:00:00",
          "2022-06-17T00:00:00",
          "2022-06-18T00:00:00",
          "2022-06-19T00:00:00",
          "2022-06-20T00:00:00",
          "2022-06-21T00:00:00",
          "2022-06-22T00:00:00",
          "2022-06-23T00:00:00",
          "2022-06-24T00:00:00",
          "2022-06-25T00:00:00",
          "2022-06-26T00:00:00",
          "2022-06-27T00:00:00",
          "2022-06-28T00:00:00",
          "2022-06-29T00:00:00",
          "2022-06-30T00:00:00",
          "2022-07-01T00:00:00",
          "2022-07-02T00:00:00",
          "2022-07-03T00:00:00",
          "2022-07-04T00:00:00",
          "2022-07-05T00:00:00",
          "2022-07-06T00:00:00",
          "2022-07-07T00:00:00",
          "2022-07-08T00:00:00",
          "2022-07-09T00:00:00",
          "2022-07-10T00:00:00",
          "2022-07-11T00:00:00",
          "2022-07-12T00:00:00",
          "2022-07-13T00:00:00",
          "2022-07-14T00:00:00",
          "2022-07-15T00:00:00",
          "2022-07-16T00:00:00",
          "2022-07-17T00:00:00",
          "2022-07-18T00:00:00",
          "2022-07-19T00:00:00",
          "2022-07-20T00:00:00",
          "2022-07-21T00:00:00",
          "2022-07-22T00:00:00",
          "2022-07-23T00:00:00",
          "2022-07-24T00:00:00",
          "2022-07-25T00:00:00",
          "2022-07-26T00:00:00",
          "2022-07-27T00:00:00",
          "2022-07-28T00:00:00",
          "2022-07-29T00:00:00",
          "2022-07-30T00:00:00",
          "2022-07-31T00:00:00",
          "2022-08-01T00:00:00",
          "2022-08-02T00:00:00",
          "2022-08-03T00:00:00",
          "2022-08-04T00:00:00",
          "2022-08-05T00:00:00",
          "2022-08-06T00:00:00",
          "2022-08-07T00:00:00",
          "2022-08-08T00:00:00",
          "2022-08-09T00:00:00",
          "2022-08-10T00:00:00",
          "2022-08-11T00:00:00",
          "2022-08-12T00:00:00",
          "2022-08-13T00:00:00",
          "2022-08-14T00:00:00",
          "2022-08-15T00:00:00",
          "2022-08-16T00:00:00",
          "2022-08-17T00:00:00",
          "2022-08-18T00:00:00",
          "2022-08-19T00:00:00",
          "2022-08-20T00:00:00",
          "2022-08-21T00:00:00",
          "2022-08-22T00:00:00",
          "2022-08-23T00:00:00",
          "2022-08-24T00:00:00",
          "2022-08-25T00:00:00",
          "2022-08-26T00:00:00",
          "2022-08-27T00:00:00",
          "2022-08-28T00:00:00",
          "2022-08-29T00:00:00",
          "2022-08-30T00:00:00",
          "2022-08-31T00:00:00",
          "2022-09-01T00:00:00",
          "2022-09-02T00:00:00",
          "2022-09-03T00:00:00",
          "2022-09-04T00:00:00",
          "2022-09-05T00:00:00",
          "2022-09-06T00:00:00",
          "2022-09-07T00:00:00",
          "2022-09-08T00:00:00",
          "2022-09-09T00:00:00",
          "2022-09-10T00:00:00",
          "2022-09-11T00:00:00",
          "2022-09-12T00:00:00",
          "2022-09-13T00:00:00",
          "2022-09-14T00:00:00",
          "2022-09-15T00:00:00",
          "2022-09-16T00:00:00",
          "2022-09-17T00:00:00",
          "2022-09-18T00:00:00",
          "2022-09-19T00:00:00",
          "2022-09-20T00:00:00",
          "2022-09-21T00:00:00",
          "2022-09-22T00:00:00",
          "2022-09-23T00:00:00",
          "2022-09-24T00:00:00",
          "2022-09-25T00:00:00",
          "2022-09-26T00:00:00",
          "2022-09-27T00:00:00",
          "2022-09-28T00:00:00",
          "2022-09-29T00:00:00",
          "2022-09-30T00:00:00",
          "2022-10-01T00:00:00",
          "2022-10-02T00:00:00",
          "2022-10-03T00:00:00",
          "2022-10-04T00:00:00",
          "2022-10-05T00:00:00",
          "2022-10-06T00:00:00",
          "2022-10-07T00:00:00",
          "2022-10-08T00:00:00",
          "2022-10-09T00:00:00",
          "2022-10-10T00:00:00",
          "2022-10-11T00:00:00",
          "2022-10-12T00:00:00",
          "2022-10-13T00:00:00",
          "2022-10-14T00:00:00",
          "2022-10-15T00:00:00",
          "2022-10-16T00:00:00",
          "2022-10-17T00:00:00",
          "2022-10-18T00:00:00",
          "2022-10-19T00:00:00",
          "2022-10-20T00:00:00",
          "2022-10-21T00:00:00",
          "2022-10-22T00:00:00",
          "2022-10-23T00:00:00",
          "2022-10-24T00:00:00",
          "2022-10-25T00:00:00",
          "2022-10-26T00:00:00",
          "2022-10-27T00:00:00",
          "2022-10-28T00:00:00",
          "2022-10-29T00:00:00",
          "2022-10-30T00:00:00",
          "2022-10-31T00:00:00",
          "2022-11-01T00:00:00",
          "2022-11-02T00:00:00",
          "2022-11-03T00:00:00",
          "2022-11-04T00:00:00",
          "2022-11-05T00:00:00",
          "2022-11-06T00:00:00",
          "2022-11-07T00:00:00",
          "2022-11-08T00:00:00",
          "2022-11-09T00:00:00",
          "2022-11-10T00:00:00",
          "2022-11-11T00:00:00",
          "2022-11-12T00:00:00",
          "2022-11-13T00:00:00",
          "2022-11-14T00:00:00",
          "2022-11-15T00:00:00",
          "2022-11-16T00:00:00",
          "2022-11-17T00:00:00",
          "2022-11-18T00:00:00",
          "2022-11-19T00:00:00",
          "2022-11-20T00:00:00",
          "2022-11-21T00:00:00",
          "2022-11-22T00:00:00",
          "2022-11-23T00:00:00",
          "2022-11-24T00:00:00",
          "2022-11-25T00:00:00",
          "2022-11-26T00:00:00",
          "2022-11-27T00:00:00",
          "2022-11-28T00:00:00",
          "2022-11-29T00:00:00",
          "2022-11-30T00:00:00",
          "2022-11-30T10:34:49"
         ],
         "xaxis": "x",
         "y": [
          50310.23157858034,
          50506.910551023844,
          49974.160510668,
          47537.22107822653,
          43452.36627055587,
          43584.415787737744,
          44721.77431769078,
          44927.87083488738,
          44540.22385241009,
          42404.08890755657,
          41793.12466052318,
          43511.77863340992,
          44253.81209678298,
          41388.14895905966,
          42995.310483289984,
          43340.68766182639,
          42082.02893086878,
          41217.158638052446,
          41788.32035689083,
          41634.77613021395,
          41783.36287549383,
          43541.433860598554,
          43045.84892569251,
          44939.3894297034,
          44944.76575352705,
          44745.83981814187,
          44908.059189479805,
          44818.168111937994,
          42181.44257440689,
          40960.337931023954,
          41672.35465483228,
          40724.329875917916,
          42039.991125253684,
          41678.04823294517,
          41182.38621861256,
          40712.02275452388,
          38583.9474556897,
          38256.89466270997,
          36548.87513397554,
          36754.38120421491,
          36877.3491771193,
          36950.15061656012,
          37634.14971670083,
          38443.019605976486,
          37184.9985435791,
          37774.601606233235,
          37867.28048940748,
          37793.20421964552,
          37075.17276239649,
          37421.411588852076,
          36804.81805860254,
          35990.191222362555,
          32181.22920674321,
          31010.322545243864,
          32010.163092146187,
          32475.015385290793,
          32723.735164102294,
          32807.24391965484,
          33451.63939007328,
          33950.318803453716,
          34290.78519449822,
          34072.444204179075,
          34331.69854991698,
          34449.74689911461,
          32740.31936392339,
          32442.868786314128,
          36399.056660401795,
          36241.7092200966,
          37089.68681607784,
          38378.15280815121,
          38685.33954326799,
          38856.54055643573,
          38228.37195871204,
          37393.5385967781,
          37227.86094766816,
          37171.12474594334,
          37706.01705427157,
          39246.57490474962,
          38743.96258183267,
          35684.43594638543,
          35394.19345589656,
          35499.53102434018,
          34031.786736787326,
          32780.18180097314,
          33839.29141309584,
          33059.642221913615,
          34280.52644494906,
          34873.31781273593,
          34679.02920138296,
          33811.757861046884,
          38535.707622362024,
          39946.94307752749,
          39565.57212941758,
          38398.76860670511,
          35864.04062567888,
          36114.42256250789,
          35379.162189723094,
          35045.109919828006,
          35547.850136570734,
          37916.034224976975,
          35846.10704535494,
          35527.90973358008,
          35645.6648281346,
          34612.61395666388,
          36250.752537309745,
          35862.77767571413,
          37351.84480113969,
          36949.05960161877,
          37809.892724835314,
          38139.327972283274,
          37381.53690959784,
          37265.15827267271,
          38448.59726335312,
          38891.45024076582,
          39912.780030151276,
          40361.867241009044,
          40521.515293772805,
          42535.70290565289,
          42737.143070234335,
          42784.61892416393,
          42171.36428668906,
          41115.11100574884,
          41879.15865886829,
          41504.881920695625,
          42050.7687605945,
          42485.99573681132,
          41838.58457674535,
          39639.887367573596,
          40058.4373266059,
          38905.61362467247,
          39347.56419454134,
          38835.92820550051,
          36410.26180487428,
          37138.065125210036,
          37820.205313940205,
          36934.44624999378,
          37538.8279576329,
          37412.83897225637,
          36747.319923898205,
          37875.02563885304,
          38450.16834923322,
          38162.027696980214,
          37404.43939479423,
          36857.30248267918,
          36676.46043788396,
          36519.212013396675,
          37792.3996260646,
          35823.58706810112,
          37171.75738231169,
          37838.21550700867,
          36657.49586967173,
          35870.35409900302,
          36563.83316485478,
          36688.63016759306,
          35876.76369570894,
          37372.38333926808,
          34729.15274641945,
          34239.06411952975,
          33724.209534699476,
          32341.27792386463,
          28653.94775281938,
          29465.503421437046,
          27502.39447755454,
          28051.915693517538,
          28151.196522206264,
          28995.04315652366,
          30104.58970725485,
          28668.850305182383,
          28918.183881038825,
          27476.012868537517,
          28713.13607843684,
          27690.37432953656,
          27912.503120729572,
          28712.79176877221,
          27282.23094370736,
          27628.905781352812,
          27685.44814673912,
          27342.51365703925,
          26692.377570081066,
          27103.836962005982,
          27488.84153153608,
          29460.41761594518,
          29678.32523842781,
          28005.793496076178,
          28354.963269803175,
          27718.03647011353,
          27868.61199628631,
          27893.43838337483,
          29346.982455169305,
          29219.144313468325,
          28207.868227372048,
          28342.37513455417,
          27664.79997495412,
          26971.61101010621,
          25520.34270605597,
          21630.79704806176,
          21314.52489446156,
          21548.1416535493,
          19349.010054248763,
          19500.00962347663,
          18147.31305138862,
          19557.76211360825,
          19616.312457705713,
          19649.109988001404,
          18916.643868343002,
          20056.229147512993,
          20142.78510109529,
          20392.09071765335,
          19921.301318923623,
          19611.183840473812,
          19273.56712109598,
          19249.25179145432,
          18713.666315798244,
          18608.94741319181,
          18475.455070868466,
          18509.24474461758,
          19416.285545919323,
          19670.998031931347,
          20192.126716050698,
          21303.565219409724,
          21458.10288390686,
          21193.847039103744,
          20512.247857455524,
          19903.7950928232,
          19284.51912686527,
          20159.30438628614,
          20526.572015472782,
          20628.45348558518,
          21023.53867662143,
          20628.759512325418,
          22080.173010702092,
          22840.100763878076,
          22903.332408928116,
          22652.646930469207,
          22225.715053111086,
          22036.810275321415,
          22166.668593220573,
          20864.228495188396,
          20963.010760784193,
          22449.790219888906,
          23370.75852718244,
          23319.88399506148,
          23130.055796521006,
          22901.86620575899,
          22736.89527141749,
          22700.82329070718,
          22505.947296599305,
          22133.60666102488,
          22797.951011225403,
          22561.89311386523,
          22803.17461773299,
          23363.120071472124,
          22729.049408128965,
          23252.972361771725,
          23209.38189233366,
          23786.863540269536,
          23808.56758342788,
          23700.71631993417,
          23792.730714223864,
          23503.22005223396,
          22949.461036479446,
          23029.38444876302,
          20870.701259613335,
          21097.180825135696,
          21531.76284347637,
          21517.14298481832,
          21638.28668197949,
          21464.99370978659,
          21684.26821682046,
          20344.563241530534,
          20140.439007696747,
          19782.470864547955,
          20293.122080269328,
          19757.382139465397,
          19946.96434916074,
          20248.33689351139,
          20035.614903416496,
          19908.128617480066,
          20156.71645917984,
          19883.791597090312,
          19050.961732570493,
          19289.494564175904,
          19305.02011661991,
          21044.742279152062,
          21383.426270964625,
          21579.625501125218,
          22054.839703714908,
          20226.42741512492,
          20292.322871919205,
          19723.172402914275,
          19732.571244775656,
          20099.22304512122,
          19385.785459737548,
          19523.241647940245,
          18928.74637748945,
          18855.99557401917,
          19786.418274781594,
          19904.982245169223,
          19545.8981193107,
          19414.05877946124,
          19991.64970751099,
          19925.888669035365,
          20027.178609903058,
          19896.975210012286,
          19870.360513243373,
          19701.815407432718,
          19470.860310803437,
          19954.31339750781,
          20380.697786538993,
          20345.625862871297,
          20383.142392079746,
          19960.494418039492,
          19926.14978930852,
          19982.428551133922,
          19714.1042061995,
          19642.35569933938,
          19728.339635858425,
          19837.87640241695,
          19748.09451844033,
          19619.17752950558,
          19786.06339196892,
          19873.188383011733,
          19617.08306521306,
          19592.81392416176,
          19465.45094023754,
          19444.333134846896,
          19480.78521127148,
          19835.81536332392,
          19534.217571069006,
          20172.35780554517,
          20583.41525892392,
          20338.775485057427,
          20663.49587349789,
          20873.696768895566,
          20717.81323171006,
          20731.682756632563,
          20741.648361813386,
          20532.971604426093,
          20731.020037253325,
          21187.392087131007,
          21318.102034853226,
          21050.378118738176,
          20556.847875596974,
          18418.959036503136,
          15714.170905933977,
          17260.25046037946,
          16468.41903014687,
          16211.922497290752,
          15822.33671111262,
          16131.921836994286,
          16309.224924589491,
          16058.103611925184,
          16134.305278552902,
          16150.62879937794,
          16154.591210551409,
          15782.884430779812,
          15439.915078745722,
          15689.213114262966,
          15946.247219563651,
          15944.641354952635,
          15868.296186522324,
          15801.201051209351,
          15872.19981187594,
          15683.633332537333,
          15928.168104093502,
          16338.98760211611
         ],
         "yaxis": "y"
        }
       ],
       "layout": {
        "legend": {
         "tracegroupgap": 0
        },
        "template": {
         "data": {
          "bar": [
           {
            "error_x": {
             "color": "#2a3f5f"
            },
            "error_y": {
             "color": "#2a3f5f"
            },
            "marker": {
             "line": {
              "color": "#E5ECF6",
              "width": 0.5
             },
             "pattern": {
              "fillmode": "overlay",
              "size": 10,
              "solidity": 0.2
             }
            },
            "type": "bar"
           }
          ],
          "barpolar": [
           {
            "marker": {
             "line": {
              "color": "#E5ECF6",
              "width": 0.5
             },
             "pattern": {
              "fillmode": "overlay",
              "size": 10,
              "solidity": 0.2
             }
            },
            "type": "barpolar"
           }
          ],
          "carpet": [
           {
            "aaxis": {
             "endlinecolor": "#2a3f5f",
             "gridcolor": "white",
             "linecolor": "white",
             "minorgridcolor": "white",
             "startlinecolor": "#2a3f5f"
            },
            "baxis": {
             "endlinecolor": "#2a3f5f",
             "gridcolor": "white",
             "linecolor": "white",
             "minorgridcolor": "white",
             "startlinecolor": "#2a3f5f"
            },
            "type": "carpet"
           }
          ],
          "choropleth": [
           {
            "colorbar": {
             "outlinewidth": 0,
             "ticks": ""
            },
            "type": "choropleth"
           }
          ],
          "contour": [
           {
            "colorbar": {
             "outlinewidth": 0,
             "ticks": ""
            },
            "colorscale": [
             [
              0,
              "#0d0887"
             ],
             [
              0.1111111111111111,
              "#46039f"
             ],
             [
              0.2222222222222222,
              "#7201a8"
             ],
             [
              0.3333333333333333,
              "#9c179e"
             ],
             [
              0.4444444444444444,
              "#bd3786"
             ],
             [
              0.5555555555555556,
              "#d8576b"
             ],
             [
              0.6666666666666666,
              "#ed7953"
             ],
             [
              0.7777777777777778,
              "#fb9f3a"
             ],
             [
              0.8888888888888888,
              "#fdca26"
             ],
             [
              1,
              "#f0f921"
             ]
            ],
            "type": "contour"
           }
          ],
          "contourcarpet": [
           {
            "colorbar": {
             "outlinewidth": 0,
             "ticks": ""
            },
            "type": "contourcarpet"
           }
          ],
          "heatmap": [
           {
            "colorbar": {
             "outlinewidth": 0,
             "ticks": ""
            },
            "colorscale": [
             [
              0,
              "#0d0887"
             ],
             [
              0.1111111111111111,
              "#46039f"
             ],
             [
              0.2222222222222222,
              "#7201a8"
             ],
             [
              0.3333333333333333,
              "#9c179e"
             ],
             [
              0.4444444444444444,
              "#bd3786"
             ],
             [
              0.5555555555555556,
              "#d8576b"
             ],
             [
              0.6666666666666666,
              "#ed7953"
             ],
             [
              0.7777777777777778,
              "#fb9f3a"
             ],
             [
              0.8888888888888888,
              "#fdca26"
             ],
             [
              1,
              "#f0f921"
             ]
            ],
            "type": "heatmap"
           }
          ],
          "heatmapgl": [
           {
            "colorbar": {
             "outlinewidth": 0,
             "ticks": ""
            },
            "colorscale": [
             [
              0,
              "#0d0887"
             ],
             [
              0.1111111111111111,
              "#46039f"
             ],
             [
              0.2222222222222222,
              "#7201a8"
             ],
             [
              0.3333333333333333,
              "#9c179e"
             ],
             [
              0.4444444444444444,
              "#bd3786"
             ],
             [
              0.5555555555555556,
              "#d8576b"
             ],
             [
              0.6666666666666666,
              "#ed7953"
             ],
             [
              0.7777777777777778,
              "#fb9f3a"
             ],
             [
              0.8888888888888888,
              "#fdca26"
             ],
             [
              1,
              "#f0f921"
             ]
            ],
            "type": "heatmapgl"
           }
          ],
          "histogram": [
           {
            "marker": {
             "pattern": {
              "fillmode": "overlay",
              "size": 10,
              "solidity": 0.2
             }
            },
            "type": "histogram"
           }
          ],
          "histogram2d": [
           {
            "colorbar": {
             "outlinewidth": 0,
             "ticks": ""
            },
            "colorscale": [
             [
              0,
              "#0d0887"
             ],
             [
              0.1111111111111111,
              "#46039f"
             ],
             [
              0.2222222222222222,
              "#7201a8"
             ],
             [
              0.3333333333333333,
              "#9c179e"
             ],
             [
              0.4444444444444444,
              "#bd3786"
             ],
             [
              0.5555555555555556,
              "#d8576b"
             ],
             [
              0.6666666666666666,
              "#ed7953"
             ],
             [
              0.7777777777777778,
              "#fb9f3a"
             ],
             [
              0.8888888888888888,
              "#fdca26"
             ],
             [
              1,
              "#f0f921"
             ]
            ],
            "type": "histogram2d"
           }
          ],
          "histogram2dcontour": [
           {
            "colorbar": {
             "outlinewidth": 0,
             "ticks": ""
            },
            "colorscale": [
             [
              0,
              "#0d0887"
             ],
             [
              0.1111111111111111,
              "#46039f"
             ],
             [
              0.2222222222222222,
              "#7201a8"
             ],
             [
              0.3333333333333333,
              "#9c179e"
             ],
             [
              0.4444444444444444,
              "#bd3786"
             ],
             [
              0.5555555555555556,
              "#d8576b"
             ],
             [
              0.6666666666666666,
              "#ed7953"
             ],
             [
              0.7777777777777778,
              "#fb9f3a"
             ],
             [
              0.8888888888888888,
              "#fdca26"
             ],
             [
              1,
              "#f0f921"
             ]
            ],
            "type": "histogram2dcontour"
           }
          ],
          "mesh3d": [
           {
            "colorbar": {
             "outlinewidth": 0,
             "ticks": ""
            },
            "type": "mesh3d"
           }
          ],
          "parcoords": [
           {
            "line": {
             "colorbar": {
              "outlinewidth": 0,
              "ticks": ""
             }
            },
            "type": "parcoords"
           }
          ],
          "pie": [
           {
            "automargin": true,
            "type": "pie"
           }
          ],
          "scatter": [
           {
            "fillpattern": {
             "fillmode": "overlay",
             "size": 10,
             "solidity": 0.2
            },
            "type": "scatter"
           }
          ],
          "scatter3d": [
           {
            "line": {
             "colorbar": {
              "outlinewidth": 0,
              "ticks": ""
             }
            },
            "marker": {
             "colorbar": {
              "outlinewidth": 0,
              "ticks": ""
             }
            },
            "type": "scatter3d"
           }
          ],
          "scattercarpet": [
           {
            "marker": {
             "colorbar": {
              "outlinewidth": 0,
              "ticks": ""
             }
            },
            "type": "scattercarpet"
           }
          ],
          "scattergeo": [
           {
            "marker": {
             "colorbar": {
              "outlinewidth": 0,
              "ticks": ""
             }
            },
            "type": "scattergeo"
           }
          ],
          "scattergl": [
           {
            "marker": {
             "colorbar": {
              "outlinewidth": 0,
              "ticks": ""
             }
            },
            "type": "scattergl"
           }
          ],
          "scattermapbox": [
           {
            "marker": {
             "colorbar": {
              "outlinewidth": 0,
              "ticks": ""
             }
            },
            "type": "scattermapbox"
           }
          ],
          "scatterpolar": [
           {
            "marker": {
             "colorbar": {
              "outlinewidth": 0,
              "ticks": ""
             }
            },
            "type": "scatterpolar"
           }
          ],
          "scatterpolargl": [
           {
            "marker": {
             "colorbar": {
              "outlinewidth": 0,
              "ticks": ""
             }
            },
            "type": "scatterpolargl"
           }
          ],
          "scatterternary": [
           {
            "marker": {
             "colorbar": {
              "outlinewidth": 0,
              "ticks": ""
             }
            },
            "type": "scatterternary"
           }
          ],
          "surface": [
           {
            "colorbar": {
             "outlinewidth": 0,
             "ticks": ""
            },
            "colorscale": [
             [
              0,
              "#0d0887"
             ],
             [
              0.1111111111111111,
              "#46039f"
             ],
             [
              0.2222222222222222,
              "#7201a8"
             ],
             [
              0.3333333333333333,
              "#9c179e"
             ],
             [
              0.4444444444444444,
              "#bd3786"
             ],
             [
              0.5555555555555556,
              "#d8576b"
             ],
             [
              0.6666666666666666,
              "#ed7953"
             ],
             [
              0.7777777777777778,
              "#fb9f3a"
             ],
             [
              0.8888888888888888,
              "#fdca26"
             ],
             [
              1,
              "#f0f921"
             ]
            ],
            "type": "surface"
           }
          ],
          "table": [
           {
            "cells": {
             "fill": {
              "color": "#EBF0F8"
             },
             "line": {
              "color": "white"
             }
            },
            "header": {
             "fill": {
              "color": "#C8D4E3"
             },
             "line": {
              "color": "white"
             }
            },
            "type": "table"
           }
          ]
         },
         "layout": {
          "annotationdefaults": {
           "arrowcolor": "#2a3f5f",
           "arrowhead": 0,
           "arrowwidth": 1
          },
          "autotypenumbers": "strict",
          "coloraxis": {
           "colorbar": {
            "outlinewidth": 0,
            "ticks": ""
           }
          },
          "colorscale": {
           "diverging": [
            [
             0,
             "#8e0152"
            ],
            [
             0.1,
             "#c51b7d"
            ],
            [
             0.2,
             "#de77ae"
            ],
            [
             0.3,
             "#f1b6da"
            ],
            [
             0.4,
             "#fde0ef"
            ],
            [
             0.5,
             "#f7f7f7"
            ],
            [
             0.6,
             "#e6f5d0"
            ],
            [
             0.7,
             "#b8e186"
            ],
            [
             0.8,
             "#7fbc41"
            ],
            [
             0.9,
             "#4d9221"
            ],
            [
             1,
             "#276419"
            ]
           ],
           "sequential": [
            [
             0,
             "#0d0887"
            ],
            [
             0.1111111111111111,
             "#46039f"
            ],
            [
             0.2222222222222222,
             "#7201a8"
            ],
            [
             0.3333333333333333,
             "#9c179e"
            ],
            [
             0.4444444444444444,
             "#bd3786"
            ],
            [
             0.5555555555555556,
             "#d8576b"
            ],
            [
             0.6666666666666666,
             "#ed7953"
            ],
            [
             0.7777777777777778,
             "#fb9f3a"
            ],
            [
             0.8888888888888888,
             "#fdca26"
            ],
            [
             1,
             "#f0f921"
            ]
           ],
           "sequentialminus": [
            [
             0,
             "#0d0887"
            ],
            [
             0.1111111111111111,
             "#46039f"
            ],
            [
             0.2222222222222222,
             "#7201a8"
            ],
            [
             0.3333333333333333,
             "#9c179e"
            ],
            [
             0.4444444444444444,
             "#bd3786"
            ],
            [
             0.5555555555555556,
             "#d8576b"
            ],
            [
             0.6666666666666666,
             "#ed7953"
            ],
            [
             0.7777777777777778,
             "#fb9f3a"
            ],
            [
             0.8888888888888888,
             "#fdca26"
            ],
            [
             1,
             "#f0f921"
            ]
           ]
          },
          "colorway": [
           "#636efa",
           "#EF553B",
           "#00cc96",
           "#ab63fa",
           "#FFA15A",
           "#19d3f3",
           "#FF6692",
           "#B6E880",
           "#FF97FF",
           "#FECB52"
          ],
          "font": {
           "color": "#2a3f5f"
          },
          "geo": {
           "bgcolor": "white",
           "lakecolor": "white",
           "landcolor": "#E5ECF6",
           "showlakes": true,
           "showland": true,
           "subunitcolor": "white"
          },
          "hoverlabel": {
           "align": "left"
          },
          "hovermode": "closest",
          "mapbox": {
           "style": "light"
          },
          "paper_bgcolor": "white",
          "plot_bgcolor": "#E5ECF6",
          "polar": {
           "angularaxis": {
            "gridcolor": "white",
            "linecolor": "white",
            "ticks": ""
           },
           "bgcolor": "#E5ECF6",
           "radialaxis": {
            "gridcolor": "white",
            "linecolor": "white",
            "ticks": ""
           }
          },
          "scene": {
           "xaxis": {
            "backgroundcolor": "#E5ECF6",
            "gridcolor": "white",
            "gridwidth": 2,
            "linecolor": "white",
            "showbackground": true,
            "ticks": "",
            "zerolinecolor": "white"
           },
           "yaxis": {
            "backgroundcolor": "#E5ECF6",
            "gridcolor": "white",
            "gridwidth": 2,
            "linecolor": "white",
            "showbackground": true,
            "ticks": "",
            "zerolinecolor": "white"
           },
           "zaxis": {
            "backgroundcolor": "#E5ECF6",
            "gridcolor": "white",
            "gridwidth": 2,
            "linecolor": "white",
            "showbackground": true,
            "ticks": "",
            "zerolinecolor": "white"
           }
          },
          "shapedefaults": {
           "line": {
            "color": "#2a3f5f"
           }
          },
          "ternary": {
           "aaxis": {
            "gridcolor": "white",
            "linecolor": "white",
            "ticks": ""
           },
           "baxis": {
            "gridcolor": "white",
            "linecolor": "white",
            "ticks": ""
           },
           "bgcolor": "#E5ECF6",
           "caxis": {
            "gridcolor": "white",
            "linecolor": "white",
            "ticks": ""
           }
          },
          "title": {
           "x": 0.05
          },
          "xaxis": {
           "automargin": true,
           "gridcolor": "white",
           "linecolor": "white",
           "ticks": "",
           "title": {
            "standoff": 15
           },
           "zerolinecolor": "white",
           "zerolinewidth": 2
          },
          "yaxis": {
           "automargin": true,
           "gridcolor": "white",
           "linecolor": "white",
           "ticks": "",
           "title": {
            "standoff": 15
           },
           "zerolinecolor": "white",
           "zerolinewidth": 2
          }
         }
        },
        "title": {
         "text": "Preisverlauf von Bitcoin"
        },
        "xaxis": {
         "anchor": "y",
         "domain": [
          0,
          1
         ],
         "rangeslider": {
          "visible": true
         },
         "title": {
          "text": "time"
         }
        },
        "yaxis": {
         "anchor": "x",
         "domain": [
          0,
          1
         ],
         "title": {
          "text": "price"
         }
        }
       }
      }
     },
     "metadata": {},
     "output_type": "display_data"
    },
    {
     "name": "stdout",
     "output_type": "stream",
     "text": [
      "\n"
     ]
    },
    {
     "data": {
      "application/vnd.plotly.v1+json": {
       "config": {
        "plotlyServerURL": "https://plot.ly"
       },
       "data": [
        {
         "hovertemplate": "time=%{x}<br>price=%{y}<extra></extra>",
         "legendgroup": "",
         "line": {
          "color": "#636efa",
          "dash": "solid"
         },
         "marker": {
          "symbol": "circle"
         },
         "mode": "lines",
         "name": "",
         "orientation": "v",
         "showlegend": false,
         "type": "scatter",
         "x": [
          "2021-12-01T00:00:00",
          "2021-12-02T00:00:00",
          "2021-12-03T00:00:00",
          "2021-12-04T00:00:00",
          "2021-12-05T00:00:00",
          "2021-12-06T00:00:00",
          "2021-12-07T00:00:00",
          "2021-12-08T00:00:00",
          "2021-12-09T00:00:00",
          "2021-12-10T00:00:00",
          "2021-12-11T00:00:00",
          "2021-12-12T00:00:00",
          "2021-12-13T00:00:00",
          "2021-12-14T00:00:00",
          "2021-12-15T00:00:00",
          "2021-12-16T00:00:00",
          "2021-12-17T00:00:00",
          "2021-12-18T00:00:00",
          "2021-12-19T00:00:00",
          "2021-12-20T00:00:00",
          "2021-12-21T00:00:00",
          "2021-12-22T00:00:00",
          "2021-12-23T00:00:00",
          "2021-12-24T00:00:00",
          "2021-12-25T00:00:00",
          "2021-12-26T00:00:00",
          "2021-12-27T00:00:00",
          "2021-12-28T00:00:00",
          "2021-12-29T00:00:00",
          "2021-12-30T00:00:00",
          "2021-12-31T00:00:00",
          "2022-01-01T00:00:00",
          "2022-01-02T00:00:00",
          "2022-01-03T00:00:00",
          "2022-01-04T00:00:00",
          "2022-01-05T00:00:00",
          "2022-01-06T00:00:00",
          "2022-01-07T00:00:00",
          "2022-01-08T00:00:00",
          "2022-01-09T00:00:00",
          "2022-01-10T00:00:00",
          "2022-01-11T00:00:00",
          "2022-01-12T00:00:00",
          "2022-01-13T00:00:00",
          "2022-01-14T00:00:00",
          "2022-01-15T00:00:00",
          "2022-01-16T00:00:00",
          "2022-01-17T00:00:00",
          "2022-01-18T00:00:00",
          "2022-01-19T00:00:00",
          "2022-01-20T00:00:00",
          "2022-01-21T00:00:00",
          "2022-01-22T00:00:00",
          "2022-01-23T00:00:00",
          "2022-01-24T00:00:00",
          "2022-01-25T00:00:00",
          "2022-01-26T00:00:00",
          "2022-01-27T00:00:00",
          "2022-01-28T00:00:00",
          "2022-01-29T00:00:00",
          "2022-01-30T00:00:00",
          "2022-01-31T00:00:00",
          "2022-02-01T00:00:00",
          "2022-02-02T00:00:00",
          "2022-02-03T00:00:00",
          "2022-02-04T00:00:00",
          "2022-02-05T00:00:00",
          "2022-02-06T00:00:00",
          "2022-02-07T00:00:00",
          "2022-02-08T00:00:00",
          "2022-02-09T00:00:00",
          "2022-02-10T00:00:00",
          "2022-02-11T00:00:00",
          "2022-02-12T00:00:00",
          "2022-02-13T00:00:00",
          "2022-02-14T00:00:00",
          "2022-02-15T00:00:00",
          "2022-02-16T00:00:00",
          "2022-02-17T00:00:00",
          "2022-02-18T00:00:00",
          "2022-02-19T00:00:00",
          "2022-02-20T00:00:00",
          "2022-02-21T00:00:00",
          "2022-02-22T00:00:00",
          "2022-02-23T00:00:00",
          "2022-02-24T00:00:00",
          "2022-02-25T00:00:00",
          "2022-02-26T00:00:00",
          "2022-02-27T00:00:00",
          "2022-02-28T00:00:00",
          "2022-03-01T00:00:00",
          "2022-03-02T00:00:00",
          "2022-03-03T00:00:00",
          "2022-03-04T00:00:00",
          "2022-03-05T00:00:00",
          "2022-03-06T00:00:00",
          "2022-03-07T00:00:00",
          "2022-03-08T00:00:00",
          "2022-03-09T00:00:00",
          "2022-03-10T00:00:00",
          "2022-03-11T00:00:00",
          "2022-03-12T00:00:00",
          "2022-03-13T00:00:00",
          "2022-03-14T00:00:00",
          "2022-03-15T00:00:00",
          "2022-03-16T00:00:00",
          "2022-03-17T00:00:00",
          "2022-03-18T00:00:00",
          "2022-03-19T00:00:00",
          "2022-03-20T00:00:00",
          "2022-03-21T00:00:00",
          "2022-03-22T00:00:00",
          "2022-03-23T00:00:00",
          "2022-03-24T00:00:00",
          "2022-03-25T00:00:00",
          "2022-03-26T00:00:00",
          "2022-03-27T00:00:00",
          "2022-03-28T00:00:00",
          "2022-03-29T00:00:00",
          "2022-03-30T00:00:00",
          "2022-03-31T00:00:00",
          "2022-04-01T00:00:00",
          "2022-04-02T00:00:00",
          "2022-04-03T00:00:00",
          "2022-04-04T00:00:00",
          "2022-04-05T00:00:00",
          "2022-04-06T00:00:00",
          "2022-04-07T00:00:00",
          "2022-04-08T00:00:00",
          "2022-04-09T00:00:00",
          "2022-04-10T00:00:00",
          "2022-04-11T00:00:00",
          "2022-04-12T00:00:00",
          "2022-04-13T00:00:00",
          "2022-04-14T00:00:00",
          "2022-04-15T00:00:00",
          "2022-04-16T00:00:00",
          "2022-04-17T00:00:00",
          "2022-04-18T00:00:00",
          "2022-04-19T00:00:00",
          "2022-04-20T00:00:00",
          "2022-04-21T00:00:00",
          "2022-04-22T00:00:00",
          "2022-04-23T00:00:00",
          "2022-04-24T00:00:00",
          "2022-04-25T00:00:00",
          "2022-04-26T00:00:00",
          "2022-04-27T00:00:00",
          "2022-04-28T00:00:00",
          "2022-04-29T00:00:00",
          "2022-04-30T00:00:00",
          "2022-05-01T00:00:00",
          "2022-05-02T00:00:00",
          "2022-05-03T00:00:00",
          "2022-05-04T00:00:00",
          "2022-05-05T00:00:00",
          "2022-05-06T00:00:00",
          "2022-05-07T00:00:00",
          "2022-05-08T00:00:00",
          "2022-05-09T00:00:00",
          "2022-05-10T00:00:00",
          "2022-05-11T00:00:00",
          "2022-05-12T00:00:00",
          "2022-05-13T00:00:00",
          "2022-05-14T00:00:00",
          "2022-05-15T00:00:00",
          "2022-05-16T00:00:00",
          "2022-05-17T00:00:00",
          "2022-05-18T00:00:00",
          "2022-05-19T00:00:00",
          "2022-05-20T00:00:00",
          "2022-05-21T00:00:00",
          "2022-05-22T00:00:00",
          "2022-05-23T00:00:00",
          "2022-05-24T00:00:00",
          "2022-05-25T00:00:00",
          "2022-05-26T00:00:00",
          "2022-05-27T00:00:00",
          "2022-05-28T00:00:00",
          "2022-05-29T00:00:00",
          "2022-05-30T00:00:00",
          "2022-05-31T00:00:00",
          "2022-06-01T00:00:00",
          "2022-06-02T00:00:00",
          "2022-06-03T00:00:00",
          "2022-06-04T00:00:00",
          "2022-06-05T00:00:00",
          "2022-06-06T00:00:00",
          "2022-06-07T00:00:00",
          "2022-06-08T00:00:00",
          "2022-06-09T00:00:00",
          "2022-06-10T00:00:00",
          "2022-06-11T00:00:00",
          "2022-06-12T00:00:00",
          "2022-06-13T00:00:00",
          "2022-06-14T00:00:00",
          "2022-06-15T00:00:00",
          "2022-06-16T00:00:00",
          "2022-06-17T00:00:00",
          "2022-06-18T00:00:00",
          "2022-06-19T00:00:00",
          "2022-06-20T00:00:00",
          "2022-06-21T00:00:00",
          "2022-06-22T00:00:00",
          "2022-06-23T00:00:00",
          "2022-06-24T00:00:00",
          "2022-06-25T00:00:00",
          "2022-06-26T00:00:00",
          "2022-06-27T00:00:00",
          "2022-06-28T00:00:00",
          "2022-06-29T00:00:00",
          "2022-06-30T00:00:00",
          "2022-07-01T00:00:00",
          "2022-07-02T00:00:00",
          "2022-07-03T00:00:00",
          "2022-07-04T00:00:00",
          "2022-07-05T00:00:00",
          "2022-07-06T00:00:00",
          "2022-07-07T00:00:00",
          "2022-07-08T00:00:00",
          "2022-07-09T00:00:00",
          "2022-07-10T00:00:00",
          "2022-07-11T00:00:00",
          "2022-07-12T00:00:00",
          "2022-07-13T00:00:00",
          "2022-07-14T00:00:00",
          "2022-07-15T00:00:00",
          "2022-07-16T00:00:00",
          "2022-07-17T00:00:00",
          "2022-07-18T00:00:00",
          "2022-07-19T00:00:00",
          "2022-07-20T00:00:00",
          "2022-07-21T00:00:00",
          "2022-07-22T00:00:00",
          "2022-07-23T00:00:00",
          "2022-07-24T00:00:00",
          "2022-07-25T00:00:00",
          "2022-07-26T00:00:00",
          "2022-07-27T00:00:00",
          "2022-07-28T00:00:00",
          "2022-07-29T00:00:00",
          "2022-07-30T00:00:00",
          "2022-07-31T00:00:00",
          "2022-08-01T00:00:00",
          "2022-08-02T00:00:00",
          "2022-08-03T00:00:00",
          "2022-08-04T00:00:00",
          "2022-08-05T00:00:00",
          "2022-08-06T00:00:00",
          "2022-08-07T00:00:00",
          "2022-08-08T00:00:00",
          "2022-08-09T00:00:00",
          "2022-08-10T00:00:00",
          "2022-08-11T00:00:00",
          "2022-08-12T00:00:00",
          "2022-08-13T00:00:00",
          "2022-08-14T00:00:00",
          "2022-08-15T00:00:00",
          "2022-08-16T00:00:00",
          "2022-08-17T00:00:00",
          "2022-08-18T00:00:00",
          "2022-08-19T00:00:00",
          "2022-08-20T00:00:00",
          "2022-08-21T00:00:00",
          "2022-08-22T00:00:00",
          "2022-08-23T00:00:00",
          "2022-08-24T00:00:00",
          "2022-08-25T00:00:00",
          "2022-08-26T00:00:00",
          "2022-08-27T00:00:00",
          "2022-08-28T00:00:00",
          "2022-08-29T00:00:00",
          "2022-08-30T00:00:00",
          "2022-08-31T00:00:00",
          "2022-09-01T00:00:00",
          "2022-09-02T00:00:00",
          "2022-09-03T00:00:00",
          "2022-09-04T00:00:00",
          "2022-09-05T00:00:00",
          "2022-09-06T00:00:00",
          "2022-09-07T00:00:00",
          "2022-09-08T00:00:00",
          "2022-09-09T00:00:00",
          "2022-09-10T00:00:00",
          "2022-09-11T00:00:00",
          "2022-09-12T00:00:00",
          "2022-09-13T00:00:00",
          "2022-09-14T00:00:00",
          "2022-09-15T00:00:00",
          "2022-09-16T00:00:00",
          "2022-09-17T00:00:00",
          "2022-09-18T00:00:00",
          "2022-09-19T00:00:00",
          "2022-09-20T00:00:00",
          "2022-09-21T00:00:00",
          "2022-09-22T00:00:00",
          "2022-09-23T00:00:00",
          "2022-09-24T00:00:00",
          "2022-09-25T00:00:00",
          "2022-09-26T00:00:00",
          "2022-09-27T00:00:00",
          "2022-09-28T00:00:00",
          "2022-09-29T00:00:00",
          "2022-09-30T00:00:00",
          "2022-10-01T00:00:00",
          "2022-10-02T00:00:00",
          "2022-10-03T00:00:00",
          "2022-10-04T00:00:00",
          "2022-10-05T00:00:00",
          "2022-10-06T00:00:00",
          "2022-10-07T00:00:00",
          "2022-10-08T00:00:00",
          "2022-10-09T00:00:00",
          "2022-10-10T00:00:00",
          "2022-10-11T00:00:00",
          "2022-10-12T00:00:00",
          "2022-10-13T00:00:00",
          "2022-10-14T00:00:00",
          "2022-10-15T00:00:00",
          "2022-10-16T00:00:00",
          "2022-10-17T00:00:00",
          "2022-10-18T00:00:00",
          "2022-10-19T00:00:00",
          "2022-10-20T00:00:00",
          "2022-10-21T00:00:00",
          "2022-10-22T00:00:00",
          "2022-10-23T00:00:00",
          "2022-10-24T00:00:00",
          "2022-10-25T00:00:00",
          "2022-10-26T00:00:00",
          "2022-10-27T00:00:00",
          "2022-10-28T00:00:00",
          "2022-10-29T00:00:00",
          "2022-10-30T00:00:00",
          "2022-10-31T00:00:00",
          "2022-11-01T00:00:00",
          "2022-11-02T00:00:00",
          "2022-11-03T00:00:00",
          "2022-11-04T00:00:00",
          "2022-11-05T00:00:00",
          "2022-11-06T00:00:00",
          "2022-11-07T00:00:00",
          "2022-11-08T00:00:00",
          "2022-11-09T00:00:00",
          "2022-11-10T00:00:00",
          "2022-11-11T00:00:00",
          "2022-11-12T00:00:00",
          "2022-11-13T00:00:00",
          "2022-11-14T00:00:00",
          "2022-11-15T00:00:00",
          "2022-11-16T00:00:00",
          "2022-11-17T00:00:00",
          "2022-11-18T00:00:00",
          "2022-11-19T00:00:00",
          "2022-11-20T00:00:00",
          "2022-11-21T00:00:00",
          "2022-11-22T00:00:00",
          "2022-11-23T00:00:00",
          "2022-11-24T00:00:00",
          "2022-11-25T00:00:00",
          "2022-11-26T00:00:00",
          "2022-11-27T00:00:00",
          "2022-11-28T00:00:00",
          "2022-11-29T00:00:00",
          "2022-11-30T00:00:00",
          "2022-11-30T10:34:49"
         ],
         "xaxis": "x",
         "y": [
          50310.23157858034,
          50506.910551023844,
          49974.160510668,
          47537.22107822653,
          43452.36627055587,
          43584.415787737744,
          44721.77431769078,
          44927.87083488738,
          44540.22385241009,
          42404.08890755657,
          41793.12466052318,
          43511.77863340992,
          44253.81209678298,
          41388.14895905966,
          42995.310483289984,
          43340.68766182639,
          42082.02893086878,
          41217.158638052446,
          41788.32035689083,
          41634.77613021395,
          41783.36287549383,
          43541.433860598554,
          43045.84892569251,
          44939.3894297034,
          44944.76575352705,
          44745.83981814187,
          44908.059189479805,
          44818.168111937994,
          42181.44257440689,
          40960.337931023954,
          41672.35465483228,
          40724.329875917916,
          42039.991125253684,
          41678.04823294517,
          41182.38621861256,
          40712.02275452388,
          38583.9474556897,
          38256.89466270997,
          36548.87513397554,
          36754.38120421491,
          36877.3491771193,
          36950.15061656012,
          37634.14971670083,
          38443.019605976486,
          37184.9985435791,
          37774.601606233235,
          37867.28048940748,
          37793.20421964552,
          37075.17276239649,
          37421.411588852076,
          36804.81805860254,
          35990.191222362555,
          32181.22920674321,
          31010.322545243864,
          32010.163092146187,
          32475.015385290793,
          32723.735164102294,
          32807.24391965484,
          33451.63939007328,
          33950.318803453716,
          34290.78519449822,
          34072.444204179075,
          34331.69854991698,
          34449.74689911461,
          32740.31936392339,
          32442.868786314128,
          36399.056660401795,
          36241.7092200966,
          37089.68681607784,
          38378.15280815121,
          38685.33954326799,
          38856.54055643573,
          38228.37195871204,
          37393.5385967781,
          37227.86094766816,
          37171.12474594334,
          37706.01705427157,
          39246.57490474962,
          38743.96258183267,
          35684.43594638543,
          35394.19345589656,
          35499.53102434018,
          34031.786736787326,
          32780.18180097314,
          33839.29141309584,
          33059.642221913615,
          34280.52644494906,
          34873.31781273593,
          34679.02920138296,
          33811.757861046884,
          38535.707622362024,
          39946.94307752749,
          39565.57212941758,
          38398.76860670511,
          35864.04062567888,
          36114.42256250789,
          35379.162189723094,
          35045.109919828006,
          35547.850136570734,
          37916.034224976975,
          35846.10704535494,
          35527.90973358008,
          35645.6648281346,
          34612.61395666388,
          36250.752537309745,
          35862.77767571413,
          37351.84480113969,
          36949.05960161877,
          37809.892724835314,
          38139.327972283274,
          37381.53690959784,
          37265.15827267271,
          38448.59726335312,
          38891.45024076582,
          39912.780030151276,
          40361.867241009044,
          40521.515293772805,
          42535.70290565289,
          42737.143070234335,
          42784.61892416393,
          42171.36428668906,
          41115.11100574884,
          41879.15865886829,
          41504.881920695625,
          42050.7687605945,
          42485.99573681132,
          41838.58457674535,
          39639.887367573596,
          40058.4373266059,
          38905.61362467247,
          39347.56419454134,
          38835.92820550051,
          36410.26180487428,
          37138.065125210036,
          37820.205313940205,
          36934.44624999378,
          37538.8279576329,
          37412.83897225637,
          36747.319923898205,
          37875.02563885304,
          38450.16834923322,
          38162.027696980214,
          37404.43939479423,
          36857.30248267918,
          36676.46043788396,
          36519.212013396675,
          37792.3996260646,
          35823.58706810112,
          37171.75738231169,
          37838.21550700867,
          36657.49586967173,
          35870.35409900302,
          36563.83316485478,
          36688.63016759306,
          35876.76369570894,
          37372.38333926808,
          34729.15274641945,
          34239.06411952975,
          33724.209534699476,
          32341.27792386463,
          28653.94775281938,
          29465.503421437046,
          27502.39447755454,
          28051.915693517538,
          28151.196522206264,
          28995.04315652366,
          30104.58970725485,
          28668.850305182383,
          28918.183881038825,
          27476.012868537517,
          28713.13607843684,
          27690.37432953656,
          27912.503120729572,
          28712.79176877221,
          27282.23094370736,
          27628.905781352812,
          27685.44814673912,
          27342.51365703925,
          26692.377570081066,
          27103.836962005982,
          27488.84153153608,
          29460.41761594518,
          29678.32523842781,
          28005.793496076178,
          28354.963269803175,
          27718.03647011353,
          27868.61199628631,
          27893.43838337483,
          29346.982455169305,
          29219.144313468325,
          28207.868227372048,
          28342.37513455417,
          27664.79997495412,
          26971.61101010621,
          25520.34270605597,
          21630.79704806176,
          21314.52489446156,
          21548.1416535493,
          19349.010054248763,
          19500.00962347663,
          18147.31305138862,
          19557.76211360825,
          19616.312457705713,
          19649.109988001404,
          18916.643868343002,
          20056.229147512993,
          20142.78510109529,
          20392.09071765335,
          19921.301318923623,
          19611.183840473812,
          19273.56712109598,
          19249.25179145432,
          18713.666315798244,
          18608.94741319181,
          18475.455070868466,
          18509.24474461758,
          19416.285545919323,
          19670.998031931347,
          20192.126716050698,
          21303.565219409724,
          21458.10288390686,
          21193.847039103744,
          20512.247857455524,
          19903.7950928232,
          19284.51912686527,
          20159.30438628614,
          20526.572015472782,
          20628.45348558518,
          21023.53867662143,
          20628.759512325418,
          22080.173010702092,
          22840.100763878076,
          22903.332408928116,
          22652.646930469207,
          22225.715053111086,
          22036.810275321415,
          22166.668593220573,
          20864.228495188396,
          20963.010760784193,
          22449.790219888906,
          23370.75852718244,
          23319.88399506148,
          23130.055796521006,
          22901.86620575899,
          22736.89527141749,
          22700.82329070718,
          22505.947296599305,
          22133.60666102488,
          22797.951011225403,
          22561.89311386523,
          22803.17461773299,
          23363.120071472124,
          22729.049408128965,
          23252.972361771725,
          23209.38189233366,
          23786.863540269536,
          23808.56758342788,
          23700.71631993417,
          23792.730714223864,
          23503.22005223396,
          22949.461036479446,
          23029.38444876302,
          20870.701259613335,
          21097.180825135696,
          21531.76284347637,
          21517.14298481832,
          21638.28668197949,
          21464.99370978659,
          21684.26821682046,
          20344.563241530534,
          20140.439007696747,
          19782.470864547955,
          20293.122080269328,
          19757.382139465397,
          19946.96434916074,
          20248.33689351139,
          20035.614903416496,
          19908.128617480066,
          20156.71645917984,
          19883.791597090312,
          19050.961732570493,
          19289.494564175904,
          19305.02011661991,
          21044.742279152062,
          21383.426270964625,
          21579.625501125218,
          22054.839703714908,
          20226.42741512492,
          20292.322871919205,
          19723.172402914275,
          19732.571244775656,
          20099.22304512122,
          19385.785459737548,
          19523.241647940245,
          18928.74637748945,
          18855.99557401917,
          19786.418274781594,
          19904.982245169223,
          19545.8981193107,
          19414.05877946124,
          19991.64970751099,
          19925.888669035365,
          20027.178609903058,
          19896.975210012286,
          19870.360513243373,
          19701.815407432718,
          19470.860310803437,
          19954.31339750781,
          20380.697786538993,
          20345.625862871297,
          20383.142392079746,
          19960.494418039492,
          19926.14978930852,
          19982.428551133922,
          19714.1042061995,
          19642.35569933938,
          19728.339635858425,
          19837.87640241695,
          19748.09451844033,
          19619.17752950558,
          19786.06339196892,
          19873.188383011733,
          19617.08306521306,
          19592.81392416176,
          19465.45094023754,
          19444.333134846896,
          19480.78521127148,
          19835.81536332392,
          19534.217571069006,
          20172.35780554517,
          20583.41525892392,
          20338.775485057427,
          20663.49587349789,
          20873.696768895566,
          20717.81323171006,
          20731.682756632563,
          20741.648361813386,
          20532.971604426093,
          20731.020037253325,
          21187.392087131007,
          21318.102034853226,
          21050.378118738176,
          20556.847875596974,
          18418.959036503136,
          15714.170905933977,
          17260.25046037946,
          16468.41903014687,
          16211.922497290752,
          15822.33671111262,
          16131.921836994286,
          16309.224924589491,
          16058.103611925184,
          16134.305278552902,
          16150.62879937794,
          16154.591210551409,
          15782.884430779812,
          15439.915078745722,
          15689.213114262966,
          15946.247219563651,
          15944.641354952635,
          15868.296186522324,
          15801.201051209351,
          15872.19981187594,
          15683.633332537333,
          15928.168104093502,
          16338.98760211611
         ],
         "yaxis": "y"
        }
       ],
       "layout": {
        "legend": {
         "tracegroupgap": 0
        },
        "template": {
         "data": {
          "bar": [
           {
            "error_x": {
             "color": "#2a3f5f"
            },
            "error_y": {
             "color": "#2a3f5f"
            },
            "marker": {
             "line": {
              "color": "#E5ECF6",
              "width": 0.5
             },
             "pattern": {
              "fillmode": "overlay",
              "size": 10,
              "solidity": 0.2
             }
            },
            "type": "bar"
           }
          ],
          "barpolar": [
           {
            "marker": {
             "line": {
              "color": "#E5ECF6",
              "width": 0.5
             },
             "pattern": {
              "fillmode": "overlay",
              "size": 10,
              "solidity": 0.2
             }
            },
            "type": "barpolar"
           }
          ],
          "carpet": [
           {
            "aaxis": {
             "endlinecolor": "#2a3f5f",
             "gridcolor": "white",
             "linecolor": "white",
             "minorgridcolor": "white",
             "startlinecolor": "#2a3f5f"
            },
            "baxis": {
             "endlinecolor": "#2a3f5f",
             "gridcolor": "white",
             "linecolor": "white",
             "minorgridcolor": "white",
             "startlinecolor": "#2a3f5f"
            },
            "type": "carpet"
           }
          ],
          "choropleth": [
           {
            "colorbar": {
             "outlinewidth": 0,
             "ticks": ""
            },
            "type": "choropleth"
           }
          ],
          "contour": [
           {
            "colorbar": {
             "outlinewidth": 0,
             "ticks": ""
            },
            "colorscale": [
             [
              0,
              "#0d0887"
             ],
             [
              0.1111111111111111,
              "#46039f"
             ],
             [
              0.2222222222222222,
              "#7201a8"
             ],
             [
              0.3333333333333333,
              "#9c179e"
             ],
             [
              0.4444444444444444,
              "#bd3786"
             ],
             [
              0.5555555555555556,
              "#d8576b"
             ],
             [
              0.6666666666666666,
              "#ed7953"
             ],
             [
              0.7777777777777778,
              "#fb9f3a"
             ],
             [
              0.8888888888888888,
              "#fdca26"
             ],
             [
              1,
              "#f0f921"
             ]
            ],
            "type": "contour"
           }
          ],
          "contourcarpet": [
           {
            "colorbar": {
             "outlinewidth": 0,
             "ticks": ""
            },
            "type": "contourcarpet"
           }
          ],
          "heatmap": [
           {
            "colorbar": {
             "outlinewidth": 0,
             "ticks": ""
            },
            "colorscale": [
             [
              0,
              "#0d0887"
             ],
             [
              0.1111111111111111,
              "#46039f"
             ],
             [
              0.2222222222222222,
              "#7201a8"
             ],
             [
              0.3333333333333333,
              "#9c179e"
             ],
             [
              0.4444444444444444,
              "#bd3786"
             ],
             [
              0.5555555555555556,
              "#d8576b"
             ],
             [
              0.6666666666666666,
              "#ed7953"
             ],
             [
              0.7777777777777778,
              "#fb9f3a"
             ],
             [
              0.8888888888888888,
              "#fdca26"
             ],
             [
              1,
              "#f0f921"
             ]
            ],
            "type": "heatmap"
           }
          ],
          "heatmapgl": [
           {
            "colorbar": {
             "outlinewidth": 0,
             "ticks": ""
            },
            "colorscale": [
             [
              0,
              "#0d0887"
             ],
             [
              0.1111111111111111,
              "#46039f"
             ],
             [
              0.2222222222222222,
              "#7201a8"
             ],
             [
              0.3333333333333333,
              "#9c179e"
             ],
             [
              0.4444444444444444,
              "#bd3786"
             ],
             [
              0.5555555555555556,
              "#d8576b"
             ],
             [
              0.6666666666666666,
              "#ed7953"
             ],
             [
              0.7777777777777778,
              "#fb9f3a"
             ],
             [
              0.8888888888888888,
              "#fdca26"
             ],
             [
              1,
              "#f0f921"
             ]
            ],
            "type": "heatmapgl"
           }
          ],
          "histogram": [
           {
            "marker": {
             "pattern": {
              "fillmode": "overlay",
              "size": 10,
              "solidity": 0.2
             }
            },
            "type": "histogram"
           }
          ],
          "histogram2d": [
           {
            "colorbar": {
             "outlinewidth": 0,
             "ticks": ""
            },
            "colorscale": [
             [
              0,
              "#0d0887"
             ],
             [
              0.1111111111111111,
              "#46039f"
             ],
             [
              0.2222222222222222,
              "#7201a8"
             ],
             [
              0.3333333333333333,
              "#9c179e"
             ],
             [
              0.4444444444444444,
              "#bd3786"
             ],
             [
              0.5555555555555556,
              "#d8576b"
             ],
             [
              0.6666666666666666,
              "#ed7953"
             ],
             [
              0.7777777777777778,
              "#fb9f3a"
             ],
             [
              0.8888888888888888,
              "#fdca26"
             ],
             [
              1,
              "#f0f921"
             ]
            ],
            "type": "histogram2d"
           }
          ],
          "histogram2dcontour": [
           {
            "colorbar": {
             "outlinewidth": 0,
             "ticks": ""
            },
            "colorscale": [
             [
              0,
              "#0d0887"
             ],
             [
              0.1111111111111111,
              "#46039f"
             ],
             [
              0.2222222222222222,
              "#7201a8"
             ],
             [
              0.3333333333333333,
              "#9c179e"
             ],
             [
              0.4444444444444444,
              "#bd3786"
             ],
             [
              0.5555555555555556,
              "#d8576b"
             ],
             [
              0.6666666666666666,
              "#ed7953"
             ],
             [
              0.7777777777777778,
              "#fb9f3a"
             ],
             [
              0.8888888888888888,
              "#fdca26"
             ],
             [
              1,
              "#f0f921"
             ]
            ],
            "type": "histogram2dcontour"
           }
          ],
          "mesh3d": [
           {
            "colorbar": {
             "outlinewidth": 0,
             "ticks": ""
            },
            "type": "mesh3d"
           }
          ],
          "parcoords": [
           {
            "line": {
             "colorbar": {
              "outlinewidth": 0,
              "ticks": ""
             }
            },
            "type": "parcoords"
           }
          ],
          "pie": [
           {
            "automargin": true,
            "type": "pie"
           }
          ],
          "scatter": [
           {
            "fillpattern": {
             "fillmode": "overlay",
             "size": 10,
             "solidity": 0.2
            },
            "type": "scatter"
           }
          ],
          "scatter3d": [
           {
            "line": {
             "colorbar": {
              "outlinewidth": 0,
              "ticks": ""
             }
            },
            "marker": {
             "colorbar": {
              "outlinewidth": 0,
              "ticks": ""
             }
            },
            "type": "scatter3d"
           }
          ],
          "scattercarpet": [
           {
            "marker": {
             "colorbar": {
              "outlinewidth": 0,
              "ticks": ""
             }
            },
            "type": "scattercarpet"
           }
          ],
          "scattergeo": [
           {
            "marker": {
             "colorbar": {
              "outlinewidth": 0,
              "ticks": ""
             }
            },
            "type": "scattergeo"
           }
          ],
          "scattergl": [
           {
            "marker": {
             "colorbar": {
              "outlinewidth": 0,
              "ticks": ""
             }
            },
            "type": "scattergl"
           }
          ],
          "scattermapbox": [
           {
            "marker": {
             "colorbar": {
              "outlinewidth": 0,
              "ticks": ""
             }
            },
            "type": "scattermapbox"
           }
          ],
          "scatterpolar": [
           {
            "marker": {
             "colorbar": {
              "outlinewidth": 0,
              "ticks": ""
             }
            },
            "type": "scatterpolar"
           }
          ],
          "scatterpolargl": [
           {
            "marker": {
             "colorbar": {
              "outlinewidth": 0,
              "ticks": ""
             }
            },
            "type": "scatterpolargl"
           }
          ],
          "scatterternary": [
           {
            "marker": {
             "colorbar": {
              "outlinewidth": 0,
              "ticks": ""
             }
            },
            "type": "scatterternary"
           }
          ],
          "surface": [
           {
            "colorbar": {
             "outlinewidth": 0,
             "ticks": ""
            },
            "colorscale": [
             [
              0,
              "#0d0887"
             ],
             [
              0.1111111111111111,
              "#46039f"
             ],
             [
              0.2222222222222222,
              "#7201a8"
             ],
             [
              0.3333333333333333,
              "#9c179e"
             ],
             [
              0.4444444444444444,
              "#bd3786"
             ],
             [
              0.5555555555555556,
              "#d8576b"
             ],
             [
              0.6666666666666666,
              "#ed7953"
             ],
             [
              0.7777777777777778,
              "#fb9f3a"
             ],
             [
              0.8888888888888888,
              "#fdca26"
             ],
             [
              1,
              "#f0f921"
             ]
            ],
            "type": "surface"
           }
          ],
          "table": [
           {
            "cells": {
             "fill": {
              "color": "#EBF0F8"
             },
             "line": {
              "color": "white"
             }
            },
            "header": {
             "fill": {
              "color": "#C8D4E3"
             },
             "line": {
              "color": "white"
             }
            },
            "type": "table"
           }
          ]
         },
         "layout": {
          "annotationdefaults": {
           "arrowcolor": "#2a3f5f",
           "arrowhead": 0,
           "arrowwidth": 1
          },
          "autotypenumbers": "strict",
          "coloraxis": {
           "colorbar": {
            "outlinewidth": 0,
            "ticks": ""
           }
          },
          "colorscale": {
           "diverging": [
            [
             0,
             "#8e0152"
            ],
            [
             0.1,
             "#c51b7d"
            ],
            [
             0.2,
             "#de77ae"
            ],
            [
             0.3,
             "#f1b6da"
            ],
            [
             0.4,
             "#fde0ef"
            ],
            [
             0.5,
             "#f7f7f7"
            ],
            [
             0.6,
             "#e6f5d0"
            ],
            [
             0.7,
             "#b8e186"
            ],
            [
             0.8,
             "#7fbc41"
            ],
            [
             0.9,
             "#4d9221"
            ],
            [
             1,
             "#276419"
            ]
           ],
           "sequential": [
            [
             0,
             "#0d0887"
            ],
            [
             0.1111111111111111,
             "#46039f"
            ],
            [
             0.2222222222222222,
             "#7201a8"
            ],
            [
             0.3333333333333333,
             "#9c179e"
            ],
            [
             0.4444444444444444,
             "#bd3786"
            ],
            [
             0.5555555555555556,
             "#d8576b"
            ],
            [
             0.6666666666666666,
             "#ed7953"
            ],
            [
             0.7777777777777778,
             "#fb9f3a"
            ],
            [
             0.8888888888888888,
             "#fdca26"
            ],
            [
             1,
             "#f0f921"
            ]
           ],
           "sequentialminus": [
            [
             0,
             "#0d0887"
            ],
            [
             0.1111111111111111,
             "#46039f"
            ],
            [
             0.2222222222222222,
             "#7201a8"
            ],
            [
             0.3333333333333333,
             "#9c179e"
            ],
            [
             0.4444444444444444,
             "#bd3786"
            ],
            [
             0.5555555555555556,
             "#d8576b"
            ],
            [
             0.6666666666666666,
             "#ed7953"
            ],
            [
             0.7777777777777778,
             "#fb9f3a"
            ],
            [
             0.8888888888888888,
             "#fdca26"
            ],
            [
             1,
             "#f0f921"
            ]
           ]
          },
          "colorway": [
           "#636efa",
           "#EF553B",
           "#00cc96",
           "#ab63fa",
           "#FFA15A",
           "#19d3f3",
           "#FF6692",
           "#B6E880",
           "#FF97FF",
           "#FECB52"
          ],
          "font": {
           "color": "#2a3f5f"
          },
          "geo": {
           "bgcolor": "white",
           "lakecolor": "white",
           "landcolor": "#E5ECF6",
           "showlakes": true,
           "showland": true,
           "subunitcolor": "white"
          },
          "hoverlabel": {
           "align": "left"
          },
          "hovermode": "closest",
          "mapbox": {
           "style": "light"
          },
          "paper_bgcolor": "white",
          "plot_bgcolor": "#E5ECF6",
          "polar": {
           "angularaxis": {
            "gridcolor": "white",
            "linecolor": "white",
            "ticks": ""
           },
           "bgcolor": "#E5ECF6",
           "radialaxis": {
            "gridcolor": "white",
            "linecolor": "white",
            "ticks": ""
           }
          },
          "scene": {
           "xaxis": {
            "backgroundcolor": "#E5ECF6",
            "gridcolor": "white",
            "gridwidth": 2,
            "linecolor": "white",
            "showbackground": true,
            "ticks": "",
            "zerolinecolor": "white"
           },
           "yaxis": {
            "backgroundcolor": "#E5ECF6",
            "gridcolor": "white",
            "gridwidth": 2,
            "linecolor": "white",
            "showbackground": true,
            "ticks": "",
            "zerolinecolor": "white"
           },
           "zaxis": {
            "backgroundcolor": "#E5ECF6",
            "gridcolor": "white",
            "gridwidth": 2,
            "linecolor": "white",
            "showbackground": true,
            "ticks": "",
            "zerolinecolor": "white"
           }
          },
          "shapedefaults": {
           "line": {
            "color": "#2a3f5f"
           }
          },
          "ternary": {
           "aaxis": {
            "gridcolor": "white",
            "linecolor": "white",
            "ticks": ""
           },
           "baxis": {
            "gridcolor": "white",
            "linecolor": "white",
            "ticks": ""
           },
           "bgcolor": "#E5ECF6",
           "caxis": {
            "gridcolor": "white",
            "linecolor": "white",
            "ticks": ""
           }
          },
          "title": {
           "x": 0.05
          },
          "xaxis": {
           "automargin": true,
           "gridcolor": "white",
           "linecolor": "white",
           "ticks": "",
           "title": {
            "standoff": 15
           },
           "zerolinecolor": "white",
           "zerolinewidth": 2
          },
          "yaxis": {
           "automargin": true,
           "gridcolor": "white",
           "linecolor": "white",
           "ticks": "",
           "title": {
            "standoff": 15
           },
           "zerolinecolor": "white",
           "zerolinewidth": 2
          }
         }
        },
        "title": {
         "text": "Preisverlauf von Bitcoin"
        },
        "xaxis": {
         "anchor": "y",
         "domain": [
          0,
          1
         ],
         "rangeslider": {
          "visible": true
         },
         "title": {
          "text": "time"
         }
        },
        "yaxis": {
         "anchor": "x",
         "domain": [
          0,
          1
         ],
         "title": {
          "text": "price"
         }
        }
       }
      }
     },
     "metadata": {},
     "output_type": "display_data"
    },
    {
     "ename": "InvalidArgument",
     "evalue": "400 Input text not set.",
     "output_type": "error",
     "traceback": [
      "\u001b[0;31m---------------------------------------------------------------------------\u001b[0m",
      "\u001b[0;31m_InactiveRpcError\u001b[0m                         Traceback (most recent call last)",
      "File \u001b[0;32m~/Projects/School/project-chatbot/chatbot-test/lib/python3.10/site-packages/google/api_core/grpc_helpers.py:72\u001b[0m, in \u001b[0;36m_wrap_unary_errors.<locals>.error_remapped_callable\u001b[0;34m(*args, **kwargs)\u001b[0m\n\u001b[1;32m     71\u001b[0m \u001b[39mtry\u001b[39;00m:\n\u001b[0;32m---> 72\u001b[0m     \u001b[39mreturn\u001b[39;00m callable_(\u001b[39m*\u001b[39;49margs, \u001b[39m*\u001b[39;49m\u001b[39m*\u001b[39;49mkwargs)\n\u001b[1;32m     73\u001b[0m \u001b[39mexcept\u001b[39;00m grpc\u001b[39m.\u001b[39mRpcError \u001b[39mas\u001b[39;00m exc:\n",
      "File \u001b[0;32m~/Projects/School/project-chatbot/chatbot-test/lib/python3.10/site-packages/grpc/_channel.py:946\u001b[0m, in \u001b[0;36m_UnaryUnaryMultiCallable.__call__\u001b[0;34m(self, request, timeout, metadata, credentials, wait_for_ready, compression)\u001b[0m\n\u001b[1;32m    944\u001b[0m state, call, \u001b[39m=\u001b[39m \u001b[39mself\u001b[39m\u001b[39m.\u001b[39m_blocking(request, timeout, metadata, credentials,\n\u001b[1;32m    945\u001b[0m                               wait_for_ready, compression)\n\u001b[0;32m--> 946\u001b[0m \u001b[39mreturn\u001b[39;00m _end_unary_response_blocking(state, call, \u001b[39mFalse\u001b[39;49;00m, \u001b[39mNone\u001b[39;49;00m)\n",
      "File \u001b[0;32m~/Projects/School/project-chatbot/chatbot-test/lib/python3.10/site-packages/grpc/_channel.py:849\u001b[0m, in \u001b[0;36m_end_unary_response_blocking\u001b[0;34m(state, call, with_call, deadline)\u001b[0m\n\u001b[1;32m    848\u001b[0m \u001b[39melse\u001b[39;00m:\n\u001b[0;32m--> 849\u001b[0m     \u001b[39mraise\u001b[39;00m _InactiveRpcError(state)\n",
      "\u001b[0;31m_InactiveRpcError\u001b[0m: <_InactiveRpcError of RPC that terminated with:\n\tstatus = StatusCode.INVALID_ARGUMENT\n\tdetails = \"Input text not set.\"\n\tdebug_error_string = \"UNKNOWN:Error received from peer ipv4:142.250.186.106:443 {created_time:\"2022-11-30T21:27:40.789292+01:00\", grpc_status:3, grpc_message:\"Input text not set.\"}\"\n>",
      "\nThe above exception was the direct cause of the following exception:\n",
      "\u001b[0;31mInvalidArgument\u001b[0m                           Traceback (most recent call last)",
      "Cell \u001b[0;32mIn [150], line 6\u001b[0m\n\u001b[1;32m      3\u001b[0m \u001b[39mif\u001b[39;00m (text \u001b[39m==\u001b[39m \u001b[39m'\u001b[39m\u001b[39mquit\u001b[39m\u001b[39m'\u001b[39m):\n\u001b[1;32m      4\u001b[0m     \u001b[39mbreak\u001b[39;00m\n\u001b[0;32m----> 6\u001b[0m detect_intent_result \u001b[39m=\u001b[39m detected_intent(text)\n\u001b[1;32m      7\u001b[0m result \u001b[39m=\u001b[39m parse_intent_response(detect_intent_result)\n\u001b[1;32m      8\u001b[0m crypto_result \u001b[39m=\u001b[39m result\u001b[39m.\u001b[39mcrypto_result\n",
      "Cell \u001b[0;32mIn [133], line 8\u001b[0m, in \u001b[0;36mdetected_intent\u001b[0;34m(text)\u001b[0m\n\u001b[1;32m      5\u001b[0m text_input \u001b[39m=\u001b[39m df\u001b[39m.\u001b[39mTextInput(text\u001b[39m=\u001b[39mtext, language_code\u001b[39m=\u001b[39mlanguage_code)\n\u001b[1;32m      6\u001b[0m query_input \u001b[39m=\u001b[39m df\u001b[39m.\u001b[39mQueryInput(text\u001b[39m=\u001b[39mtext_input)\n\u001b[0;32m----> 8\u001b[0m response \u001b[39m=\u001b[39m session_client\u001b[39m.\u001b[39;49mdetect_intent(\n\u001b[1;32m      9\u001b[0m     request \u001b[39m=\u001b[39;49m {\n\u001b[1;32m     10\u001b[0m         \u001b[39m'\u001b[39;49m\u001b[39msession\u001b[39;49m\u001b[39m'\u001b[39;49m: session,\n\u001b[1;32m     11\u001b[0m         \u001b[39m'\u001b[39;49m\u001b[39mquery_input\u001b[39;49m\u001b[39m'\u001b[39;49m: query_input\n\u001b[1;32m     12\u001b[0m     }\n\u001b[1;32m     13\u001b[0m )\n\u001b[1;32m     15\u001b[0m \u001b[39mreturn\u001b[39;00m response\n",
      "File \u001b[0;32m~/Projects/School/project-chatbot/chatbot-test/lib/python3.10/site-packages/google/cloud/dialogflow_v2/services/sessions/client.py:646\u001b[0m, in \u001b[0;36mSessionsClient.detect_intent\u001b[0;34m(self, request, session, query_input, retry, timeout, metadata)\u001b[0m\n\u001b[1;32m    641\u001b[0m metadata \u001b[39m=\u001b[39m \u001b[39mtuple\u001b[39m(metadata) \u001b[39m+\u001b[39m (\n\u001b[1;32m    642\u001b[0m     gapic_v1\u001b[39m.\u001b[39mrouting_header\u001b[39m.\u001b[39mto_grpc_metadata(((\u001b[39m\"\u001b[39m\u001b[39msession\u001b[39m\u001b[39m\"\u001b[39m, request\u001b[39m.\u001b[39msession),)),\n\u001b[1;32m    643\u001b[0m )\n\u001b[1;32m    645\u001b[0m \u001b[39m# Send the request.\u001b[39;00m\n\u001b[0;32m--> 646\u001b[0m response \u001b[39m=\u001b[39m rpc(\n\u001b[1;32m    647\u001b[0m     request,\n\u001b[1;32m    648\u001b[0m     retry\u001b[39m=\u001b[39;49mretry,\n\u001b[1;32m    649\u001b[0m     timeout\u001b[39m=\u001b[39;49mtimeout,\n\u001b[1;32m    650\u001b[0m     metadata\u001b[39m=\u001b[39;49mmetadata,\n\u001b[1;32m    651\u001b[0m )\n\u001b[1;32m    653\u001b[0m \u001b[39m# Done; return the response.\u001b[39;00m\n\u001b[1;32m    654\u001b[0m \u001b[39mreturn\u001b[39;00m response\n",
      "File \u001b[0;32m~/Projects/School/project-chatbot/chatbot-test/lib/python3.10/site-packages/google/api_core/gapic_v1/method.py:154\u001b[0m, in \u001b[0;36m_GapicCallable.__call__\u001b[0;34m(self, timeout, retry, *args, **kwargs)\u001b[0m\n\u001b[1;32m    151\u001b[0m     metadata\u001b[39m.\u001b[39mextend(\u001b[39mself\u001b[39m\u001b[39m.\u001b[39m_metadata)\n\u001b[1;32m    152\u001b[0m     kwargs[\u001b[39m\"\u001b[39m\u001b[39mmetadata\u001b[39m\u001b[39m\"\u001b[39m] \u001b[39m=\u001b[39m metadata\n\u001b[0;32m--> 154\u001b[0m \u001b[39mreturn\u001b[39;00m wrapped_func(\u001b[39m*\u001b[39;49margs, \u001b[39m*\u001b[39;49m\u001b[39m*\u001b[39;49mkwargs)\n",
      "File \u001b[0;32m~/Projects/School/project-chatbot/chatbot-test/lib/python3.10/site-packages/google/api_core/retry.py:283\u001b[0m, in \u001b[0;36mRetry.__call__.<locals>.retry_wrapped_func\u001b[0;34m(*args, **kwargs)\u001b[0m\n\u001b[1;32m    279\u001b[0m target \u001b[39m=\u001b[39m functools\u001b[39m.\u001b[39mpartial(func, \u001b[39m*\u001b[39margs, \u001b[39m*\u001b[39m\u001b[39m*\u001b[39mkwargs)\n\u001b[1;32m    280\u001b[0m sleep_generator \u001b[39m=\u001b[39m exponential_sleep_generator(\n\u001b[1;32m    281\u001b[0m     \u001b[39mself\u001b[39m\u001b[39m.\u001b[39m_initial, \u001b[39mself\u001b[39m\u001b[39m.\u001b[39m_maximum, multiplier\u001b[39m=\u001b[39m\u001b[39mself\u001b[39m\u001b[39m.\u001b[39m_multiplier\n\u001b[1;32m    282\u001b[0m )\n\u001b[0;32m--> 283\u001b[0m \u001b[39mreturn\u001b[39;00m retry_target(\n\u001b[1;32m    284\u001b[0m     target,\n\u001b[1;32m    285\u001b[0m     \u001b[39mself\u001b[39;49m\u001b[39m.\u001b[39;49m_predicate,\n\u001b[1;32m    286\u001b[0m     sleep_generator,\n\u001b[1;32m    287\u001b[0m     \u001b[39mself\u001b[39;49m\u001b[39m.\u001b[39;49m_deadline,\n\u001b[1;32m    288\u001b[0m     on_error\u001b[39m=\u001b[39;49mon_error,\n\u001b[1;32m    289\u001b[0m )\n",
      "File \u001b[0;32m~/Projects/School/project-chatbot/chatbot-test/lib/python3.10/site-packages/google/api_core/retry.py:190\u001b[0m, in \u001b[0;36mretry_target\u001b[0;34m(target, predicate, sleep_generator, deadline, on_error)\u001b[0m\n\u001b[1;32m    188\u001b[0m \u001b[39mfor\u001b[39;00m sleep \u001b[39min\u001b[39;00m sleep_generator:\n\u001b[1;32m    189\u001b[0m     \u001b[39mtry\u001b[39;00m:\n\u001b[0;32m--> 190\u001b[0m         \u001b[39mreturn\u001b[39;00m target()\n\u001b[1;32m    192\u001b[0m     \u001b[39m# pylint: disable=broad-except\u001b[39;00m\n\u001b[1;32m    193\u001b[0m     \u001b[39m# This function explicitly must deal with broad exceptions.\u001b[39;00m\n\u001b[1;32m    194\u001b[0m     \u001b[39mexcept\u001b[39;00m \u001b[39mException\u001b[39;00m \u001b[39mas\u001b[39;00m exc:\n",
      "File \u001b[0;32m~/Projects/School/project-chatbot/chatbot-test/lib/python3.10/site-packages/google/api_core/grpc_helpers.py:74\u001b[0m, in \u001b[0;36m_wrap_unary_errors.<locals>.error_remapped_callable\u001b[0;34m(*args, **kwargs)\u001b[0m\n\u001b[1;32m     72\u001b[0m     \u001b[39mreturn\u001b[39;00m callable_(\u001b[39m*\u001b[39margs, \u001b[39m*\u001b[39m\u001b[39m*\u001b[39mkwargs)\n\u001b[1;32m     73\u001b[0m \u001b[39mexcept\u001b[39;00m grpc\u001b[39m.\u001b[39mRpcError \u001b[39mas\u001b[39;00m exc:\n\u001b[0;32m---> 74\u001b[0m     \u001b[39mraise\u001b[39;00m exceptions\u001b[39m.\u001b[39mfrom_grpc_error(exc) \u001b[39mfrom\u001b[39;00m \u001b[39mexc\u001b[39;00m\n",
      "\u001b[0;31mInvalidArgument\u001b[0m: 400 Input text not set."
     ]
    }
   ],
   "source": [
    "while True:\n",
    "    text = input('You: ')\n",
    "    if (text == 'quit'):\n",
    "        break\n",
    "\n",
    "    detect_intent_result = detected_intent(text)\n",
    "    result = parse_intent_response(detect_intent_result)\n",
    "    print_result_to_console(result)"
   ]
  },
  {
   "cell_type": "markdown",
   "id": "c94d8487",
   "metadata": {},
   "source": []
  },
  {
   "cell_type": "code",
   "execution_count": 13,
   "id": "91f78aad",
   "metadata": {},
   "outputs": [],
   "source": [
    "class CoinDto:\n",
    "    def __init__(self: str, id: str, symbol, name: str):\n",
    "        self.id = id\n",
    "        self.symbol = symbol\n",
    "        self.name = name\n",
    "\n",
    "\n",
    "    id: str = None\n",
    "    symbol: str = None\n",
    "    name: str = None"
   ]
  },
  {
   "cell_type": "markdown",
   "id": "66d50c9a",
   "metadata": {},
   "source": [
    "### Entities auf Dialogflow anlegen \n"
   ]
  },
  {
   "cell_type": "code",
   "execution_count": 14,
   "id": "d0cbeff5",
   "metadata": {},
   "outputs": [],
   "source": [
    "def get_coin_list():\n",
    "    result = requests.get('https://api.coingecko.com/api/v3/coins/list').json()\n",
    "    ret = [CoinDto(r['id'], r['symbol'], r['name']) for r in result]\n",
    "    return ret "
   ]
  },
  {
   "cell_type": "code",
   "execution_count": null,
   "id": "9b6e8550",
   "metadata": {},
   "outputs": [],
   "source": []
  },
  {
   "cell_type": "code",
   "execution_count": null,
   "id": "818bb9d8",
   "metadata": {},
   "outputs": [],
   "source": []
  },
  {
   "cell_type": "code",
   "execution_count": null,
   "id": "7c42963c",
   "metadata": {},
   "outputs": [],
   "source": []
  },
  {
   "cell_type": "code",
   "execution_count": 117,
   "id": "3a9cb452",
   "metadata": {},
   "outputs": [
    {
     "name": "stdout",
     "output_type": "stream",
     "text": [
      "name: \"projects/school-project-hwq9/agent/entityTypes/843bbbf9-8678-4687-bee5-7587e319a100\"\n",
      "display_name: \"crypto\"\n",
      "kind: KIND_MAP\n",
      "entities {\n",
      "  value: \"bitcoin\"\n",
      "  synonyms: \"bitcoin\"\n",
      "  synonyms: \"btc\"\n",
      "  synonyms: \"test\"\n",
      "}\n",
      "entities {\n",
      "  value: \"ethereum\"\n",
      "  synonyms: \"ethereum\"\n",
      "  synonyms: \"eth\"\n",
      "}\n",
      "\n"
     ]
    },
    {
     "ename": "ValueError",
     "evalue": "Unknown field for CreateEntityTypeRequest: entities",
     "output_type": "error",
     "traceback": [
      "\u001b[0;31m---------------------------------------------------------------------------\u001b[0m",
      "\u001b[0;31mValueError\u001b[0m                                Traceback (most recent call last)",
      "Cell \u001b[0;32mIn [117], line 32\u001b[0m\n\u001b[1;32m     28\u001b[0m     entities\u001b[39m.\u001b[39mappend(entity)\n\u001b[1;32m     30\u001b[0m entity_type\u001b[39m.\u001b[39mentities \u001b[39m=\u001b[39m entities\n\u001b[0;32m---> 32\u001b[0m request \u001b[39m=\u001b[39m df\u001b[39m.\u001b[39;49mCreateEntityTypeRequest(\n\u001b[1;32m     33\u001b[0m         parent\u001b[39m=\u001b[39;49mcrypto_entity_id,\n\u001b[1;32m     34\u001b[0m         entities \u001b[39m=\u001b[39;49m entities,\n\u001b[1;32m     35\u001b[0m     )\n\u001b[1;32m     36\u001b[0m client\u001b[39m.\u001b[39mcreate_entity_type(request\u001b[39m=\u001b[39mrequest)\n",
      "File \u001b[0;32m~/Projects/School/project-chatbot/chatbot-test/lib/python3.10/site-packages/proto/message.py:565\u001b[0m, in \u001b[0;36mMessage.__init__\u001b[0;34m(self, mapping, ignore_unknown_fields, **kwargs)\u001b[0m\n\u001b[1;32m    562\u001b[0m     \u001b[39mif\u001b[39;00m ignore_unknown_fields:\n\u001b[1;32m    563\u001b[0m         \u001b[39mcontinue\u001b[39;00m\n\u001b[0;32m--> 565\u001b[0m     \u001b[39mraise\u001b[39;00m \u001b[39mValueError\u001b[39;00m(\n\u001b[1;32m    566\u001b[0m         \u001b[39m\"\u001b[39m\u001b[39mUnknown field for \u001b[39m\u001b[39m{}\u001b[39;00m\u001b[39m: \u001b[39m\u001b[39m{}\u001b[39;00m\u001b[39m\"\u001b[39m\u001b[39m.\u001b[39mformat(\u001b[39mself\u001b[39m\u001b[39m.\u001b[39m\u001b[39m__class__\u001b[39m\u001b[39m.\u001b[39m\u001b[39m__name__\u001b[39m, key)\n\u001b[1;32m    567\u001b[0m     )\n\u001b[1;32m    569\u001b[0m \u001b[39mtry\u001b[39;00m:\n\u001b[1;32m    570\u001b[0m     pb_value \u001b[39m=\u001b[39m marshal\u001b[39m.\u001b[39mto_proto(pb_type, value)\n",
      "\u001b[0;31mValueError\u001b[0m: Unknown field for CreateEntityTypeRequest: entities"
     ]
    }
   ],
   "source": [
    "client = df.EntityTypesClient()\n",
    "\n",
    "crypto_entity_id = '843bbbf9-8678-4687-bee5-7587e319a100'\n",
    "entity_path = client.entity_type_path(project_id, crypto_entity_id)\n",
    "parent_path = client.common_project_path(project_id)\n",
    "\n",
    "\n",
    "def get_entity_type():\n",
    "    request = df.GetEntityTypeRequest()\n",
    "    request.name = entity_path\n",
    "    return client.get_entity_type(request=request)\n",
    "\n",
    "print(get_entity_type())\n",
    "\n",
    "\n",
    "coins = get_coin_list()\n",
    "entities = []\n",
    "\n",
    "entity_type = df.EntityType()\n",
    "\n",
    "for i in range(5):\n",
    "    coin = coins[i]\n",
    "\n",
    "    entity = entity_type.Entity()\n",
    "    entity.value = coin.id\n",
    "    entity.synonyms = [coin.id, coin.name, coin.symbol]\n",
    "\n",
    "    entities.append(entity)\n",
    "\n",
    "entity_type.entities = entities\n",
    "\n",
    "request = df.CreateEntityTypeRequest(\n",
    "        parent=crypto_entity_id,\n",
    "        entities = entities,\n",
    "    )\n",
    "client.create_entity_type(request=request)\n",
    "\n",
    "\n"
   ]
  }
 ],
 "metadata": {
  "kernelspec": {
   "display_name": "chatbot-test",
   "language": "python",
   "name": "chatbot-test"
  },
  "language_info": {
   "codemirror_mode": {
    "name": "ipython",
    "version": 3
   },
   "file_extension": ".py",
   "mimetype": "text/x-python",
   "name": "python",
   "nbconvert_exporter": "python",
   "pygments_lexer": "ipython3",
   "version": "3.10.6"
  },
  "vscode": {
   "interpreter": {
    "hash": "31f2aee4e71d21fbe5cf8b01ff0e069b9275f58929596ceb00d14d90e3e16cd6"
   }
  }
 },
 "nbformat": 4,
 "nbformat_minor": 5
}
